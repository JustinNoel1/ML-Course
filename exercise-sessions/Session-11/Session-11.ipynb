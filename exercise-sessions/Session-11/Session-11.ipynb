{
 "cells": [
  {
   "cell_type": "markdown",
   "metadata": {},
   "source": [
    "## Problem Set 11\n",
    "\n",
    "First the exercise:\n",
    "* What is the maximum depth of a decision tree trained on $N$ samples?\n",
    "The decision tree must make a proper split at each node, so the size of each node must reduce by at least one as we move down one level. So the maximum depth of a  decision tree is $N-1$.\n",
    "* If we train a decision tree to an arbitrary depth, what will be the training error?\n",
    "Assuming the training data assigns unique labels to samples with identical features, this will be Zero. If we train a decision tree to arbitrary depth we will end up with a tree where each node contains samples with identical features. If each of these samples has the same label than any of the standard rules (voting, averaging) will return the correct response.\n",
    "* How can we alter a loss function to help regularize a decision tree?\n",
    "One of the simplest ways is to add to our loss function an increasing function of the depth of the node. For example, we could just add $\\lambda |D|$ or perhaps $\\lambda 2^|D|$ where $\\lambda$ is an appropriate hyperparameter (probably very small). One should choose so that growth of this regularization term so that it will not dominate the unregularized cost function when obtaining improvements at the desired rate. \n",
    "\n",
    "### Python Lab\n",
    "\n",
    "Now let us load our standard libraries."
   ]
  },
  {
   "cell_type": "code",
   "execution_count": 249,
   "metadata": {
    "collapsed": true
   },
   "outputs": [],
   "source": [
    "import numpy as np\n",
    "import pandas as pd"
   ]
  },
  {
   "cell_type": "markdown",
   "metadata": {},
   "source": [
    "Let us load the credit card dataset and extract a small dataframe of numerical features to test on."
   ]
  },
  {
   "cell_type": "code",
   "execution_count": 250,
   "metadata": {
    "collapsed": true
   },
   "outputs": [],
   "source": [
    "big_df = pd.read_csv(\"UCI_Credit_Card.csv\")"
   ]
  },
  {
   "cell_type": "code",
   "execution_count": 251,
   "metadata": {},
   "outputs": [
    {
     "data": {
      "text/html": [
       "<div>\n",
       "<style>\n",
       "    .dataframe thead tr:only-child th {\n",
       "        text-align: right;\n",
       "    }\n",
       "\n",
       "    .dataframe thead th {\n",
       "        text-align: left;\n",
       "    }\n",
       "\n",
       "    .dataframe tbody tr th {\n",
       "        vertical-align: top;\n",
       "    }\n",
       "</style>\n",
       "<table border=\"1\" class=\"dataframe\">\n",
       "  <thead>\n",
       "    <tr style=\"text-align: right;\">\n",
       "      <th></th>\n",
       "      <th>ID</th>\n",
       "      <th>LIMIT_BAL</th>\n",
       "      <th>SEX</th>\n",
       "      <th>EDUCATION</th>\n",
       "      <th>MARRIAGE</th>\n",
       "      <th>AGE</th>\n",
       "      <th>PAY_0</th>\n",
       "      <th>PAY_2</th>\n",
       "      <th>PAY_3</th>\n",
       "      <th>PAY_4</th>\n",
       "      <th>...</th>\n",
       "      <th>BILL_AMT4</th>\n",
       "      <th>BILL_AMT5</th>\n",
       "      <th>BILL_AMT6</th>\n",
       "      <th>PAY_AMT1</th>\n",
       "      <th>PAY_AMT2</th>\n",
       "      <th>PAY_AMT3</th>\n",
       "      <th>PAY_AMT4</th>\n",
       "      <th>PAY_AMT5</th>\n",
       "      <th>PAY_AMT6</th>\n",
       "      <th>default.payment.next.month</th>\n",
       "    </tr>\n",
       "  </thead>\n",
       "  <tbody>\n",
       "    <tr>\n",
       "      <th>0</th>\n",
       "      <td>1</td>\n",
       "      <td>20000.0</td>\n",
       "      <td>2</td>\n",
       "      <td>2</td>\n",
       "      <td>1</td>\n",
       "      <td>24</td>\n",
       "      <td>2</td>\n",
       "      <td>2</td>\n",
       "      <td>-1</td>\n",
       "      <td>-1</td>\n",
       "      <td>...</td>\n",
       "      <td>0.0</td>\n",
       "      <td>0.0</td>\n",
       "      <td>0.0</td>\n",
       "      <td>0.0</td>\n",
       "      <td>689.0</td>\n",
       "      <td>0.0</td>\n",
       "      <td>0.0</td>\n",
       "      <td>0.0</td>\n",
       "      <td>0.0</td>\n",
       "      <td>1</td>\n",
       "    </tr>\n",
       "    <tr>\n",
       "      <th>1</th>\n",
       "      <td>2</td>\n",
       "      <td>120000.0</td>\n",
       "      <td>2</td>\n",
       "      <td>2</td>\n",
       "      <td>2</td>\n",
       "      <td>26</td>\n",
       "      <td>-1</td>\n",
       "      <td>2</td>\n",
       "      <td>0</td>\n",
       "      <td>0</td>\n",
       "      <td>...</td>\n",
       "      <td>3272.0</td>\n",
       "      <td>3455.0</td>\n",
       "      <td>3261.0</td>\n",
       "      <td>0.0</td>\n",
       "      <td>1000.0</td>\n",
       "      <td>1000.0</td>\n",
       "      <td>1000.0</td>\n",
       "      <td>0.0</td>\n",
       "      <td>2000.0</td>\n",
       "      <td>1</td>\n",
       "    </tr>\n",
       "    <tr>\n",
       "      <th>2</th>\n",
       "      <td>3</td>\n",
       "      <td>90000.0</td>\n",
       "      <td>2</td>\n",
       "      <td>2</td>\n",
       "      <td>2</td>\n",
       "      <td>34</td>\n",
       "      <td>0</td>\n",
       "      <td>0</td>\n",
       "      <td>0</td>\n",
       "      <td>0</td>\n",
       "      <td>...</td>\n",
       "      <td>14331.0</td>\n",
       "      <td>14948.0</td>\n",
       "      <td>15549.0</td>\n",
       "      <td>1518.0</td>\n",
       "      <td>1500.0</td>\n",
       "      <td>1000.0</td>\n",
       "      <td>1000.0</td>\n",
       "      <td>1000.0</td>\n",
       "      <td>5000.0</td>\n",
       "      <td>0</td>\n",
       "    </tr>\n",
       "    <tr>\n",
       "      <th>3</th>\n",
       "      <td>4</td>\n",
       "      <td>50000.0</td>\n",
       "      <td>2</td>\n",
       "      <td>2</td>\n",
       "      <td>1</td>\n",
       "      <td>37</td>\n",
       "      <td>0</td>\n",
       "      <td>0</td>\n",
       "      <td>0</td>\n",
       "      <td>0</td>\n",
       "      <td>...</td>\n",
       "      <td>28314.0</td>\n",
       "      <td>28959.0</td>\n",
       "      <td>29547.0</td>\n",
       "      <td>2000.0</td>\n",
       "      <td>2019.0</td>\n",
       "      <td>1200.0</td>\n",
       "      <td>1100.0</td>\n",
       "      <td>1069.0</td>\n",
       "      <td>1000.0</td>\n",
       "      <td>0</td>\n",
       "    </tr>\n",
       "    <tr>\n",
       "      <th>4</th>\n",
       "      <td>5</td>\n",
       "      <td>50000.0</td>\n",
       "      <td>1</td>\n",
       "      <td>2</td>\n",
       "      <td>1</td>\n",
       "      <td>57</td>\n",
       "      <td>-1</td>\n",
       "      <td>0</td>\n",
       "      <td>-1</td>\n",
       "      <td>0</td>\n",
       "      <td>...</td>\n",
       "      <td>20940.0</td>\n",
       "      <td>19146.0</td>\n",
       "      <td>19131.0</td>\n",
       "      <td>2000.0</td>\n",
       "      <td>36681.0</td>\n",
       "      <td>10000.0</td>\n",
       "      <td>9000.0</td>\n",
       "      <td>689.0</td>\n",
       "      <td>679.0</td>\n",
       "      <td>0</td>\n",
       "    </tr>\n",
       "  </tbody>\n",
       "</table>\n",
       "<p>5 rows × 25 columns</p>\n",
       "</div>"
      ],
      "text/plain": [
       "   ID  LIMIT_BAL  SEX  EDUCATION  MARRIAGE  AGE  PAY_0  PAY_2  PAY_3  PAY_4  \\\n",
       "0   1    20000.0    2          2         1   24      2      2     -1     -1   \n",
       "1   2   120000.0    2          2         2   26     -1      2      0      0   \n",
       "2   3    90000.0    2          2         2   34      0      0      0      0   \n",
       "3   4    50000.0    2          2         1   37      0      0      0      0   \n",
       "4   5    50000.0    1          2         1   57     -1      0     -1      0   \n",
       "\n",
       "              ...              BILL_AMT4  BILL_AMT5  BILL_AMT6  PAY_AMT1  \\\n",
       "0             ...                    0.0        0.0        0.0       0.0   \n",
       "1             ...                 3272.0     3455.0     3261.0       0.0   \n",
       "2             ...                14331.0    14948.0    15549.0    1518.0   \n",
       "3             ...                28314.0    28959.0    29547.0    2000.0   \n",
       "4             ...                20940.0    19146.0    19131.0    2000.0   \n",
       "\n",
       "   PAY_AMT2  PAY_AMT3  PAY_AMT4  PAY_AMT5  PAY_AMT6  \\\n",
       "0     689.0       0.0       0.0       0.0       0.0   \n",
       "1    1000.0    1000.0    1000.0       0.0    2000.0   \n",
       "2    1500.0    1000.0    1000.0    1000.0    5000.0   \n",
       "3    2019.0    1200.0    1100.0    1069.0    1000.0   \n",
       "4   36681.0   10000.0    9000.0     689.0     679.0   \n",
       "\n",
       "   default.payment.next.month  \n",
       "0                           1  \n",
       "1                           1  \n",
       "2                           0  \n",
       "3                           0  \n",
       "4                           0  \n",
       "\n",
       "[5 rows x 25 columns]"
      ]
     },
     "execution_count": 251,
     "metadata": {},
     "output_type": "execute_result"
    }
   ],
   "source": [
    "big_df.head()"
   ]
  },
  {
   "cell_type": "code",
   "execution_count": 252,
   "metadata": {},
   "outputs": [
    {
     "data": {
      "text/plain": [
       "30000"
      ]
     },
     "execution_count": 252,
     "metadata": {},
     "output_type": "execute_result"
    }
   ],
   "source": [
    "len(big_df)"
   ]
  },
  {
   "cell_type": "code",
   "execution_count": 253,
   "metadata": {},
   "outputs": [
    {
     "data": {
      "text/plain": [
       "30000"
      ]
     },
     "execution_count": 253,
     "metadata": {},
     "output_type": "execute_result"
    }
   ],
   "source": [
    "len(big_df.dropna())"
   ]
  },
  {
   "cell_type": "code",
   "execution_count": 254,
   "metadata": {},
   "outputs": [],
   "source": [
    "df = big_df.drop(labels = ['ID'], axis = 1)"
   ]
  },
  {
   "cell_type": "code",
   "execution_count": 255,
   "metadata": {},
   "outputs": [],
   "source": [
    "labels = df['default.payment.next.month']\n",
    "df.drop('default.payment.next.month', axis = 1, inplace = True)"
   ]
  },
  {
   "cell_type": "code",
   "execution_count": 256,
   "metadata": {},
   "outputs": [],
   "source": [
    "num_samples = 25000"
   ]
  },
  {
   "cell_type": "code",
   "execution_count": 257,
   "metadata": {},
   "outputs": [],
   "source": [
    "train_x, train_y = df[0:num_samples], labels[0:num_samples]"
   ]
  },
  {
   "cell_type": "code",
   "execution_count": 258,
   "metadata": {
    "collapsed": true
   },
   "outputs": [],
   "source": [
    "test_x, test_y = df[num_samples:], labels[num_samples:]"
   ]
  },
  {
   "cell_type": "code",
   "execution_count": 259,
   "metadata": {},
   "outputs": [
    {
     "data": {
      "text/html": [
       "<div>\n",
       "<style>\n",
       "    .dataframe thead tr:only-child th {\n",
       "        text-align: right;\n",
       "    }\n",
       "\n",
       "    .dataframe thead th {\n",
       "        text-align: left;\n",
       "    }\n",
       "\n",
       "    .dataframe tbody tr th {\n",
       "        vertical-align: top;\n",
       "    }\n",
       "</style>\n",
       "<table border=\"1\" class=\"dataframe\">\n",
       "  <thead>\n",
       "    <tr style=\"text-align: right;\">\n",
       "      <th></th>\n",
       "      <th>LIMIT_BAL</th>\n",
       "      <th>SEX</th>\n",
       "      <th>EDUCATION</th>\n",
       "      <th>MARRIAGE</th>\n",
       "      <th>AGE</th>\n",
       "      <th>PAY_0</th>\n",
       "      <th>PAY_2</th>\n",
       "      <th>PAY_3</th>\n",
       "      <th>PAY_4</th>\n",
       "      <th>PAY_5</th>\n",
       "      <th>...</th>\n",
       "      <th>BILL_AMT3</th>\n",
       "      <th>BILL_AMT4</th>\n",
       "      <th>BILL_AMT5</th>\n",
       "      <th>BILL_AMT6</th>\n",
       "      <th>PAY_AMT1</th>\n",
       "      <th>PAY_AMT2</th>\n",
       "      <th>PAY_AMT3</th>\n",
       "      <th>PAY_AMT4</th>\n",
       "      <th>PAY_AMT5</th>\n",
       "      <th>PAY_AMT6</th>\n",
       "    </tr>\n",
       "  </thead>\n",
       "  <tbody>\n",
       "    <tr>\n",
       "      <th>25000</th>\n",
       "      <td>410000.0</td>\n",
       "      <td>1</td>\n",
       "      <td>1</td>\n",
       "      <td>1</td>\n",
       "      <td>38</td>\n",
       "      <td>-1</td>\n",
       "      <td>-1</td>\n",
       "      <td>-1</td>\n",
       "      <td>-1</td>\n",
       "      <td>-2</td>\n",
       "      <td>...</td>\n",
       "      <td>35509.0</td>\n",
       "      <td>0.0</td>\n",
       "      <td>0.0</td>\n",
       "      <td>0.0</td>\n",
       "      <td>0.0</td>\n",
       "      <td>35509.0</td>\n",
       "      <td>0.0</td>\n",
       "      <td>0.0</td>\n",
       "      <td>0.0</td>\n",
       "      <td>0.0</td>\n",
       "    </tr>\n",
       "    <tr>\n",
       "      <th>25001</th>\n",
       "      <td>260000.0</td>\n",
       "      <td>1</td>\n",
       "      <td>2</td>\n",
       "      <td>2</td>\n",
       "      <td>35</td>\n",
       "      <td>0</td>\n",
       "      <td>0</td>\n",
       "      <td>0</td>\n",
       "      <td>0</td>\n",
       "      <td>0</td>\n",
       "      <td>...</td>\n",
       "      <td>297313.0</td>\n",
       "      <td>276948.0</td>\n",
       "      <td>2378.0</td>\n",
       "      <td>-2709.0</td>\n",
       "      <td>12325.0</td>\n",
       "      <td>6633.0</td>\n",
       "      <td>6889.0</td>\n",
       "      <td>1025.0</td>\n",
       "      <td>2047.0</td>\n",
       "      <td>194102.0</td>\n",
       "    </tr>\n",
       "    <tr>\n",
       "      <th>25002</th>\n",
       "      <td>50000.0</td>\n",
       "      <td>1</td>\n",
       "      <td>2</td>\n",
       "      <td>1</td>\n",
       "      <td>40</td>\n",
       "      <td>0</td>\n",
       "      <td>0</td>\n",
       "      <td>0</td>\n",
       "      <td>0</td>\n",
       "      <td>0</td>\n",
       "      <td>...</td>\n",
       "      <td>11353.0</td>\n",
       "      <td>12143.0</td>\n",
       "      <td>11753.0</td>\n",
       "      <td>11922.0</td>\n",
       "      <td>1200.0</td>\n",
       "      <td>4000.0</td>\n",
       "      <td>2000.0</td>\n",
       "      <td>2000.0</td>\n",
       "      <td>1000.0</td>\n",
       "      <td>1000.0</td>\n",
       "    </tr>\n",
       "    <tr>\n",
       "      <th>25003</th>\n",
       "      <td>360000.0</td>\n",
       "      <td>1</td>\n",
       "      <td>3</td>\n",
       "      <td>1</td>\n",
       "      <td>37</td>\n",
       "      <td>-1</td>\n",
       "      <td>-1</td>\n",
       "      <td>-1</td>\n",
       "      <td>-2</td>\n",
       "      <td>-2</td>\n",
       "      <td>...</td>\n",
       "      <td>0.0</td>\n",
       "      <td>0.0</td>\n",
       "      <td>0.0</td>\n",
       "      <td>0.0</td>\n",
       "      <td>303.0</td>\n",
       "      <td>0.0</td>\n",
       "      <td>0.0</td>\n",
       "      <td>0.0</td>\n",
       "      <td>0.0</td>\n",
       "      <td>860.0</td>\n",
       "    </tr>\n",
       "    <tr>\n",
       "      <th>25004</th>\n",
       "      <td>50000.0</td>\n",
       "      <td>1</td>\n",
       "      <td>3</td>\n",
       "      <td>1</td>\n",
       "      <td>49</td>\n",
       "      <td>0</td>\n",
       "      <td>0</td>\n",
       "      <td>0</td>\n",
       "      <td>0</td>\n",
       "      <td>0</td>\n",
       "      <td>...</td>\n",
       "      <td>50076.0</td>\n",
       "      <td>48995.0</td>\n",
       "      <td>19780.0</td>\n",
       "      <td>15102.0</td>\n",
       "      <td>2000.0</td>\n",
       "      <td>5000.0</td>\n",
       "      <td>2305.0</td>\n",
       "      <td>3000.0</td>\n",
       "      <td>559.0</td>\n",
       "      <td>3000.0</td>\n",
       "    </tr>\n",
       "  </tbody>\n",
       "</table>\n",
       "<p>5 rows × 23 columns</p>\n",
       "</div>"
      ],
      "text/plain": [
       "       LIMIT_BAL  SEX  EDUCATION  MARRIAGE  AGE  PAY_0  PAY_2  PAY_3  PAY_4  \\\n",
       "25000   410000.0    1          1         1   38     -1     -1     -1     -1   \n",
       "25001   260000.0    1          2         2   35      0      0      0      0   \n",
       "25002    50000.0    1          2         1   40      0      0      0      0   \n",
       "25003   360000.0    1          3         1   37     -1     -1     -1     -2   \n",
       "25004    50000.0    1          3         1   49      0      0      0      0   \n",
       "\n",
       "       PAY_5    ...     BILL_AMT3  BILL_AMT4  BILL_AMT5  BILL_AMT6  PAY_AMT1  \\\n",
       "25000     -2    ...       35509.0        0.0        0.0        0.0       0.0   \n",
       "25001      0    ...      297313.0   276948.0     2378.0    -2709.0   12325.0   \n",
       "25002      0    ...       11353.0    12143.0    11753.0    11922.0    1200.0   \n",
       "25003     -2    ...           0.0        0.0        0.0        0.0     303.0   \n",
       "25004      0    ...       50076.0    48995.0    19780.0    15102.0    2000.0   \n",
       "\n",
       "       PAY_AMT2  PAY_AMT3  PAY_AMT4  PAY_AMT5  PAY_AMT6  \n",
       "25000   35509.0       0.0       0.0       0.0       0.0  \n",
       "25001    6633.0    6889.0    1025.0    2047.0  194102.0  \n",
       "25002    4000.0    2000.0    2000.0    1000.0    1000.0  \n",
       "25003       0.0       0.0       0.0       0.0     860.0  \n",
       "25004    5000.0    2305.0    3000.0     559.0    3000.0  \n",
       "\n",
       "[5 rows x 23 columns]"
      ]
     },
     "execution_count": 259,
     "metadata": {},
     "output_type": "execute_result"
    }
   ],
   "source": [
    "test_x.head()"
   ]
  },
  {
   "cell_type": "code",
   "execution_count": 260,
   "metadata": {},
   "outputs": [
    {
     "data": {
      "text/plain": [
       "0    1\n",
       "1    1\n",
       "2    0\n",
       "3    0\n",
       "4    0\n",
       "Name: default.payment.next.month, dtype: int64"
      ]
     },
     "execution_count": 260,
     "metadata": {},
     "output_type": "execute_result"
    }
   ],
   "source": [
    "train_y.head()"
   ]
  },
  {
   "cell_type": "markdown",
   "metadata": {},
   "source": [
    "Now let us write our transformation function."
   ]
  },
  {
   "cell_type": "code",
   "execution_count": 264,
   "metadata": {},
   "outputs": [],
   "source": [
    "class bin_transformer(object):\n",
    "    \n",
    "    def __init__(self, df, num_quantiles = 2):\n",
    "        self.quantiles = df.quantile(np.linspace(1./num_quantiles, 1.-1./num_quantiles,num_quantiles-1))\n",
    "            \n",
    "    \n",
    "    def transform(self, df):\n",
    "        new = pd.DataFrame()\n",
    "        fns = {}\n",
    "        for col_name in df.axes[1]:\n",
    "            for ix, q in self.quantiles.iterrows():\n",
    "                quart = q[col_name]\n",
    "                new[col_name+str(ix)] = (df[col_name] >= quart)\n",
    "                fns[col_name+str(ix)] =(col_name, lambda x: x[col_name]>=quart)\n",
    "        return new, fns"
   ]
  },
  {
   "cell_type": "code",
   "execution_count": 265,
   "metadata": {},
   "outputs": [],
   "source": [
    "transformer = bin_transformer(df,5)"
   ]
  },
  {
   "cell_type": "code",
   "execution_count": 266,
   "metadata": {},
   "outputs": [],
   "source": [
    "train_x_t, tr_fns = transformer.transform(train_x)"
   ]
  },
  {
   "cell_type": "code",
   "execution_count": 267,
   "metadata": {
    "collapsed": true
   },
   "outputs": [],
   "source": [
    "test_x_t, test_fns = transformer.transform(test_x)"
   ]
  },
  {
   "cell_type": "code",
   "execution_count": 268,
   "metadata": {},
   "outputs": [
    {
     "data": {
      "text/html": [
       "<div>\n",
       "<style>\n",
       "    .dataframe thead tr:only-child th {\n",
       "        text-align: right;\n",
       "    }\n",
       "\n",
       "    .dataframe thead th {\n",
       "        text-align: left;\n",
       "    }\n",
       "\n",
       "    .dataframe tbody tr th {\n",
       "        vertical-align: top;\n",
       "    }\n",
       "</style>\n",
       "<table border=\"1\" class=\"dataframe\">\n",
       "  <thead>\n",
       "    <tr style=\"text-align: right;\">\n",
       "      <th></th>\n",
       "      <th>LIMIT_BAL0.2</th>\n",
       "      <th>LIMIT_BAL0.4</th>\n",
       "      <th>LIMIT_BAL0.6</th>\n",
       "      <th>LIMIT_BAL0.8</th>\n",
       "      <th>SEX0.2</th>\n",
       "      <th>SEX0.4</th>\n",
       "      <th>SEX0.6</th>\n",
       "      <th>SEX0.8</th>\n",
       "      <th>EDUCATION0.2</th>\n",
       "      <th>EDUCATION0.4</th>\n",
       "      <th>...</th>\n",
       "      <th>PAY_AMT40.6</th>\n",
       "      <th>PAY_AMT40.8</th>\n",
       "      <th>PAY_AMT50.2</th>\n",
       "      <th>PAY_AMT50.4</th>\n",
       "      <th>PAY_AMT50.6</th>\n",
       "      <th>PAY_AMT50.8</th>\n",
       "      <th>PAY_AMT60.2</th>\n",
       "      <th>PAY_AMT60.4</th>\n",
       "      <th>PAY_AMT60.6</th>\n",
       "      <th>PAY_AMT60.8</th>\n",
       "    </tr>\n",
       "  </thead>\n",
       "  <tbody>\n",
       "    <tr>\n",
       "      <th>0</th>\n",
       "      <td>False</td>\n",
       "      <td>False</td>\n",
       "      <td>False</td>\n",
       "      <td>False</td>\n",
       "      <td>True</td>\n",
       "      <td>True</td>\n",
       "      <td>True</td>\n",
       "      <td>True</td>\n",
       "      <td>True</td>\n",
       "      <td>True</td>\n",
       "      <td>...</td>\n",
       "      <td>False</td>\n",
       "      <td>False</td>\n",
       "      <td>True</td>\n",
       "      <td>False</td>\n",
       "      <td>False</td>\n",
       "      <td>False</td>\n",
       "      <td>True</td>\n",
       "      <td>False</td>\n",
       "      <td>False</td>\n",
       "      <td>False</td>\n",
       "    </tr>\n",
       "    <tr>\n",
       "      <th>1</th>\n",
       "      <td>True</td>\n",
       "      <td>True</td>\n",
       "      <td>False</td>\n",
       "      <td>False</td>\n",
       "      <td>True</td>\n",
       "      <td>True</td>\n",
       "      <td>True</td>\n",
       "      <td>True</td>\n",
       "      <td>True</td>\n",
       "      <td>True</td>\n",
       "      <td>...</td>\n",
       "      <td>False</td>\n",
       "      <td>False</td>\n",
       "      <td>True</td>\n",
       "      <td>False</td>\n",
       "      <td>False</td>\n",
       "      <td>False</td>\n",
       "      <td>True</td>\n",
       "      <td>True</td>\n",
       "      <td>False</td>\n",
       "      <td>False</td>\n",
       "    </tr>\n",
       "    <tr>\n",
       "      <th>2</th>\n",
       "      <td>True</td>\n",
       "      <td>False</td>\n",
       "      <td>False</td>\n",
       "      <td>False</td>\n",
       "      <td>True</td>\n",
       "      <td>True</td>\n",
       "      <td>True</td>\n",
       "      <td>True</td>\n",
       "      <td>True</td>\n",
       "      <td>True</td>\n",
       "      <td>...</td>\n",
       "      <td>False</td>\n",
       "      <td>False</td>\n",
       "      <td>True</td>\n",
       "      <td>True</td>\n",
       "      <td>False</td>\n",
       "      <td>False</td>\n",
       "      <td>True</td>\n",
       "      <td>True</td>\n",
       "      <td>True</td>\n",
       "      <td>True</td>\n",
       "    </tr>\n",
       "    <tr>\n",
       "      <th>3</th>\n",
       "      <td>True</td>\n",
       "      <td>False</td>\n",
       "      <td>False</td>\n",
       "      <td>False</td>\n",
       "      <td>True</td>\n",
       "      <td>True</td>\n",
       "      <td>True</td>\n",
       "      <td>True</td>\n",
       "      <td>True</td>\n",
       "      <td>True</td>\n",
       "      <td>...</td>\n",
       "      <td>False</td>\n",
       "      <td>False</td>\n",
       "      <td>True</td>\n",
       "      <td>True</td>\n",
       "      <td>False</td>\n",
       "      <td>False</td>\n",
       "      <td>True</td>\n",
       "      <td>True</td>\n",
       "      <td>False</td>\n",
       "      <td>False</td>\n",
       "    </tr>\n",
       "    <tr>\n",
       "      <th>4</th>\n",
       "      <td>True</td>\n",
       "      <td>False</td>\n",
       "      <td>False</td>\n",
       "      <td>False</td>\n",
       "      <td>True</td>\n",
       "      <td>False</td>\n",
       "      <td>False</td>\n",
       "      <td>False</td>\n",
       "      <td>True</td>\n",
       "      <td>True</td>\n",
       "      <td>...</td>\n",
       "      <td>True</td>\n",
       "      <td>True</td>\n",
       "      <td>True</td>\n",
       "      <td>False</td>\n",
       "      <td>False</td>\n",
       "      <td>False</td>\n",
       "      <td>True</td>\n",
       "      <td>False</td>\n",
       "      <td>False</td>\n",
       "      <td>False</td>\n",
       "    </tr>\n",
       "  </tbody>\n",
       "</table>\n",
       "<p>5 rows × 92 columns</p>\n",
       "</div>"
      ],
      "text/plain": [
       "   LIMIT_BAL0.2  LIMIT_BAL0.4  LIMIT_BAL0.6  LIMIT_BAL0.8  SEX0.2  SEX0.4  \\\n",
       "0         False         False         False         False    True    True   \n",
       "1          True          True         False         False    True    True   \n",
       "2          True         False         False         False    True    True   \n",
       "3          True         False         False         False    True    True   \n",
       "4          True         False         False         False    True   False   \n",
       "\n",
       "   SEX0.6  SEX0.8  EDUCATION0.2  EDUCATION0.4     ...       PAY_AMT40.6  \\\n",
       "0    True    True          True          True     ...             False   \n",
       "1    True    True          True          True     ...             False   \n",
       "2    True    True          True          True     ...             False   \n",
       "3    True    True          True          True     ...             False   \n",
       "4   False   False          True          True     ...              True   \n",
       "\n",
       "   PAY_AMT40.8  PAY_AMT50.2  PAY_AMT50.4  PAY_AMT50.6  PAY_AMT50.8  \\\n",
       "0        False         True        False        False        False   \n",
       "1        False         True        False        False        False   \n",
       "2        False         True         True        False        False   \n",
       "3        False         True         True        False        False   \n",
       "4         True         True        False        False        False   \n",
       "\n",
       "   PAY_AMT60.2  PAY_AMT60.4  PAY_AMT60.6  PAY_AMT60.8  \n",
       "0         True        False        False        False  \n",
       "1         True         True        False        False  \n",
       "2         True         True         True         True  \n",
       "3         True         True        False        False  \n",
       "4         True        False        False        False  \n",
       "\n",
       "[5 rows x 92 columns]"
      ]
     },
     "execution_count": 268,
     "metadata": {},
     "output_type": "execute_result"
    }
   ],
   "source": [
    "train_x_t.head()"
   ]
  },
  {
   "cell_type": "code",
   "execution_count": 269,
   "metadata": {},
   "outputs": [
    {
     "data": {
      "text/plain": [
       "{'AGE0.2': ('AGE',\n",
       "  <function __main__.bin_transformer.transform.<locals>.<lambda>>),\n",
       " 'AGE0.4': ('AGE',\n",
       "  <function __main__.bin_transformer.transform.<locals>.<lambda>>),\n",
       " 'AGE0.6': ('AGE',\n",
       "  <function __main__.bin_transformer.transform.<locals>.<lambda>>),\n",
       " 'AGE0.8': ('AGE',\n",
       "  <function __main__.bin_transformer.transform.<locals>.<lambda>>),\n",
       " 'BILL_AMT10.2': ('BILL_AMT1',\n",
       "  <function __main__.bin_transformer.transform.<locals>.<lambda>>),\n",
       " 'BILL_AMT10.4': ('BILL_AMT1',\n",
       "  <function __main__.bin_transformer.transform.<locals>.<lambda>>),\n",
       " 'BILL_AMT10.6': ('BILL_AMT1',\n",
       "  <function __main__.bin_transformer.transform.<locals>.<lambda>>),\n",
       " 'BILL_AMT10.8': ('BILL_AMT1',\n",
       "  <function __main__.bin_transformer.transform.<locals>.<lambda>>),\n",
       " 'BILL_AMT20.2': ('BILL_AMT2',\n",
       "  <function __main__.bin_transformer.transform.<locals>.<lambda>>),\n",
       " 'BILL_AMT20.4': ('BILL_AMT2',\n",
       "  <function __main__.bin_transformer.transform.<locals>.<lambda>>),\n",
       " 'BILL_AMT20.6': ('BILL_AMT2',\n",
       "  <function __main__.bin_transformer.transform.<locals>.<lambda>>),\n",
       " 'BILL_AMT20.8': ('BILL_AMT2',\n",
       "  <function __main__.bin_transformer.transform.<locals>.<lambda>>),\n",
       " 'BILL_AMT30.2': ('BILL_AMT3',\n",
       "  <function __main__.bin_transformer.transform.<locals>.<lambda>>),\n",
       " 'BILL_AMT30.4': ('BILL_AMT3',\n",
       "  <function __main__.bin_transformer.transform.<locals>.<lambda>>),\n",
       " 'BILL_AMT30.6': ('BILL_AMT3',\n",
       "  <function __main__.bin_transformer.transform.<locals>.<lambda>>),\n",
       " 'BILL_AMT30.8': ('BILL_AMT3',\n",
       "  <function __main__.bin_transformer.transform.<locals>.<lambda>>),\n",
       " 'BILL_AMT40.2': ('BILL_AMT4',\n",
       "  <function __main__.bin_transformer.transform.<locals>.<lambda>>),\n",
       " 'BILL_AMT40.4': ('BILL_AMT4',\n",
       "  <function __main__.bin_transformer.transform.<locals>.<lambda>>),\n",
       " 'BILL_AMT40.6': ('BILL_AMT4',\n",
       "  <function __main__.bin_transformer.transform.<locals>.<lambda>>),\n",
       " 'BILL_AMT40.8': ('BILL_AMT4',\n",
       "  <function __main__.bin_transformer.transform.<locals>.<lambda>>),\n",
       " 'BILL_AMT50.2': ('BILL_AMT5',\n",
       "  <function __main__.bin_transformer.transform.<locals>.<lambda>>),\n",
       " 'BILL_AMT50.4': ('BILL_AMT5',\n",
       "  <function __main__.bin_transformer.transform.<locals>.<lambda>>),\n",
       " 'BILL_AMT50.6': ('BILL_AMT5',\n",
       "  <function __main__.bin_transformer.transform.<locals>.<lambda>>),\n",
       " 'BILL_AMT50.8': ('BILL_AMT5',\n",
       "  <function __main__.bin_transformer.transform.<locals>.<lambda>>),\n",
       " 'BILL_AMT60.2': ('BILL_AMT6',\n",
       "  <function __main__.bin_transformer.transform.<locals>.<lambda>>),\n",
       " 'BILL_AMT60.4': ('BILL_AMT6',\n",
       "  <function __main__.bin_transformer.transform.<locals>.<lambda>>),\n",
       " 'BILL_AMT60.6': ('BILL_AMT6',\n",
       "  <function __main__.bin_transformer.transform.<locals>.<lambda>>),\n",
       " 'BILL_AMT60.8': ('BILL_AMT6',\n",
       "  <function __main__.bin_transformer.transform.<locals>.<lambda>>),\n",
       " 'EDUCATION0.2': ('EDUCATION',\n",
       "  <function __main__.bin_transformer.transform.<locals>.<lambda>>),\n",
       " 'EDUCATION0.4': ('EDUCATION',\n",
       "  <function __main__.bin_transformer.transform.<locals>.<lambda>>),\n",
       " 'EDUCATION0.6': ('EDUCATION',\n",
       "  <function __main__.bin_transformer.transform.<locals>.<lambda>>),\n",
       " 'EDUCATION0.8': ('EDUCATION',\n",
       "  <function __main__.bin_transformer.transform.<locals>.<lambda>>),\n",
       " 'LIMIT_BAL0.2': ('LIMIT_BAL',\n",
       "  <function __main__.bin_transformer.transform.<locals>.<lambda>>),\n",
       " 'LIMIT_BAL0.4': ('LIMIT_BAL',\n",
       "  <function __main__.bin_transformer.transform.<locals>.<lambda>>),\n",
       " 'LIMIT_BAL0.6': ('LIMIT_BAL',\n",
       "  <function __main__.bin_transformer.transform.<locals>.<lambda>>),\n",
       " 'LIMIT_BAL0.8': ('LIMIT_BAL',\n",
       "  <function __main__.bin_transformer.transform.<locals>.<lambda>>),\n",
       " 'MARRIAGE0.2': ('MARRIAGE',\n",
       "  <function __main__.bin_transformer.transform.<locals>.<lambda>>),\n",
       " 'MARRIAGE0.4': ('MARRIAGE',\n",
       "  <function __main__.bin_transformer.transform.<locals>.<lambda>>),\n",
       " 'MARRIAGE0.6': ('MARRIAGE',\n",
       "  <function __main__.bin_transformer.transform.<locals>.<lambda>>),\n",
       " 'MARRIAGE0.8': ('MARRIAGE',\n",
       "  <function __main__.bin_transformer.transform.<locals>.<lambda>>),\n",
       " 'PAY_00.2': ('PAY_0',\n",
       "  <function __main__.bin_transformer.transform.<locals>.<lambda>>),\n",
       " 'PAY_00.4': ('PAY_0',\n",
       "  <function __main__.bin_transformer.transform.<locals>.<lambda>>),\n",
       " 'PAY_00.6': ('PAY_0',\n",
       "  <function __main__.bin_transformer.transform.<locals>.<lambda>>),\n",
       " 'PAY_00.8': ('PAY_0',\n",
       "  <function __main__.bin_transformer.transform.<locals>.<lambda>>),\n",
       " 'PAY_20.2': ('PAY_2',\n",
       "  <function __main__.bin_transformer.transform.<locals>.<lambda>>),\n",
       " 'PAY_20.4': ('PAY_2',\n",
       "  <function __main__.bin_transformer.transform.<locals>.<lambda>>),\n",
       " 'PAY_20.6': ('PAY_2',\n",
       "  <function __main__.bin_transformer.transform.<locals>.<lambda>>),\n",
       " 'PAY_20.8': ('PAY_2',\n",
       "  <function __main__.bin_transformer.transform.<locals>.<lambda>>),\n",
       " 'PAY_30.2': ('PAY_3',\n",
       "  <function __main__.bin_transformer.transform.<locals>.<lambda>>),\n",
       " 'PAY_30.4': ('PAY_3',\n",
       "  <function __main__.bin_transformer.transform.<locals>.<lambda>>),\n",
       " 'PAY_30.6': ('PAY_3',\n",
       "  <function __main__.bin_transformer.transform.<locals>.<lambda>>),\n",
       " 'PAY_30.8': ('PAY_3',\n",
       "  <function __main__.bin_transformer.transform.<locals>.<lambda>>),\n",
       " 'PAY_40.2': ('PAY_4',\n",
       "  <function __main__.bin_transformer.transform.<locals>.<lambda>>),\n",
       " 'PAY_40.4': ('PAY_4',\n",
       "  <function __main__.bin_transformer.transform.<locals>.<lambda>>),\n",
       " 'PAY_40.6': ('PAY_4',\n",
       "  <function __main__.bin_transformer.transform.<locals>.<lambda>>),\n",
       " 'PAY_40.8': ('PAY_4',\n",
       "  <function __main__.bin_transformer.transform.<locals>.<lambda>>),\n",
       " 'PAY_50.2': ('PAY_5',\n",
       "  <function __main__.bin_transformer.transform.<locals>.<lambda>>),\n",
       " 'PAY_50.4': ('PAY_5',\n",
       "  <function __main__.bin_transformer.transform.<locals>.<lambda>>),\n",
       " 'PAY_50.6': ('PAY_5',\n",
       "  <function __main__.bin_transformer.transform.<locals>.<lambda>>),\n",
       " 'PAY_50.8': ('PAY_5',\n",
       "  <function __main__.bin_transformer.transform.<locals>.<lambda>>),\n",
       " 'PAY_60.2': ('PAY_6',\n",
       "  <function __main__.bin_transformer.transform.<locals>.<lambda>>),\n",
       " 'PAY_60.4': ('PAY_6',\n",
       "  <function __main__.bin_transformer.transform.<locals>.<lambda>>),\n",
       " 'PAY_60.6': ('PAY_6',\n",
       "  <function __main__.bin_transformer.transform.<locals>.<lambda>>),\n",
       " 'PAY_60.8': ('PAY_6',\n",
       "  <function __main__.bin_transformer.transform.<locals>.<lambda>>),\n",
       " 'PAY_AMT10.2': ('PAY_AMT1',\n",
       "  <function __main__.bin_transformer.transform.<locals>.<lambda>>),\n",
       " 'PAY_AMT10.4': ('PAY_AMT1',\n",
       "  <function __main__.bin_transformer.transform.<locals>.<lambda>>),\n",
       " 'PAY_AMT10.6': ('PAY_AMT1',\n",
       "  <function __main__.bin_transformer.transform.<locals>.<lambda>>),\n",
       " 'PAY_AMT10.8': ('PAY_AMT1',\n",
       "  <function __main__.bin_transformer.transform.<locals>.<lambda>>),\n",
       " 'PAY_AMT20.2': ('PAY_AMT2',\n",
       "  <function __main__.bin_transformer.transform.<locals>.<lambda>>),\n",
       " 'PAY_AMT20.4': ('PAY_AMT2',\n",
       "  <function __main__.bin_transformer.transform.<locals>.<lambda>>),\n",
       " 'PAY_AMT20.6': ('PAY_AMT2',\n",
       "  <function __main__.bin_transformer.transform.<locals>.<lambda>>),\n",
       " 'PAY_AMT20.8': ('PAY_AMT2',\n",
       "  <function __main__.bin_transformer.transform.<locals>.<lambda>>),\n",
       " 'PAY_AMT30.2': ('PAY_AMT3',\n",
       "  <function __main__.bin_transformer.transform.<locals>.<lambda>>),\n",
       " 'PAY_AMT30.4': ('PAY_AMT3',\n",
       "  <function __main__.bin_transformer.transform.<locals>.<lambda>>),\n",
       " 'PAY_AMT30.6': ('PAY_AMT3',\n",
       "  <function __main__.bin_transformer.transform.<locals>.<lambda>>),\n",
       " 'PAY_AMT30.8': ('PAY_AMT3',\n",
       "  <function __main__.bin_transformer.transform.<locals>.<lambda>>),\n",
       " 'PAY_AMT40.2': ('PAY_AMT4',\n",
       "  <function __main__.bin_transformer.transform.<locals>.<lambda>>),\n",
       " 'PAY_AMT40.4': ('PAY_AMT4',\n",
       "  <function __main__.bin_transformer.transform.<locals>.<lambda>>),\n",
       " 'PAY_AMT40.6': ('PAY_AMT4',\n",
       "  <function __main__.bin_transformer.transform.<locals>.<lambda>>),\n",
       " 'PAY_AMT40.8': ('PAY_AMT4',\n",
       "  <function __main__.bin_transformer.transform.<locals>.<lambda>>),\n",
       " 'PAY_AMT50.2': ('PAY_AMT5',\n",
       "  <function __main__.bin_transformer.transform.<locals>.<lambda>>),\n",
       " 'PAY_AMT50.4': ('PAY_AMT5',\n",
       "  <function __main__.bin_transformer.transform.<locals>.<lambda>>),\n",
       " 'PAY_AMT50.6': ('PAY_AMT5',\n",
       "  <function __main__.bin_transformer.transform.<locals>.<lambda>>),\n",
       " 'PAY_AMT50.8': ('PAY_AMT5',\n",
       "  <function __main__.bin_transformer.transform.<locals>.<lambda>>),\n",
       " 'PAY_AMT60.2': ('PAY_AMT6',\n",
       "  <function __main__.bin_transformer.transform.<locals>.<lambda>>),\n",
       " 'PAY_AMT60.4': ('PAY_AMT6',\n",
       "  <function __main__.bin_transformer.transform.<locals>.<lambda>>),\n",
       " 'PAY_AMT60.6': ('PAY_AMT6',\n",
       "  <function __main__.bin_transformer.transform.<locals>.<lambda>>),\n",
       " 'PAY_AMT60.8': ('PAY_AMT6',\n",
       "  <function __main__.bin_transformer.transform.<locals>.<lambda>>),\n",
       " 'SEX0.2': ('SEX',\n",
       "  <function __main__.bin_transformer.transform.<locals>.<lambda>>),\n",
       " 'SEX0.4': ('SEX',\n",
       "  <function __main__.bin_transformer.transform.<locals>.<lambda>>),\n",
       " 'SEX0.6': ('SEX',\n",
       "  <function __main__.bin_transformer.transform.<locals>.<lambda>>),\n",
       " 'SEX0.8': ('SEX',\n",
       "  <function __main__.bin_transformer.transform.<locals>.<lambda>>)}"
      ]
     },
     "execution_count": 269,
     "metadata": {},
     "output_type": "execute_result"
    }
   ],
   "source": [
    "tr_fns"
   ]
  },
  {
   "cell_type": "markdown",
   "metadata": {},
   "source": [
    "Now let us build some simple loss functions for 1d labels."
   ]
  },
  {
   "cell_type": "code",
   "execution_count": 270,
   "metadata": {},
   "outputs": [],
   "source": [
    "def bdd_cross_entropy(pred, label):\n",
    "    return -np.mean(label*np.log(pred+10**(-20)))"
   ]
  },
  {
   "cell_type": "code",
   "execution_count": 271,
   "metadata": {},
   "outputs": [],
   "source": [
    "def MSE(pred,label):\n",
    "    return np.mean((pred-label)**2)"
   ]
  },
  {
   "cell_type": "code",
   "execution_count": 272,
   "metadata": {
    "collapsed": true
   },
   "outputs": [],
   "source": [
    "def acc(pred,label):\n",
    "    return np.mean((pred>=0.5)==(label == 1))"
   ]
  },
  {
   "cell_type": "markdown",
   "metadata": {},
   "source": [
    "Now let us define the find split function."
   ]
  },
  {
   "cell_type": "code",
   "execution_count": 273,
   "metadata": {},
   "outputs": [],
   "source": [
    "def find_split(x, y, loss, verbose = False):\n",
    "    min_ax = None\n",
    "    base_loss = loss(np.mean(y),y) \n",
    "    min_loss = base_loss\n",
    "    N = len(x)\n",
    "    for col_name in x.axes[1]:\n",
    "        mask = x[col_name]\n",
    "        num_pos = np.sum(mask)\n",
    "        num_neg = N - num_pos\n",
    "        pos_y = np.mean(y[mask])\n",
    "        neg_y = np.mean(y[~mask])\n",
    "        l = (num_pos*loss(pos_y, y[mask]) + num_neg*loss(neg_y, y[~mask]))/N\n",
    "        if verbose:\n",
    "            print(\"Column {0} split has improved loss {1}\".format(col_name, base_loss-l))\n",
    "        if l < min_loss:\n",
    "            min_loss = l\n",
    "            min_ax = col_name\n",
    "    return min_ax, min_loss\n",
    "        "
   ]
  },
  {
   "cell_type": "code",
   "execution_count": 278,
   "metadata": {},
   "outputs": [
    {
     "name": "stdout",
     "output_type": "stream",
     "text": [
      "Column LIMIT_BAL0.2 split has improved loss 0.0032026111833937665\n",
      "Column LIMIT_BAL0.4 split has improved loss 0.0036568972936314725\n",
      "Column LIMIT_BAL0.6 split has improved loss 0.002968295613244798\n",
      "Column LIMIT_BAL0.8 split has improved loss 0.0017932272689534512\n",
      "Column SEX0.2 split has improved loss nan\n",
      "Column SEX0.4 split has improved loss 0.0002155159725325817\n",
      "Column SEX0.6 split has improved loss 0.0002155159725325817\n",
      "Column SEX0.8 split has improved loss 0.0002155159725325817\n",
      "Column EDUCATION0.2 split has improved loss 2.3907091916103296e-05\n",
      "Column EDUCATION0.4 split has improved loss 0.0004640208803457502\n",
      "Column EDUCATION0.6 split has improved loss 0.0004640208803457502\n",
      "Column EDUCATION0.8 split has improved loss 0.0004640208803457502\n",
      "Column MARRIAGE0.2 split has improved loss 3.249086770407139e-05\n",
      "Column MARRIAGE0.4 split has improved loss 3.249086770407139e-05\n",
      "Column MARRIAGE0.6 split has improved loss 0.00014480802024710582\n",
      "Column MARRIAGE0.8 split has improved loss 0.00014480802024710582\n",
      "Column AGE0.2 split has improved loss 0.00020827243409601848\n",
      "Column AGE0.4 split has improved loss 9.960157279997883e-06\n",
      "Column AGE0.6 split has improved loss 4.117947427031976e-05\n",
      "Column AGE0.8 split has improved loss 8.124558376762514e-05\n",
      "Column PAY_00.2 split has improved loss 0.0008308647297025351\n",
      "Column PAY_00.4 split has improved loss 0.0015859674093304799\n",
      "Column PAY_00.6 split has improved loss 0.0015859674093304799\n",
      "Column PAY_00.8 split has improved loss 0.0233441901232099\n",
      "Column PAY_20.2 split has improved loss 0.0001876302154459608\n",
      "Column PAY_20.4 split has improved loss 0.0013149408868615708\n",
      "Column PAY_20.6 split has improved loss 0.0013149408868615708\n",
      "Column PAY_20.8 split has improved loss 0.0013149408868615708\n",
      "Column PAY_30.2 split has improved loss 0.00021161990136722708\n",
      "Column PAY_30.4 split has improved loss 0.0014198151850400298\n",
      "Column PAY_30.6 split has improved loss 0.0014198151850400298\n",
      "Column PAY_30.8 split has improved loss 0.0014198151850400298\n",
      "Column PAY_40.2 split has improved loss 0.00014702668290195176\n",
      "Column PAY_40.4 split has improved loss 0.00110110252994014\n",
      "Column PAY_40.6 split has improved loss 0.00110110252994014\n",
      "Column PAY_40.8 split has improved loss 0.00110110252994014\n",
      "Column PAY_50.2 split has improved loss 0.00011619585491220996\n",
      "Column PAY_50.4 split has improved loss 0.0010161714350968298\n",
      "Column PAY_50.6 split has improved loss 0.0010161714350968298\n",
      "Column PAY_50.8 split has improved loss 0.0010161714350968298\n",
      "Column PAY_60.2 split has improved loss 8.712841444399877e-05\n",
      "Column PAY_60.4 split has improved loss 0.0008042740411955129\n",
      "Column PAY_60.6 split has improved loss 0.0008042740411955129\n",
      "Column PAY_60.8 split has improved loss 0.0008042740411955129\n",
      "Column BILL_AMT10.2 split has improved loss 2.7784178714379548e-05\n",
      "Column BILL_AMT10.4 split has improved loss 2.7479974147037733e-06\n",
      "Column BILL_AMT10.6 split has improved loss 0.00016119710076237248\n",
      "Column BILL_AMT10.8 split has improved loss 0.00014701547170556384\n",
      "Column BILL_AMT20.2 split has improved loss 3.084283179743963e-06\n",
      "Column BILL_AMT20.4 split has improved loss 8.943772085073798e-06\n",
      "Column BILL_AMT20.6 split has improved loss 9.726534850079682e-05\n",
      "Column BILL_AMT20.8 split has improved loss 0.00010606002405513792\n",
      "Column BILL_AMT30.2 split has improved loss 1.2923238124601388e-05\n",
      "Column BILL_AMT30.4 split has improved loss 1.7703438644989244e-05\n",
      "Column BILL_AMT30.6 split has improved loss 5.7255048681065235e-05\n",
      "Column BILL_AMT30.8 split has improved loss 0.0001309855396841031\n",
      "Column BILL_AMT40.2 split has improved loss 1.5757691495227322e-05\n",
      "Column BILL_AMT40.4 split has improved loss 4.552825379744441e-05\n",
      "Column BILL_AMT40.6 split has improved loss 1.5198874939420515e-05\n",
      "Column BILL_AMT40.8 split has improved loss 5.0114289508379484e-05\n",
      "Column BILL_AMT50.2 split has improved loss 2.5681591047099772e-05\n",
      "Column BILL_AMT50.4 split has improved loss 4.704167867383702e-05\n",
      "Column BILL_AMT50.6 split has improved loss 7.104706449934106e-06\n",
      "Column BILL_AMT50.8 split has improved loss 4.3105571633450523e-05\n",
      "Column BILL_AMT60.2 split has improved loss 1.1070212941444169e-05\n",
      "Column BILL_AMT60.4 split has improved loss 7.89154272805015e-05\n",
      "Column BILL_AMT60.6 split has improved loss 1.1814881573091185e-08\n",
      "Column BILL_AMT60.8 split has improved loss 2.5239692683282078e-05\n",
      "Column PAY_AMT10.2 split has improved loss 0.0037338214207645604\n",
      "Column PAY_AMT10.4 split has improved loss 0.0025958239617459855\n",
      "Column PAY_AMT10.6 split has improved loss 0.0026823429188202186\n",
      "Column PAY_AMT10.8 split has improved loss 0.0018958312033806879\n",
      "Column PAY_AMT20.2 split has improved loss 0.0026740961203186864\n",
      "Column PAY_AMT20.4 split has improved loss 0.002413157179305403\n",
      "Column PAY_AMT20.6 split has improved loss 0.0022468726365486025\n",
      "Column PAY_AMT20.8 split has improved loss 0.001975166038548831\n",
      "Column PAY_AMT30.2 split has improved loss 0.002428229767294232\n",
      "Column PAY_AMT30.4 split has improved loss 0.0017518742462117598\n",
      "Column PAY_AMT30.6 split has improved loss 0.0019701352550884066\n",
      "Column PAY_AMT30.8 split has improved loss 0.001262546288527816\n",
      "Column PAY_AMT40.2 split has improved loss nan\n",
      "Column PAY_AMT40.4 split has improved loss 0.0016828468720352097\n",
      "Column PAY_AMT40.6 split has improved loss 0.001992080354384307\n",
      "Column PAY_AMT40.8 split has improved loss 0.001509125693650304\n",
      "Column PAY_AMT50.2 split has improved loss nan\n",
      "Column PAY_AMT50.4 split has improved loss 0.0013987996480574194\n",
      "Column PAY_AMT50.6 split has improved loss 0.0015722436951876306\n",
      "Column PAY_AMT50.8 split has improved loss 0.0013770421197525917\n",
      "Column PAY_AMT60.2 split has improved loss nan\n",
      "Column PAY_AMT60.4 split has improved loss 0.0016595462220761747\n",
      "Column PAY_AMT60.6 split has improved loss 0.0019163958366781864\n",
      "Column PAY_AMT60.8 split has improved loss 0.0017002531220795536\n"
     ]
    },
    {
     "data": {
      "text/plain": [
       "('PAY_00.8', 0.14999327547679009)"
      ]
     },
     "execution_count": 278,
     "metadata": {},
     "output_type": "execute_result"
    }
   ],
   "source": [
    "find_split(train_x_t, train_y, MSE, verbose = True)"
   ]
  },
  {
   "cell_type": "code",
   "execution_count": 279,
   "metadata": {},
   "outputs": [
    {
     "data": {
      "text/plain": [
       "('PAY_00.8', 0.29117246034455752)"
      ]
     },
     "execution_count": 279,
     "metadata": {},
     "output_type": "execute_result"
    }
   ],
   "source": [
    "find_split(train_x_t, train_y, bdd_cross_entropy, verbose = 0)"
   ]
  },
  {
   "cell_type": "code",
   "execution_count": 280,
   "metadata": {},
   "outputs": [
    {
     "data": {
      "text/plain": [
       "(None, 0.77688000000000001)"
      ]
     },
     "execution_count": 280,
     "metadata": {},
     "output_type": "execute_result"
    }
   ],
   "source": [
    "find_split(train_x_t, train_y, acc, verbose = 0)"
   ]
  },
  {
   "cell_type": "code",
   "execution_count": 281,
   "metadata": {},
   "outputs": [
    {
     "data": {
      "text/plain": [
       "0.19974715549936789"
      ]
     },
     "execution_count": 281,
     "metadata": {},
     "output_type": "execute_result"
    }
   ],
   "source": [
    "np.mean(train_y[train_x_t['PAY_00.8']])"
   ]
  },
  {
   "cell_type": "code",
   "execution_count": 283,
   "metadata": {},
   "outputs": [
    {
     "data": {
      "text/plain": [
       "0.13956871914783062"
      ]
     },
     "execution_count": 283,
     "metadata": {},
     "output_type": "execute_result"
    }
   ],
   "source": [
    "np.mean(train_y[~train_x_t['PAY_00.8']])"
   ]
  },
  {
   "cell_type": "code",
   "execution_count": 284,
   "metadata": {},
   "outputs": [
    {
     "data": {
      "text/plain": [
       "0.21648985128130602"
      ]
     },
     "execution_count": 284,
     "metadata": {},
     "output_type": "execute_result"
    }
   ],
   "source": [
    "np.mean(train_y[train_x_t['AGE0.2']])"
   ]
  },
  {
   "cell_type": "code",
   "execution_count": 285,
   "metadata": {},
   "outputs": [
    {
     "data": {
      "text/plain": [
       "0.25453293550608219"
      ]
     },
     "execution_count": 285,
     "metadata": {},
     "output_type": "execute_result"
    }
   ],
   "source": [
    "np.mean(train_y[~train_x_t['AGE0.2']])"
   ]
  }
 ],
 "metadata": {
  "kernelspec": {
   "display_name": "Python 3",
   "language": "python",
   "name": "python3"
  },
  "language_info": {
   "codemirror_mode": {
    "name": "ipython",
    "version": 3
   },
   "file_extension": ".py",
   "mimetype": "text/x-python",
   "name": "python",
   "nbconvert_exporter": "python",
   "pygments_lexer": "ipython3",
   "version": "3.6.1"
  }
 },
 "nbformat": 4,
 "nbformat_minor": 2
}
