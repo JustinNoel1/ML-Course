{
 "cells": [
  {
   "cell_type": "markdown",
   "metadata": {},
   "source": [
    "## Problem Set 13\n",
    "\n",
    "First the exercises:\n",
    "* The exercise did not specify a loss function, but let us assume the standard average cross entropy function. To simplify things let us not use biases. Then the logistic regression model involves the following functions:\n",
    "\\begin{align}\n",
    "f(x,W_1) &= xW_1 \\\\\n",
    "g(f) & = e^f \\textrm{(pointwise)} \\\\\n",
    "p(g) &= \\sum \\pi_i g \\textrm{ (sum across all vectors in sample)} \\\\\n",
    "h(g, p) &= g/p \\textrm{ (applied sample wise)} \\\\\n",
    "logp(p) &= log(p+epsilon) \\textrm{ (epsilon is some small constant to avoid underflow)}\\\\\n",
    "sub(f,logp) &= f-logp \\textrm{ (broadcast) } \\\\\n",
    "pl(y,sub) &= y \\cdot sub \\textrm{ (Hadamard product)} \\\\\n",
    "l(p1) &= mean(pl) \\textrm{ (samplewise)}\\\\\n",
    "al(pl) &=mean(pl) \n",
    "\\end{align}\n",
    "\n",
    "Here $h$ yields the predictions, $l$ yields the samplewise cross entropy, $al$ yields the average cross entropy.\n",
    "\n",
    "Now we have to figure out the weight update rule. For this we need to calculate $\\frac{dal}{dW_1}$ by the chain rule.\n",
    "\n",
    "Here is a simplified form\n",
    "\\begin{align}\n",
    " \\frac{dal}{dW_1} &= \\frac{dal}{dl}(\\frac{dl}{dsub} \\left(\\frac{dsub}{df}\\frac{df}{dW_1}+\\frac{dsub}{dlogp}\\frac{dlogp}{dW_1}\\right)\\\\\n",
    " \\frac{df}{dW_1}_{(s,a,b,c,d)} &= x_{(s,a,c)}\\delta(b==d) \\\\\n",
    " \\frac{dlogp}{dW_1} &=\\frac{dlogp}{dp}\\frac{dp}{dg}\\frac{dg}{df}\\frac{df}{dW_1}\\\\\n",
    " \\frac{dg}{df}_{(s,a,b,c)} &= e^f \\delta(s==b)\\delta(a==c) \\\\\n",
    " \\frac{dp}{dg}_{(s,a,b)} &= \\delta(s==b)\n",
    "\\end{align}\n",
    "\n",
    "### Python Lab\n",
    "\n",
    "Now let us load our standard libraries."
   ]
  },
  {
   "cell_type": "code",
   "execution_count": 1,
   "metadata": {},
   "outputs": [
    {
     "name": "stderr",
     "output_type": "stream",
     "text": [
      "Using TensorFlow backend.\n"
     ]
    }
   ],
   "source": [
    "import numpy as np\n",
    "import pandas as pd\n",
    "import keras\n",
    "from keras.datasets import mnist"
   ]
  },
  {
   "cell_type": "markdown",
   "metadata": {},
   "source": [
    "Let us load up a sample dataset."
   ]
  },
  {
   "cell_type": "code",
   "execution_count": 2,
   "metadata": {
    "collapsed": true
   },
   "outputs": [],
   "source": [
    "(x_train, y_train), (x_test, y_test) = mnist.load_data()"
   ]
  },
  {
   "cell_type": "code",
   "execution_count": 3,
   "metadata": {},
   "outputs": [
    {
     "data": {
      "text/plain": [
       "(60000, 28, 28)"
      ]
     },
     "execution_count": 3,
     "metadata": {},
     "output_type": "execute_result"
    }
   ],
   "source": [
    "x_train.shape"
   ]
  },
  {
   "cell_type": "code",
   "execution_count": 4,
   "metadata": {
    "collapsed": true
   },
   "outputs": [],
   "source": [
    "import matplotlib.pyplot as plt"
   ]
  },
  {
   "cell_type": "code",
   "execution_count": 5,
   "metadata": {
    "collapsed": true
   },
   "outputs": [],
   "source": [
    "%matplotlib inline"
   ]
  },
  {
   "cell_type": "code",
   "execution_count": 6,
   "metadata": {},
   "outputs": [
    {
     "name": "stdout",
     "output_type": "stream",
     "text": [
      "Label is 1.\n"
     ]
    },
    {
     "data": {
      "image/png": "[encoded data removed]",
      "text/plain": [
       "<matplotlib.figure.Figure at 0x118c01a20>"
      ]
     },
     "metadata": {},
     "output_type": "display_data"
    }
   ],
   "source": [
    "randix = np.random.randint(0,60000)\n",
    "plt.imshow(x_train[randix])\n",
    "print(\"Label is {}.\".format(y_train[randix]))"
   ]
  },
  {
   "cell_type": "code",
   "execution_count": 7,
   "metadata": {
    "collapsed": true
   },
   "outputs": [],
   "source": [
    "x_train_f = x_train.reshape(60000,-1)"
   ]
  },
  {
   "cell_type": "code",
   "execution_count": 8,
   "metadata": {},
   "outputs": [
    {
     "data": {
      "text/plain": [
       "(60000, 784)"
      ]
     },
     "execution_count": 8,
     "metadata": {},
     "output_type": "execute_result"
    }
   ],
   "source": [
    "x_train_f.shape"
   ]
  },
  {
   "cell_type": "code",
   "execution_count": 9,
   "metadata": {
    "collapsed": true
   },
   "outputs": [],
   "source": [
    "x_test_f = x_test.reshape(-1, 28**2)"
   ]
  },
  {
   "cell_type": "code",
   "execution_count": 23,
   "metadata": {},
   "outputs": [
    {
     "data": {
      "text/plain": [
       "(10000, 784)"
      ]
     },
     "execution_count": 23,
     "metadata": {},
     "output_type": "execute_result"
    }
   ],
   "source": [
    "x_test_f.shape"
   ]
  },
  {
   "cell_type": "code",
   "execution_count": 24,
   "metadata": {
    "collapsed": true
   },
   "outputs": [],
   "source": [
    "from sklearn.preprocessing import StandardScaler"
   ]
  },
  {
   "cell_type": "code",
   "execution_count": 25,
   "metadata": {
    "collapsed": true
   },
   "outputs": [],
   "source": [
    "scaler = StandardScaler()"
   ]
  },
  {
   "cell_type": "code",
   "execution_count": 26,
   "metadata": {},
   "outputs": [
    {
     "name": "stderr",
     "output_type": "stream",
     "text": [
      "/Users/justin/anaconda/envs/py36/lib/python3.6/site-packages/sklearn/utils/validation.py:429: DataConversionWarning: Data with input dtype uint8 was converted to float64 by StandardScaler.\n",
      "  warnings.warn(msg, _DataConversionWarning)\n"
     ]
    },
    {
     "data": {
      "text/plain": [
       "StandardScaler(copy=True, with_mean=True, with_std=True)"
      ]
     },
     "execution_count": 26,
     "metadata": {},
     "output_type": "execute_result"
    }
   ],
   "source": [
    "scaler.fit(x_train_f)"
   ]
  },
  {
   "cell_type": "code",
   "execution_count": 27,
   "metadata": {},
   "outputs": [
    {
     "name": "stderr",
     "output_type": "stream",
     "text": [
      "/Users/justin/anaconda/envs/py36/lib/python3.6/site-packages/sklearn/utils/validation.py:429: DataConversionWarning: Data with input dtype uint8 was converted to float64 by StandardScaler.\n",
      "  warnings.warn(msg, _DataConversionWarning)\n"
     ]
    }
   ],
   "source": [
    "train_x_tr = scaler.transform(x_train_f)"
   ]
  },
  {
   "cell_type": "code",
   "execution_count": 28,
   "metadata": {},
   "outputs": [
    {
     "name": "stderr",
     "output_type": "stream",
     "text": [
      "/Users/justin/anaconda/envs/py36/lib/python3.6/site-packages/sklearn/utils/validation.py:429: DataConversionWarning: Data with input dtype uint8 was converted to float64 by StandardScaler.\n",
      "  warnings.warn(msg, _DataConversionWarning)\n"
     ]
    }
   ],
   "source": [
    "test_x_tr = scaler.transform(x_test_f)"
   ]
  },
  {
   "cell_type": "code",
   "execution_count": 11,
   "metadata": {
    "collapsed": true
   },
   "outputs": [],
   "source": [
    "from sklearn.preprocessing import OneHotEncoder as OHE"
   ]
  },
  {
   "cell_type": "code",
   "execution_count": 12,
   "metadata": {
    "collapsed": true
   },
   "outputs": [],
   "source": [
    "ohe = OHE(sparse = False)\n",
    "y_train_ohe = ohe.fit_transform(y_train.reshape(-1,1))\n",
    "y_test_ohe = ohe.fit_transform(y_test.reshape(-1,1))"
   ]
  },
  {
   "cell_type": "code",
   "execution_count": 14,
   "metadata": {},
   "outputs": [
    {
     "data": {
      "text/plain": [
       "True"
      ]
     },
     "execution_count": 14,
     "metadata": {},
     "output_type": "execute_result"
    }
   ],
   "source": [
    "np.argmax(y_train_ohe[randix]) == y_train[randix]"
   ]
  },
  {
   "cell_type": "code",
   "execution_count": 40,
   "metadata": {
    "collapsed": true
   },
   "outputs": [],
   "source": [
    "from keras.models import Sequential\n",
    "from keras.layers import Dense, Dropout, BatchNormalization"
   ]
  },
  {
   "cell_type": "code",
   "execution_count": 18,
   "metadata": {
    "collapsed": true
   },
   "outputs": [],
   "source": [
    "logreg = Sequential()"
   ]
  },
  {
   "cell_type": "code",
   "execution_count": 19,
   "metadata": {
    "collapsed": true
   },
   "outputs": [],
   "source": [
    "logreg.add(Dense(10,activation='softmax',input_dim = (28**2)))"
   ]
  },
  {
   "cell_type": "code",
   "execution_count": 20,
   "metadata": {
    "collapsed": true
   },
   "outputs": [],
   "source": [
    "from keras.optimizers import Adam, SGD"
   ]
  },
  {
   "cell_type": "code",
   "execution_count": 22,
   "metadata": {},
   "outputs": [],
   "source": [
    "logreg.compile(optimizer=Adam(),\n",
    "             loss='categorical_crossentropy',\n",
    "             metrics=['accuracy'])"
   ]
  },
  {
   "cell_type": "code",
   "execution_count": 30,
   "metadata": {},
   "outputs": [
    {
     "name": "stdout",
     "output_type": "stream",
     "text": [
      "Train on 57000 samples, validate on 3000 samples\n",
      "Epoch 1/25\n",
      "57000/57000 [==============================] - 1s - loss: 0.4622 - acc: 0.8704 - val_loss: 0.2408 - val_acc: 0.9353\n",
      "Epoch 2/25\n",
      "57000/57000 [==============================] - 1s - loss: 0.3149 - acc: 0.9145 - val_loss: 0.2305 - val_acc: 0.9420\n",
      "Epoch 3/25\n",
      "57000/57000 [==============================] - 1s - loss: 0.2950 - acc: 0.9206 - val_loss: 0.2324 - val_acc: 0.9420\n",
      "Epoch 4/25\n",
      "57000/57000 [==============================] - 1s - loss: 0.2844 - acc: 0.9229 - val_loss: 0.2295 - val_acc: 0.9430\n",
      "Epoch 5/25\n",
      "57000/57000 [==============================] - 1s - loss: 0.2779 - acc: 0.9256 - val_loss: 0.2262 - val_acc: 0.9433\n",
      "Epoch 6/25\n",
      "57000/57000 [==============================] - 1s - loss: 0.2723 - acc: 0.9274 - val_loss: 0.2285 - val_acc: 0.9450\n",
      "Epoch 7/25\n",
      "57000/57000 [==============================] - 1s - loss: 0.2681 - acc: 0.9283 - val_loss: 0.2306 - val_acc: 0.9447\n",
      "Epoch 8/25\n",
      "57000/57000 [==============================] - 1s - loss: 0.2664 - acc: 0.9278 - val_loss: 0.2360 - val_acc: 0.9460\n",
      "Epoch 9/25\n",
      "57000/57000 [==============================] - 1s - loss: 0.2631 - acc: 0.9295 - val_loss: 0.2377 - val_acc: 0.9410\n",
      "Epoch 10/25\n",
      "57000/57000 [==============================] - 1s - loss: 0.2615 - acc: 0.9296 - val_loss: 0.2355 - val_acc: 0.9437\n",
      "Epoch 11/25\n",
      "57000/57000 [==============================] - 1s - loss: 0.2597 - acc: 0.9300 - val_loss: 0.2457 - val_acc: 0.9430\n",
      "Epoch 12/25\n",
      "57000/57000 [==============================] - 1s - loss: 0.2585 - acc: 0.9306 - val_loss: 0.2405 - val_acc: 0.9447\n",
      "Epoch 13/25\n",
      "57000/57000 [==============================] - 1s - loss: 0.2570 - acc: 0.9306 - val_loss: 0.2445 - val_acc: 0.9390\n",
      "Epoch 14/25\n",
      "57000/57000 [==============================] - 1s - loss: 0.2554 - acc: 0.9315 - val_loss: 0.2376 - val_acc: 0.9453\n",
      "Epoch 15/25\n",
      "57000/57000 [==============================] - 1s - loss: 0.2544 - acc: 0.9308 - val_loss: 0.2465 - val_acc: 0.9440\n",
      "Epoch 16/25\n",
      "57000/57000 [==============================] - 1s - loss: 0.2534 - acc: 0.9323 - val_loss: 0.2393 - val_acc: 0.9410\n",
      "Epoch 17/25\n",
      "57000/57000 [==============================] - 1s - loss: 0.2527 - acc: 0.9317 - val_loss: 0.2495 - val_acc: 0.9393\n",
      "Epoch 18/25\n",
      "57000/57000 [==============================] - 1s - loss: 0.2524 - acc: 0.9324 - val_loss: 0.2471 - val_acc: 0.9403\n",
      "Epoch 19/25\n",
      "57000/57000 [==============================] - 1s - loss: 0.2512 - acc: 0.9321 - val_loss: 0.2505 - val_acc: 0.9407\n",
      "Epoch 20/25\n",
      "57000/57000 [==============================] - 1s - loss: 0.2505 - acc: 0.9318 - val_loss: 0.2475 - val_acc: 0.9413\n",
      "Epoch 21/25\n",
      "57000/57000 [==============================] - 1s - loss: 0.2497 - acc: 0.9334 - val_loss: 0.2487 - val_acc: 0.9433\n",
      "Epoch 22/25\n",
      "57000/57000 [==============================] - 1s - loss: 0.2489 - acc: 0.9325 - val_loss: 0.2483 - val_acc: 0.9433\n",
      "Epoch 23/25\n",
      "57000/57000 [==============================] - 1s - loss: 0.2487 - acc: 0.9328 - val_loss: 0.2518 - val_acc: 0.9420\n",
      "Epoch 24/25\n",
      "57000/57000 [==============================] - 1s - loss: 0.2482 - acc: 0.9325 - val_loss: 0.2574 - val_acc: 0.9400\n",
      "Epoch 25/25\n",
      "57000/57000 [==============================] - 1s - loss: 0.2483 - acc: 0.9329 - val_loss: 0.2508 - val_acc: 0.9433\n"
     ]
    }
   ],
   "source": [
    "history=logreg.fit(train_x_tr, y_train_ohe, validation_split=0.05,\n",
    "                 epochs=25, batch_size=64)"
   ]
  },
  {
   "cell_type": "code",
   "execution_count": 37,
   "metadata": {},
   "outputs": [
    {
     "data": {
      "text/plain": [
       "[<matplotlib.lines.Line2D at 0x1342a0f98>]"
      ]
     },
     "execution_count": 37,
     "metadata": {},
     "output_type": "execute_result"
    },
    {
     "data": {
      "image/png": "[encoded data removed]",
      "text/plain": [
       "<matplotlib.figure.Figure at 0x134231c18>"
      ]
     },
     "metadata": {},
     "output_type": "display_data"
    }
   ],
   "source": [
    "plt.plot(history.history['acc'])"
   ]
  },
  {
   "cell_type": "code",
   "execution_count": 38,
   "metadata": {},
   "outputs": [
    {
     "data": {
      "text/plain": [
       "[<matplotlib.lines.Line2D at 0x1344799e8>]"
      ]
     },
     "execution_count": 38,
     "metadata": {},
     "output_type": "execute_result"
    },
    {
     "data": {
      "image/png": "[encoded data removed]",
      "text/plain": [
       "<matplotlib.figure.Figure at 0x1340a52b0>"
      ]
     },
     "metadata": {},
     "output_type": "display_data"
    }
   ],
   "source": [
    "plt.plot(history.history['val_acc'])"
   ]
  },
  {
   "cell_type": "code",
   "execution_count": 62,
   "metadata": {
    "collapsed": true
   },
   "outputs": [],
   "source": [
    "deep = Sequential()"
   ]
  },
  {
   "cell_type": "code",
   "execution_count": 63,
   "metadata": {},
   "outputs": [],
   "source": [
    "deep.add(Dense(256, activation = 'relu', input_dim = (28**2)))"
   ]
  },
  {
   "cell_type": "code",
   "execution_count": 64,
   "metadata": {},
   "outputs": [],
   "source": [
    "deep.add(Dropout(0.2))"
   ]
  },
  {
   "cell_type": "code",
   "execution_count": 65,
   "metadata": {
    "collapsed": true
   },
   "outputs": [],
   "source": [
    "deep.add(Dense(128,activation = 'relu'))"
   ]
  },
  {
   "cell_type": "code",
   "execution_count": 66,
   "metadata": {},
   "outputs": [],
   "source": [
    "deep.add(Dropout(0.2))"
   ]
  },
  {
   "cell_type": "code",
   "execution_count": 67,
   "metadata": {
    "collapsed": true
   },
   "outputs": [],
   "source": [
    "deep.add(Dense(64,activation = 'relu'))"
   ]
  },
  {
   "cell_type": "code",
   "execution_count": 68,
   "metadata": {},
   "outputs": [],
   "source": [
    "deep.add(Dropout(0.2))"
   ]
  },
  {
   "cell_type": "code",
   "execution_count": 69,
   "metadata": {
    "collapsed": true
   },
   "outputs": [],
   "source": [
    "deep.add(Dense(10,activation = 'softmax'))"
   ]
  },
  {
   "cell_type": "code",
   "execution_count": 70,
   "metadata": {
    "collapsed": true
   },
   "outputs": [],
   "source": [
    "deep.compile(optimizer=Adam(),\n",
    "             loss='categorical_crossentropy',\n",
    "             metrics=['accuracy'])"
   ]
  },
  {
   "cell_type": "code",
   "execution_count": 71,
   "metadata": {},
   "outputs": [
    {
     "name": "stdout",
     "output_type": "stream",
     "text": [
      "Train on 57000 samples, validate on 3000 samples\n",
      "Epoch 1/25\n",
      "57000/57000 [==============================] - 4s - loss: 0.3828 - acc: 0.8863 - val_loss: 0.1097 - val_acc: 0.9683\n",
      "Epoch 2/25\n",
      "57000/57000 [==============================] - 4s - loss: 0.1952 - acc: 0.9437 - val_loss: 0.0968 - val_acc: 0.9753\n",
      "Epoch 3/25\n",
      "57000/57000 [==============================] - 4s - loss: 0.1520 - acc: 0.9555 - val_loss: 0.0861 - val_acc: 0.9757\n",
      "Epoch 4/25\n",
      "57000/57000 [==============================] - 4s - loss: 0.1281 - acc: 0.9632 - val_loss: 0.0875 - val_acc: 0.9773\n",
      "Epoch 5/25\n",
      "57000/57000 [==============================] - 4s - loss: 0.1121 - acc: 0.9671 - val_loss: 0.0897 - val_acc: 0.9777\n",
      "Epoch 6/25\n",
      "57000/57000 [==============================] - 4s - loss: 0.0995 - acc: 0.9714 - val_loss: 0.0950 - val_acc: 0.9783\n",
      "Epoch 7/25\n",
      "57000/57000 [==============================] - 4s - loss: 0.0922 - acc: 0.9731 - val_loss: 0.0810 - val_acc: 0.9800\n",
      "Epoch 8/25\n",
      "57000/57000 [==============================] - 4s - loss: 0.0840 - acc: 0.9749 - val_loss: 0.0852 - val_acc: 0.9820\n",
      "Epoch 9/25\n",
      "57000/57000 [==============================] - 4s - loss: 0.0765 - acc: 0.9774 - val_loss: 0.0766 - val_acc: 0.9840\n",
      "Epoch 10/25\n",
      "57000/57000 [==============================] - 4s - loss: 0.0769 - acc: 0.9783 - val_loss: 0.0831 - val_acc: 0.9810\n",
      "Epoch 11/25\n",
      "57000/57000 [==============================] - 4s - loss: 0.0690 - acc: 0.9798 - val_loss: 0.0845 - val_acc: 0.9810\n",
      "Epoch 12/25\n",
      "57000/57000 [==============================] - 4s - loss: 0.0604 - acc: 0.9822 - val_loss: 0.0982 - val_acc: 0.9817\n",
      "Epoch 13/25\n",
      "57000/57000 [==============================] - 4s - loss: 0.0595 - acc: 0.9822 - val_loss: 0.0977 - val_acc: 0.9807\n",
      "Epoch 14/25\n",
      "57000/57000 [==============================] - 4s - loss: 0.0553 - acc: 0.9835 - val_loss: 0.0810 - val_acc: 0.9823\n",
      "Epoch 15/25\n",
      "57000/57000 [==============================] - 4s - loss: 0.0551 - acc: 0.9845 - val_loss: 0.0899 - val_acc: 0.9807\n",
      "Epoch 16/25\n",
      "57000/57000 [==============================] - 3s - loss: 0.0532 - acc: 0.9840 - val_loss: 0.0794 - val_acc: 0.9817\n",
      "Epoch 17/25\n",
      "57000/57000 [==============================] - 3s - loss: 0.0500 - acc: 0.9856 - val_loss: 0.0840 - val_acc: 0.9787\n",
      "Epoch 18/25\n",
      "57000/57000 [==============================] - 3s - loss: 0.0480 - acc: 0.9860 - val_loss: 0.0849 - val_acc: 0.9827\n",
      "Epoch 19/25\n",
      "57000/57000 [==============================] - 3s - loss: 0.0456 - acc: 0.9863 - val_loss: 0.0875 - val_acc: 0.9817\n",
      "Epoch 20/25\n",
      "57000/57000 [==============================] - 3s - loss: 0.0442 - acc: 0.9873 - val_loss: 0.1048 - val_acc: 0.9803\n",
      "Epoch 21/25\n",
      "57000/57000 [==============================] - 3s - loss: 0.0446 - acc: 0.9875 - val_loss: 0.0860 - val_acc: 0.9837\n",
      "Epoch 22/25\n",
      "57000/57000 [==============================] - 3s - loss: 0.0422 - acc: 0.9878 - val_loss: 0.0890 - val_acc: 0.9830\n",
      "Epoch 23/25\n",
      "57000/57000 [==============================] - 3s - loss: 0.0409 - acc: 0.9877 - val_loss: 0.0892 - val_acc: 0.9823\n",
      "Epoch 24/25\n",
      "57000/57000 [==============================] - 4s - loss: 0.0394 - acc: 0.9880 - val_loss: 0.0957 - val_acc: 0.9843\n",
      "Epoch 25/25\n",
      "57000/57000 [==============================] - 4s - loss: 0.0381 - acc: 0.9890 - val_loss: 0.0872 - val_acc: 0.9837\n"
     ]
    }
   ],
   "source": [
    "history2=deep.fit(train_x_tr, y_train_ohe, validation_split=0.05,\n",
    "                 epochs=25, batch_size=64)"
   ]
  },
  {
   "cell_type": "code",
   "execution_count": 88,
   "metadata": {},
   "outputs": [],
   "source": [
    "from keras.layers import Conv2D, GlobalAveragePooling2D"
   ]
  },
  {
   "cell_type": "code",
   "execution_count": 83,
   "metadata": {
    "collapsed": true
   },
   "outputs": [],
   "source": [
    "train_x_re = train_x_tr.reshape(-1,28,28,1)"
   ]
  },
  {
   "cell_type": "code",
   "execution_count": 93,
   "metadata": {},
   "outputs": [],
   "source": [
    "CNN = Sequential()"
   ]
  },
  {
   "cell_type": "code",
   "execution_count": 94,
   "metadata": {},
   "outputs": [],
   "source": [
    "CNN.add(Conv2D(filters = 16, kernel_size = (3,3), padding = 'SAME',input_shape = (28,28,1), activation = 'relu'))"
   ]
  },
  {
   "cell_type": "code",
   "execution_count": 95,
   "metadata": {
    "collapsed": true
   },
   "outputs": [],
   "source": [
    "CNN.add(Conv2D(filters = 32, kernel_size = (3,3), padding = 'SAME', activation = 'relu'))"
   ]
  },
  {
   "cell_type": "code",
   "execution_count": 96,
   "metadata": {
    "collapsed": true
   },
   "outputs": [],
   "source": [
    "CNN.add(Conv2D(filters = 64, kernel_size = (3,3), padding = 'SAME', activation = 'relu'))"
   ]
  },
  {
   "cell_type": "code",
   "execution_count": 97,
   "metadata": {
    "collapsed": true
   },
   "outputs": [],
   "source": [
    "CNN.add(GlobalAveragePooling2D())"
   ]
  },
  {
   "cell_type": "code",
   "execution_count": 98,
   "metadata": {
    "collapsed": true
   },
   "outputs": [],
   "source": [
    "CNN.add(Dense(10,activation='softmax'))"
   ]
  },
  {
   "cell_type": "code",
   "execution_count": 99,
   "metadata": {
    "collapsed": true
   },
   "outputs": [],
   "source": [
    "CNN.compile(optimizer=Adam(),\n",
    "             loss='categorical_crossentropy',\n",
    "             metrics=['accuracy'])"
   ]
  },
  {
   "cell_type": "code",
   "execution_count": 100,
   "metadata": {},
   "outputs": [
    {
     "name": "stdout",
     "output_type": "stream",
     "text": [
      "Train on 57000 samples, validate on 3000 samples\n",
      "Epoch 1/25\n",
      "57000/57000 [==============================] - 88s - loss: 1.4696 - acc: 0.4872 - val_loss: 0.8768 - val_acc: 0.7490\n",
      "Epoch 2/25\n",
      "57000/57000 [==============================] - 86s - loss: 0.8037 - acc: 0.7588 - val_loss: 0.5660 - val_acc: 0.8610\n",
      "Epoch 3/25\n",
      "57000/57000 [==============================] - 86s - loss: 0.5973 - acc: 0.8276 - val_loss: 0.5143 - val_acc: 0.8413\n",
      "Epoch 4/25\n",
      "57000/57000 [==============================] - 86s - loss: 0.4874 - acc: 0.8607 - val_loss: 0.3775 - val_acc: 0.8937\n",
      "Epoch 5/25\n",
      "57000/57000 [==============================] - 86s - loss: 0.4188 - acc: 0.8808 - val_loss: 0.3267 - val_acc: 0.9067\n",
      "Epoch 6/25\n",
      "57000/57000 [==============================] - 86s - loss: 0.3590 - acc: 0.8967 - val_loss: 0.3364 - val_acc: 0.8970\n",
      "Epoch 7/25\n",
      "57000/57000 [==============================] - 86s - loss: 0.3227 - acc: 0.9066 - val_loss: 0.2335 - val_acc: 0.9323\n",
      "Epoch 8/25\n",
      "57000/57000 [==============================] - 86s - loss: 0.2887 - acc: 0.9172 - val_loss: 0.2236 - val_acc: 0.9377\n",
      "Epoch 9/25\n",
      "57000/57000 [==============================] - 87s - loss: 0.2629 - acc: 0.9255 - val_loss: 0.2114 - val_acc: 0.9413\n",
      "Epoch 10/25\n",
      "57000/57000 [==============================] - 85s - loss: 0.2467 - acc: 0.9295 - val_loss: 0.1958 - val_acc: 0.9460\n",
      "Epoch 11/25\n",
      "57000/57000 [==============================] - 84s - loss: 0.2231 - acc: 0.9365 - val_loss: 0.1812 - val_acc: 0.9527\n",
      "Epoch 12/25\n",
      "57000/57000 [==============================] - 84s - loss: 0.2068 - acc: 0.9406 - val_loss: 0.1624 - val_acc: 0.9553\n",
      "Epoch 13/25\n",
      "57000/57000 [==============================] - 83s - loss: 0.1974 - acc: 0.9442 - val_loss: 0.1693 - val_acc: 0.9533\n",
      "Epoch 14/25\n",
      "57000/57000 [==============================] - 83s - loss: 0.1861 - acc: 0.9469 - val_loss: 0.1706 - val_acc: 0.9530\n",
      "Epoch 15/25\n",
      "57000/57000 [==============================] - 83s - loss: 0.1769 - acc: 0.9495 - val_loss: 0.1247 - val_acc: 0.9667\n",
      "Epoch 16/25\n",
      "57000/57000 [==============================] - 84s - loss: 0.1663 - acc: 0.9520 - val_loss: 0.1521 - val_acc: 0.9610\n",
      "Epoch 17/25\n",
      "57000/57000 [==============================] - 84s - loss: 0.1575 - acc: 0.9546 - val_loss: 0.1330 - val_acc: 0.9627\n",
      "Epoch 18/25\n",
      "57000/57000 [==============================] - 84s - loss: 0.1514 - acc: 0.9560 - val_loss: 0.1134 - val_acc: 0.9690\n",
      "Epoch 19/25\n",
      "57000/57000 [==============================] - 84s - loss: 0.1432 - acc: 0.9586 - val_loss: 0.1221 - val_acc: 0.9677\n",
      "Epoch 20/25\n",
      "57000/57000 [==============================] - 84s - loss: 0.1390 - acc: 0.9590 - val_loss: 0.1339 - val_acc: 0.9640\n",
      "Epoch 21/25\n",
      "57000/57000 [==============================] - 84s - loss: 0.1314 - acc: 0.9613 - val_loss: 0.1105 - val_acc: 0.9683\n",
      "Epoch 22/25\n",
      "57000/57000 [==============================] - 84s - loss: 0.1270 - acc: 0.9624 - val_loss: 0.0966 - val_acc: 0.9740\n",
      "Epoch 23/25\n",
      "57000/57000 [==============================] - 84s - loss: 0.1258 - acc: 0.9636 - val_loss: 0.1046 - val_acc: 0.9677\n",
      "Epoch 24/25\n",
      "57000/57000 [==============================] - 84s - loss: 0.1161 - acc: 0.9663 - val_loss: 0.0900 - val_acc: 0.9757\n",
      "Epoch 25/25\n",
      "57000/57000 [==============================] - 84s - loss: 0.1148 - acc: 0.9663 - val_loss: 0.0962 - val_acc: 0.9747\n"
     ]
    }
   ],
   "source": [
    "history3=CNN.fit(train_x_re, y_train_ohe, validation_split=0.05,\n",
    "                 epochs=25, batch_size=64)"
   ]
  }
 ],
 "metadata": {
  "kernelspec": {
   "display_name": "Python 3",
   "language": "python",
   "name": "python3"
  },
  "language_info": {
   "codemirror_mode": {
    "name": "ipython",
    "version": 3
   },
   "file_extension": ".py",
   "mimetype": "text/x-python",
   "name": "python",
   "nbconvert_exporter": "python",
   "pygments_lexer": "ipython3",
   "version": "3.6.1"
  }
 },
 "nbformat": 4,
 "nbformat_minor": 2
}
