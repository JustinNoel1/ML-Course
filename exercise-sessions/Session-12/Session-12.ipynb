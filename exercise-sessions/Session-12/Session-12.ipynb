{
 "cells": [
  {
   "cell_type": "markdown",
   "metadata": {},
   "source": [
    "## Problem Set 12\n",
    "\n",
    "First the exercises:\n",
    "* Let $\\mu=\\frac{1}{|S|}\\sum_{x_i\\in S} x_i$ let us expand \n",
    "\\begin{align*}\n",
    "\\sum_{x_i\\in S} ||x_i-\\mu||^2 &=\\sum_{x_i\\in S}(x_i-\\mu)^T(x_i-\\mu)\\\\\n",
    "    &= |S|\\mu^T\\mu+\\sum_{x_i\\in S}\\left( x_i^Tx_i-2\\mu^T x_i \\right) \\\\\n",
    "    &= \\frac{1}{|S|}\\left(\\sum_{(x_i,x_j)\\in S\\times S} x_i^T x_j\\right) + \\sum_{x_i\\in S} \\left( x_i^Tx_i-\\frac{2}{|S|}\\left(\\sum_{x_j\\in S} x_j^T x_i\\right)\\right)\\\\\n",
    "      &= \\sum_{x_i\\in S} x_i^Tx_i-\\frac{1}{|S|}\\sum_{(x_i,x_j)\\in S\\times S} x_j^T x_i\\\\\n",
    "      &= \\frac{1}{2}\\left(\\sum_{x_i\\in S} x_i^Tx_i-\\frac{2}{|S|}\\sum_{(x_i,x_j)\\in S\\times S} x_j^T x_i+\\sum_{x_j\\in S} x_j^Tx_j \\right)\\\\\n",
    "      &= \\frac{1}{2|S|}\\left(\\sum_{(x_i,x_j)\\in S\\times S} x_i^Tx_i-2\\sum_{(x_i,x_j)\\in S\\times S} x_j^T x_i+\\sum_{(x_i,x_j)\\in S\\times S} x_j^Tx_j \\right)\\\\\n",
    "      &= \\frac{1}{2|S|}\\sum_{(x_i,x_j)\\in S\\times S} (x_i-x_j)^T(x_i-x_j)\\\\\n",
    "      &= \\frac{1}{2|S|}\\sum_{(x_i,x_j)\\in S\\times S} ||x_i-x_j||^2\n",
    "\\end{align*}\n",
    "as desired.\n",
    "* So the $K$-means algorithm consists of iterations of two steps, we will show that either the algorithm has stabilized or that each of these steps decreases\n",
    "\\[ T=\\sum_{c=1}^K \\sum_{x_i\\in S_c}||x_i-\\mu_c||^2,\\] where $S_c$ is the $c$th cluster and $\\mu_c$ is the previously defined mean over that cluster. The sequence defined by these sums is therefore monotonically decreasing and bounded below so it will eventually approach the maximal lower bound. \n",
    "\n",
    "The value of $\\mu$ that minimizes $\\sum_{x_i\\in S_c}||x_i-\\mu||^2$ is $\\frac{1}{|S_c|}\\sum_{x_i\\in S_c} x_i$ (we can check this by setting the derivative with respect to $\\mu$ to zero). So updating the mean estimates will never increase $T$. If we do not update the mean estimates than the cluster assignments will not change on the next step. \n",
    "\n",
    "The next step maps samples to their closest mean which can only decrease the sum $T$.\n",
    "\n",
    "### Python Lab\n",
    "\n",
    "Now let us load our standard libraries."
   ]
  },
  {
   "cell_type": "code",
   "execution_count": 67,
   "metadata": {},
   "outputs": [],
   "source": [
    "import numpy as np\n",
    "import pandas as pd\n",
    "import keras\n",
    "from keras.datasets import mnist"
   ]
  },
  {
   "cell_type": "markdown",
   "metadata": {},
   "source": [
    "Let us load up a sample dataset."
   ]
  },
  {
   "cell_type": "code",
   "execution_count": 68,
   "metadata": {
    "collapsed": true
   },
   "outputs": [],
   "source": [
    "(x_train, y_train), (x_test, y_test) = mnist.load_data()"
   ]
  },
  {
   "cell_type": "code",
   "execution_count": 69,
   "metadata": {},
   "outputs": [
    {
     "data": {
      "text/plain": [
       "(60000, 28, 28)"
      ]
     },
     "execution_count": 69,
     "metadata": {},
     "output_type": "execute_result"
    }
   ],
   "source": [
    "x_train.shape"
   ]
  },
  {
   "cell_type": "code",
   "execution_count": 70,
   "metadata": {
    "collapsed": true
   },
   "outputs": [],
   "source": [
    "import matplotlib.pyplot as plt"
   ]
  },
  {
   "cell_type": "code",
   "execution_count": 71,
   "metadata": {
    "collapsed": true
   },
   "outputs": [],
   "source": [
    "%matplotlib inline"
   ]
  },
  {
   "cell_type": "code",
   "execution_count": 72,
   "metadata": {},
   "outputs": [
    {
     "name": "stdout",
     "output_type": "stream",
     "text": [
      "Label is 2.\n"
     ]
    },
    {
     "data": {
      "image/png": "[encoded data removed]",
      "text/plain": [
       "<matplotlib.figure.Figure at 0x13344ed30>"
      ]
     },
     "metadata": {},
     "output_type": "display_data"
    }
   ],
   "source": [
    "randix = np.random.randint(0,60000)\n",
    "plt.imshow(x_train[randix])\n",
    "print(\"Label is {}.\".format(y_train[randix]))"
   ]
  },
  {
   "cell_type": "code",
   "execution_count": 73,
   "metadata": {
    "collapsed": true
   },
   "outputs": [],
   "source": [
    "x_train_f = x_train.reshape(60000,-1)"
   ]
  },
  {
   "cell_type": "code",
   "execution_count": 74,
   "metadata": {},
   "outputs": [
    {
     "data": {
      "text/plain": [
       "(60000, 784)"
      ]
     },
     "execution_count": 74,
     "metadata": {},
     "output_type": "execute_result"
    }
   ],
   "source": [
    "x_train_f.shape"
   ]
  },
  {
   "cell_type": "code",
   "execution_count": 75,
   "metadata": {
    "collapsed": true
   },
   "outputs": [],
   "source": [
    "x_test_f = x_test.reshape(-1, 28**2)"
   ]
  },
  {
   "cell_type": "code",
   "execution_count": 76,
   "metadata": {},
   "outputs": [
    {
     "data": {
      "text/plain": [
       "(10000, 784)"
      ]
     },
     "execution_count": 76,
     "metadata": {},
     "output_type": "execute_result"
    }
   ],
   "source": [
    "x_test_f.shape"
   ]
  },
  {
   "cell_type": "code",
   "execution_count": 77,
   "metadata": {
    "collapsed": true
   },
   "outputs": [],
   "source": [
    "from sklearn.preprocessing import OneHotEncoder as OHE"
   ]
  },
  {
   "cell_type": "code",
   "execution_count": 78,
   "metadata": {
    "collapsed": true
   },
   "outputs": [],
   "source": [
    "ohe = OHE(sparse = False)\n",
    "y_train_ohe = ohe.fit_transform(y_train.reshape(-1,1))\n",
    "y_test_ohe = ohe.fit_transform(y_test.reshape(-1,1))"
   ]
  },
  {
   "cell_type": "code",
   "execution_count": 79,
   "metadata": {},
   "outputs": [
    {
     "data": {
      "text/plain": [
       "True"
      ]
     },
     "execution_count": 79,
     "metadata": {},
     "output_type": "execute_result"
    }
   ],
   "source": [
    "np.argmax(y_train_ohe[randix]) == y_train[randix]"
   ]
  },
  {
   "cell_type": "markdown",
   "metadata": {},
   "source": [
    "Now construct a KNN classifier"
   ]
  },
  {
   "cell_type": "code",
   "execution_count": 80,
   "metadata": {
    "collapsed": true
   },
   "outputs": [],
   "source": [
    "from scipy.spatial.distance import cdist\n",
    "from sklearn.neighbors import KDTree\n",
    "class KNNClassifier(object):\n",
    "\n",
    "    def fit(self,x,y,k=1,fun=lambda x: np.mean(x,axis=0)):\n",
    "        \"\"\"Fits a KNN regressor.\n",
    "        Args:\n",
    "            x (numpy array) Array of samples indexed along first axis.\n",
    "            y (numpy array) Array of corresponding labels.\n",
    "            k (int) the number of neighbors\n",
    "            fun (function numpy array --> desired output) Function to be applied to k-nearest\n",
    "              neighbors for predictions\n",
    "        \"\"\"\n",
    "        self.x = x[:]\n",
    "        self.y = y[:]\n",
    "        self.k = k\n",
    "        self.f = fun\n",
    "        self.tree = KDTree(self.x)\n",
    "        \n",
    "    def predict_one(self, sample):\n",
    "        \"\"\"\n",
    "        Run prediction on sample\n",
    "        \n",
    "        Args:\n",
    "            new_x (numpy array) sample\n",
    "        \n",
    "        \"\"\"\n",
    "        dists = cdist(sample.reshape(1,-1),self.x)\n",
    "        ix = np.argpartition(dists,self.k-1)[0,0:self.k]\n",
    "        return self.f(self.y[ix])\n",
    "    \n",
    "    def predict(self, samples):\n",
    "        \"\"\"\n",
    "        Run predictions on list.\n",
    "        Args:\n",
    "            samples (numpy array) samples\n",
    "        \"\"\"\n",
    "        return np.array([self.predict_one(x) for x in samples])\n",
    "    \n",
    "    def faster_predict(self,samples):\n",
    "        \"\"\"\n",
    "        Run faster predictions on list.\n",
    "        Args:\n",
    "            samples (numpy array) samples\n",
    "        \"\"\"\n",
    "        _, ixs = self.tree.query(samples, k=self.k)\n",
    "        #print(ixs)\n",
    "        return np.array([self.f(self.y[ix]) for ix in ixs])\n",
    "        \n"
   ]
  },
  {
   "cell_type": "code",
   "execution_count": 81,
   "metadata": {
    "collapsed": true
   },
   "outputs": [],
   "source": [
    "classifier = KNNClassifier()"
   ]
  },
  {
   "cell_type": "code",
   "execution_count": 82,
   "metadata": {
    "collapsed": true
   },
   "outputs": [],
   "source": [
    "classifier.fit(x_train_f, y_train_ohe, k=1)"
   ]
  },
  {
   "cell_type": "code",
   "execution_count": 83,
   "metadata": {
    "collapsed": true
   },
   "outputs": [],
   "source": [
    "preds=classifier.predict(x_test_f[:500])"
   ]
  },
  {
   "cell_type": "markdown",
   "metadata": {},
   "source": [
    "Calculate accuracy on this very small subset."
   ]
  },
  {
   "cell_type": "code",
   "execution_count": 84,
   "metadata": {},
   "outputs": [
    {
     "data": {
      "text/plain": [
       "0.96599999999999997"
      ]
     },
     "execution_count": 84,
     "metadata": {},
     "output_type": "execute_result"
    }
   ],
   "source": [
    "np.mean(np.argmax(preds,axis=1)==y_test[:500])"
   ]
  },
  {
   "cell_type": "code",
   "execution_count": 85,
   "metadata": {
    "collapsed": true
   },
   "outputs": [],
   "source": [
    "faster_preds = classifier.faster_predict(x_test_f[:500])"
   ]
  },
  {
   "cell_type": "code",
   "execution_count": 87,
   "metadata": {},
   "outputs": [
    {
     "data": {
      "text/plain": [
       "0.96599999999999997"
      ]
     },
     "execution_count": 87,
     "metadata": {},
     "output_type": "execute_result"
    }
   ],
   "source": [
    "np.mean(np.argmax(faster_preds,axis=1)==y_test[:500])"
   ]
  },
  {
   "cell_type": "markdown",
   "metadata": {},
   "source": [
    "Let's time these different methods to see if the \"faster_preds\" is actually faster:"
   ]
  },
  {
   "cell_type": "code",
   "execution_count": 88,
   "metadata": {
    "collapsed": true
   },
   "outputs": [],
   "source": [
    "from timeit import default_timer as timer"
   ]
  },
  {
   "cell_type": "code",
   "execution_count": 89,
   "metadata": {},
   "outputs": [
    {
     "name": "stdout",
     "output_type": "stream",
     "text": [
      "111.65225832597935\n"
     ]
    }
   ],
   "source": [
    "start = timer()\n",
    "classifier.predict(x_test_f[:500])\n",
    "end = timer()\n",
    "print(end-start)"
   ]
  },
  {
   "cell_type": "code",
   "execution_count": 90,
   "metadata": {},
   "outputs": [
    {
     "name": "stdout",
     "output_type": "stream",
     "text": [
      "28.22454002001905\n"
     ]
    }
   ],
   "source": [
    "start = timer()\n",
    "classifier.faster_predict(x_test_f[:500])\n",
    "end = timer()\n",
    "print(end-start)"
   ]
  },
  {
   "cell_type": "markdown",
   "metadata": {},
   "source": [
    "Okay now, let us try the clustering algorithm."
   ]
  },
  {
   "cell_type": "code",
   "execution_count": 108,
   "metadata": {
    "collapsed": true
   },
   "outputs": [],
   "source": [
    "def cluster_means(x,cluster_assignments,k):\n",
    "    \"\"\"\n",
    "    Return the new cluster means and the within cluster squared distance given the cluster assignments\n",
    "    \"\"\"\n",
    "    cluster_counter = np.zeros((k,1))\n",
    "    cluster_means = np.zeros((k, x.shape[1]))\n",
    "\n",
    "    for cluster, pt in zip(cluster_assignments, x):\n",
    "        #print(x)\n",
    "        cluster_means[cluster] += pt\n",
    "        cluster_counter[cluster]+=1\n",
    "    cluster_means = cluster_means/cluster_counter\n",
    "    \n",
    "    wcss = 0.\n",
    "    for cluster, pt in zip(cluster_assignments, x):\n",
    "        wcss+=np.sum((pt-cluster_means[cluster])**2)\n",
    "        \n",
    "    return cluster_means, wcss\n",
    "\n",
    "class KMeansCluster(object):\n",
    "\n",
    "    \n",
    "    #Fit a clustering object on a dataset x consisting of samples on each row\n",
    "    #by the K-means algorithm into k clusters\n",
    "    def fit(self,x,k):\n",
    "        \"\"\"\n",
    "        Fit k-means clusterer\n",
    "        \n",
    "        Args:\n",
    "            x (numpy array) samples\n",
    "            k (int) number of clusters\n",
    "        \"\"\"\n",
    "        num_samples, num_features = x.shape[0], x.shape[1]\n",
    "        #Randomly assign clusters\n",
    "        cluster_assignments = np.random.randint(0,k,num_samples)\n",
    "        \n",
    "        #initialize\n",
    "        cluster_mus = np.zeros((k,num_features))\n",
    "        \n",
    "        #update\n",
    "        new_cluster_mus, wcss = cluster_means(x,cluster_assignments,k)\n",
    "        count = 1\n",
    "        while (cluster_mus!=new_cluster_mus).any() and count < 10**3:\n",
    "            count += 1\n",
    "            print(\"Iteration {:3d}, WCSS = {:10f}\".format(count,wcss),end=\"\\r\")\n",
    "            cluster_mus = new_cluster_mus\n",
    "            #calculate distances\n",
    "            distances = cdist(x,cluster_mus, metric = 'sqeuclidean')\n",
    "            np.argmin(distances, axis = 1, out = cluster_assignments)\n",
    "            new_cluster_mus, wcss = cluster_means(x,cluster_assignments,k)\n",
    "        self.cluster_means = cluster_means\n",
    "        self.cluster_assignments = cluster_assignments\n",
    "        self.x = x[:]\n",
    "        self.wcss = wcss"
   ]
  },
  {
   "cell_type": "code",
   "execution_count": 110,
   "metadata": {},
   "outputs": [
    {
     "name": "stdout",
     "output_type": "stream",
     "text": [
      "Iteration 171, WCSS = 153018587272.404144\r"
     ]
    }
   ],
   "source": [
    "clusterer = KMeansCluster()\n",
    "clusterer.fit(x_train_f,10)"
   ]
  },
  {
   "cell_type": "code",
   "execution_count": 111,
   "metadata": {},
   "outputs": [
    {
     "name": "stdout",
     "output_type": "stream",
     "text": [
      "Iteration 139, WCSS = 153000743125.909454\r"
     ]
    }
   ],
   "source": [
    "clusterer2 = KMeansCluster()\n",
    "clusterer2.fit(x_train_f,10)"
   ]
  },
  {
   "cell_type": "code",
   "execution_count": 112,
   "metadata": {
    "collapsed": true
   },
   "outputs": [],
   "source": [
    "from sklearn.metrics import confusion_matrix"
   ]
  },
  {
   "cell_type": "code",
   "execution_count": 113,
   "metadata": {},
   "outputs": [
    {
     "data": {
      "text/plain": [
       "array([[   7,    5, 4306,    2,  232,   79,  156,    2, 1089,   45],\n",
       "       [   9,   10,    0, 3042,    6,    8,    5, 3650,    6,    6],\n",
       "       [4157,   68,   44,  331,  276,  170,  132,  380,  210,  190],\n",
       "       [ 173,   36,   22,   50, 3857,  955,   29,  407,  431,  171],\n",
       "       [  29, 1883,    7,  210,    0,   14,  144,  154,  209, 3192],\n",
       "       [   5,  163,   54,  234, 1807, 1006,   61,  149, 1570,  372],\n",
       "       [  53,    3,   53,   40,   34,   16, 3788,  185, 1691,   55],\n",
       "       [  40, 3771,   20,  258,    5,   15,    4,  337,   10, 1805],\n",
       "       [  44,  164,   29,  274, 1028, 3514,   42,  316,  263,  177],\n",
       "       [  17, 2448,   41,   86,   81,   71,    9,  255,   23, 2918]])"
      ]
     },
     "execution_count": 113,
     "metadata": {},
     "output_type": "execute_result"
    }
   ],
   "source": [
    "confusion_matrix(y_train, clusterer2.cluster_assignments)"
   ]
  },
  {
   "cell_type": "code",
   "execution_count": 114,
   "metadata": {
    "collapsed": true
   },
   "outputs": [],
   "source": [
    "cluster_samples = clusterer2.x[clusterer2.cluster_assignments == 0]"
   ]
  },
  {
   "cell_type": "code",
   "execution_count": 115,
   "metadata": {},
   "outputs": [
    {
     "data": {
      "text/plain": [
       "<matplotlib.image.AxesImage at 0x1049f9470>"
      ]
     },
     "execution_count": 115,
     "metadata": {},
     "output_type": "execute_result"
    },
    {
     "data": {
      "image/png": "[encoded data removed]",
      "text/plain": [
       "<matplotlib.figure.Figure at 0x130762320>"
      ]
     },
     "metadata": {},
     "output_type": "display_data"
    }
   ],
   "source": [
    "plt.imshow(cluster_samples[0].reshape(28,28))"
   ]
  },
  {
   "cell_type": "code",
   "execution_count": 116,
   "metadata": {},
   "outputs": [
    {
     "data": {
      "text/plain": [
       "<matplotlib.image.AxesImage at 0x130bdf1d0>"
      ]
     },
     "execution_count": 116,
     "metadata": {},
     "output_type": "execute_result"
    },
    {
     "data": {
      "image/png": "[encoded data removed]",
      "text/plain": [
       "<matplotlib.figure.Figure at 0x104956080>"
      ]
     },
     "metadata": {},
     "output_type": "display_data"
    }
   ],
   "source": [
    "plt.imshow(cluster_samples[1].reshape(28,28))"
   ]
  },
  {
   "cell_type": "code",
   "execution_count": 117,
   "metadata": {},
   "outputs": [
    {
     "data": {
      "text/plain": [
       "<matplotlib.image.AxesImage at 0x130b02898>"
      ]
     },
     "execution_count": 117,
     "metadata": {},
     "output_type": "execute_result"
    },
    {
     "data": {
      "image/png": "[encoded data removed]",
      "text/plain": [
       "<matplotlib.figure.Figure at 0x130a756d8>"
      ]
     },
     "metadata": {},
     "output_type": "display_data"
    }
   ],
   "source": [
    "plt.imshow(cluster_samples[23].reshape(28,28))"
   ]
  },
  {
   "cell_type": "code",
   "execution_count": 118,
   "metadata": {},
   "outputs": [
    {
     "data": {
      "text/plain": [
       "<matplotlib.image.AxesImage at 0x130abd048>"
      ]
     },
     "execution_count": 118,
     "metadata": {},
     "output_type": "execute_result"
    },
    {
     "data": {
      "image/png": "[encoded data removed]",
      "text/plain": [
       "<matplotlib.figure.Figure at 0x130b21d30>"
      ]
     },
     "metadata": {},
     "output_type": "display_data"
    }
   ],
   "source": [
    "plt.imshow(cluster_samples[50].reshape(28,28))"
   ]
  },
  {
   "cell_type": "code",
   "execution_count": 119,
   "metadata": {},
   "outputs": [
    {
     "data": {
      "text/plain": [
       "array([ 0.00154389,  0.001985  ,  0.91685046,  0.03815615,  0.00639612,\n",
       "        0.00110278,  0.01168946,  0.00882223,  0.00970446,  0.00374945])"
      ]
     },
     "execution_count": 119,
     "metadata": {},
     "output_type": "execute_result"
    }
   ],
   "source": [
    "np.mean(classifier.faster_predict(cluster_samples),axis=0)"
   ]
  },
  {
   "cell_type": "markdown",
   "metadata": {},
   "source": [
    "Let us load the credit card dataset and extract a small dataframe of numerical features to test on."
   ]
  },
  {
   "cell_type": "code",
   "execution_count": 120,
   "metadata": {
    "collapsed": true
   },
   "outputs": [],
   "source": [
    "big_df = pd.read_csv(\"UCI_Credit_Card.csv\")"
   ]
  },
  {
   "cell_type": "code",
   "execution_count": 121,
   "metadata": {},
   "outputs": [
    {
     "data": {
      "text/html": [
       "<div>\n",
       "<style>\n",
       "    .dataframe thead tr:only-child th {\n",
       "        text-align: right;\n",
       "    }\n",
       "\n",
       "    .dataframe thead th {\n",
       "        text-align: left;\n",
       "    }\n",
       "\n",
       "    .dataframe tbody tr th {\n",
       "        vertical-align: top;\n",
       "    }\n",
       "</style>\n",
       "<table border=\"1\" class=\"dataframe\">\n",
       "  <thead>\n",
       "    <tr style=\"text-align: right;\">\n",
       "      <th></th>\n",
       "      <th>ID</th>\n",
       "      <th>LIMIT_BAL</th>\n",
       "      <th>SEX</th>\n",
       "      <th>EDUCATION</th>\n",
       "      <th>MARRIAGE</th>\n",
       "      <th>AGE</th>\n",
       "      <th>PAY_0</th>\n",
       "      <th>PAY_2</th>\n",
       "      <th>PAY_3</th>\n",
       "      <th>PAY_4</th>\n",
       "      <th>...</th>\n",
       "      <th>BILL_AMT4</th>\n",
       "      <th>BILL_AMT5</th>\n",
       "      <th>BILL_AMT6</th>\n",
       "      <th>PAY_AMT1</th>\n",
       "      <th>PAY_AMT2</th>\n",
       "      <th>PAY_AMT3</th>\n",
       "      <th>PAY_AMT4</th>\n",
       "      <th>PAY_AMT5</th>\n",
       "      <th>PAY_AMT6</th>\n",
       "      <th>default.payment.next.month</th>\n",
       "    </tr>\n",
       "  </thead>\n",
       "  <tbody>\n",
       "    <tr>\n",
       "      <th>0</th>\n",
       "      <td>1</td>\n",
       "      <td>20000.0</td>\n",
       "      <td>2</td>\n",
       "      <td>2</td>\n",
       "      <td>1</td>\n",
       "      <td>24</td>\n",
       "      <td>2</td>\n",
       "      <td>2</td>\n",
       "      <td>-1</td>\n",
       "      <td>-1</td>\n",
       "      <td>...</td>\n",
       "      <td>0.0</td>\n",
       "      <td>0.0</td>\n",
       "      <td>0.0</td>\n",
       "      <td>0.0</td>\n",
       "      <td>689.0</td>\n",
       "      <td>0.0</td>\n",
       "      <td>0.0</td>\n",
       "      <td>0.0</td>\n",
       "      <td>0.0</td>\n",
       "      <td>1</td>\n",
       "    </tr>\n",
       "    <tr>\n",
       "      <th>1</th>\n",
       "      <td>2</td>\n",
       "      <td>120000.0</td>\n",
       "      <td>2</td>\n",
       "      <td>2</td>\n",
       "      <td>2</td>\n",
       "      <td>26</td>\n",
       "      <td>-1</td>\n",
       "      <td>2</td>\n",
       "      <td>0</td>\n",
       "      <td>0</td>\n",
       "      <td>...</td>\n",
       "      <td>3272.0</td>\n",
       "      <td>3455.0</td>\n",
       "      <td>3261.0</td>\n",
       "      <td>0.0</td>\n",
       "      <td>1000.0</td>\n",
       "      <td>1000.0</td>\n",
       "      <td>1000.0</td>\n",
       "      <td>0.0</td>\n",
       "      <td>2000.0</td>\n",
       "      <td>1</td>\n",
       "    </tr>\n",
       "    <tr>\n",
       "      <th>2</th>\n",
       "      <td>3</td>\n",
       "      <td>90000.0</td>\n",
       "      <td>2</td>\n",
       "      <td>2</td>\n",
       "      <td>2</td>\n",
       "      <td>34</td>\n",
       "      <td>0</td>\n",
       "      <td>0</td>\n",
       "      <td>0</td>\n",
       "      <td>0</td>\n",
       "      <td>...</td>\n",
       "      <td>14331.0</td>\n",
       "      <td>14948.0</td>\n",
       "      <td>15549.0</td>\n",
       "      <td>1518.0</td>\n",
       "      <td>1500.0</td>\n",
       "      <td>1000.0</td>\n",
       "      <td>1000.0</td>\n",
       "      <td>1000.0</td>\n",
       "      <td>5000.0</td>\n",
       "      <td>0</td>\n",
       "    </tr>\n",
       "    <tr>\n",
       "      <th>3</th>\n",
       "      <td>4</td>\n",
       "      <td>50000.0</td>\n",
       "      <td>2</td>\n",
       "      <td>2</td>\n",
       "      <td>1</td>\n",
       "      <td>37</td>\n",
       "      <td>0</td>\n",
       "      <td>0</td>\n",
       "      <td>0</td>\n",
       "      <td>0</td>\n",
       "      <td>...</td>\n",
       "      <td>28314.0</td>\n",
       "      <td>28959.0</td>\n",
       "      <td>29547.0</td>\n",
       "      <td>2000.0</td>\n",
       "      <td>2019.0</td>\n",
       "      <td>1200.0</td>\n",
       "      <td>1100.0</td>\n",
       "      <td>1069.0</td>\n",
       "      <td>1000.0</td>\n",
       "      <td>0</td>\n",
       "    </tr>\n",
       "    <tr>\n",
       "      <th>4</th>\n",
       "      <td>5</td>\n",
       "      <td>50000.0</td>\n",
       "      <td>1</td>\n",
       "      <td>2</td>\n",
       "      <td>1</td>\n",
       "      <td>57</td>\n",
       "      <td>-1</td>\n",
       "      <td>0</td>\n",
       "      <td>-1</td>\n",
       "      <td>0</td>\n",
       "      <td>...</td>\n",
       "      <td>20940.0</td>\n",
       "      <td>19146.0</td>\n",
       "      <td>19131.0</td>\n",
       "      <td>2000.0</td>\n",
       "      <td>36681.0</td>\n",
       "      <td>10000.0</td>\n",
       "      <td>9000.0</td>\n",
       "      <td>689.0</td>\n",
       "      <td>679.0</td>\n",
       "      <td>0</td>\n",
       "    </tr>\n",
       "  </tbody>\n",
       "</table>\n",
       "<p>5 rows × 25 columns</p>\n",
       "</div>"
      ],
      "text/plain": [
       "   ID  LIMIT_BAL  SEX  EDUCATION  MARRIAGE  AGE  PAY_0  PAY_2  PAY_3  PAY_4  \\\n",
       "0   1    20000.0    2          2         1   24      2      2     -1     -1   \n",
       "1   2   120000.0    2          2         2   26     -1      2      0      0   \n",
       "2   3    90000.0    2          2         2   34      0      0      0      0   \n",
       "3   4    50000.0    2          2         1   37      0      0      0      0   \n",
       "4   5    50000.0    1          2         1   57     -1      0     -1      0   \n",
       "\n",
       "              ...              BILL_AMT4  BILL_AMT5  BILL_AMT6  PAY_AMT1  \\\n",
       "0             ...                    0.0        0.0        0.0       0.0   \n",
       "1             ...                 3272.0     3455.0     3261.0       0.0   \n",
       "2             ...                14331.0    14948.0    15549.0    1518.0   \n",
       "3             ...                28314.0    28959.0    29547.0    2000.0   \n",
       "4             ...                20940.0    19146.0    19131.0    2000.0   \n",
       "\n",
       "   PAY_AMT2  PAY_AMT3  PAY_AMT4  PAY_AMT5  PAY_AMT6  \\\n",
       "0     689.0       0.0       0.0       0.0       0.0   \n",
       "1    1000.0    1000.0    1000.0       0.0    2000.0   \n",
       "2    1500.0    1000.0    1000.0    1000.0    5000.0   \n",
       "3    2019.0    1200.0    1100.0    1069.0    1000.0   \n",
       "4   36681.0   10000.0    9000.0     689.0     679.0   \n",
       "\n",
       "   default.payment.next.month  \n",
       "0                           1  \n",
       "1                           1  \n",
       "2                           0  \n",
       "3                           0  \n",
       "4                           0  \n",
       "\n",
       "[5 rows x 25 columns]"
      ]
     },
     "execution_count": 121,
     "metadata": {},
     "output_type": "execute_result"
    }
   ],
   "source": [
    "big_df.head()"
   ]
  },
  {
   "cell_type": "code",
   "execution_count": 122,
   "metadata": {},
   "outputs": [
    {
     "data": {
      "text/plain": [
       "30000"
      ]
     },
     "execution_count": 122,
     "metadata": {},
     "output_type": "execute_result"
    }
   ],
   "source": [
    "len(big_df)"
   ]
  },
  {
   "cell_type": "code",
   "execution_count": 123,
   "metadata": {},
   "outputs": [
    {
     "data": {
      "text/plain": [
       "30000"
      ]
     },
     "execution_count": 123,
     "metadata": {},
     "output_type": "execute_result"
    }
   ],
   "source": [
    "len(big_df.dropna())"
   ]
  },
  {
   "cell_type": "code",
   "execution_count": 124,
   "metadata": {
    "collapsed": true
   },
   "outputs": [],
   "source": [
    "df = big_df.drop(labels = ['ID'], axis = 1)"
   ]
  },
  {
   "cell_type": "code",
   "execution_count": 125,
   "metadata": {
    "collapsed": true
   },
   "outputs": [],
   "source": [
    "labels = df['default.payment.next.month']\n",
    "df.drop('default.payment.next.month', axis = 1, inplace = True)"
   ]
  },
  {
   "cell_type": "code",
   "execution_count": 126,
   "metadata": {
    "collapsed": true
   },
   "outputs": [],
   "source": [
    "num_samples = 25000"
   ]
  },
  {
   "cell_type": "code",
   "execution_count": 127,
   "metadata": {
    "collapsed": true
   },
   "outputs": [],
   "source": [
    "train_x, train_y = df[0:num_samples], labels[0:num_samples]"
   ]
  },
  {
   "cell_type": "code",
   "execution_count": 128,
   "metadata": {
    "collapsed": true
   },
   "outputs": [],
   "source": [
    "test_x, test_y = df[num_samples:], labels[num_samples:]"
   ]
  },
  {
   "cell_type": "code",
   "execution_count": 129,
   "metadata": {},
   "outputs": [
    {
     "data": {
      "text/html": [
       "<div>\n",
       "<style>\n",
       "    .dataframe thead tr:only-child th {\n",
       "        text-align: right;\n",
       "    }\n",
       "\n",
       "    .dataframe thead th {\n",
       "        text-align: left;\n",
       "    }\n",
       "\n",
       "    .dataframe tbody tr th {\n",
       "        vertical-align: top;\n",
       "    }\n",
       "</style>\n",
       "<table border=\"1\" class=\"dataframe\">\n",
       "  <thead>\n",
       "    <tr style=\"text-align: right;\">\n",
       "      <th></th>\n",
       "      <th>LIMIT_BAL</th>\n",
       "      <th>SEX</th>\n",
       "      <th>EDUCATION</th>\n",
       "      <th>MARRIAGE</th>\n",
       "      <th>AGE</th>\n",
       "      <th>PAY_0</th>\n",
       "      <th>PAY_2</th>\n",
       "      <th>PAY_3</th>\n",
       "      <th>PAY_4</th>\n",
       "      <th>PAY_5</th>\n",
       "      <th>...</th>\n",
       "      <th>BILL_AMT3</th>\n",
       "      <th>BILL_AMT4</th>\n",
       "      <th>BILL_AMT5</th>\n",
       "      <th>BILL_AMT6</th>\n",
       "      <th>PAY_AMT1</th>\n",
       "      <th>PAY_AMT2</th>\n",
       "      <th>PAY_AMT3</th>\n",
       "      <th>PAY_AMT4</th>\n",
       "      <th>PAY_AMT5</th>\n",
       "      <th>PAY_AMT6</th>\n",
       "    </tr>\n",
       "  </thead>\n",
       "  <tbody>\n",
       "    <tr>\n",
       "      <th>25000</th>\n",
       "      <td>410000.0</td>\n",
       "      <td>1</td>\n",
       "      <td>1</td>\n",
       "      <td>1</td>\n",
       "      <td>38</td>\n",
       "      <td>-1</td>\n",
       "      <td>-1</td>\n",
       "      <td>-1</td>\n",
       "      <td>-1</td>\n",
       "      <td>-2</td>\n",
       "      <td>...</td>\n",
       "      <td>35509.0</td>\n",
       "      <td>0.0</td>\n",
       "      <td>0.0</td>\n",
       "      <td>0.0</td>\n",
       "      <td>0.0</td>\n",
       "      <td>35509.0</td>\n",
       "      <td>0.0</td>\n",
       "      <td>0.0</td>\n",
       "      <td>0.0</td>\n",
       "      <td>0.0</td>\n",
       "    </tr>\n",
       "    <tr>\n",
       "      <th>25001</th>\n",
       "      <td>260000.0</td>\n",
       "      <td>1</td>\n",
       "      <td>2</td>\n",
       "      <td>2</td>\n",
       "      <td>35</td>\n",
       "      <td>0</td>\n",
       "      <td>0</td>\n",
       "      <td>0</td>\n",
       "      <td>0</td>\n",
       "      <td>0</td>\n",
       "      <td>...</td>\n",
       "      <td>297313.0</td>\n",
       "      <td>276948.0</td>\n",
       "      <td>2378.0</td>\n",
       "      <td>-2709.0</td>\n",
       "      <td>12325.0</td>\n",
       "      <td>6633.0</td>\n",
       "      <td>6889.0</td>\n",
       "      <td>1025.0</td>\n",
       "      <td>2047.0</td>\n",
       "      <td>194102.0</td>\n",
       "    </tr>\n",
       "    <tr>\n",
       "      <th>25002</th>\n",
       "      <td>50000.0</td>\n",
       "      <td>1</td>\n",
       "      <td>2</td>\n",
       "      <td>1</td>\n",
       "      <td>40</td>\n",
       "      <td>0</td>\n",
       "      <td>0</td>\n",
       "      <td>0</td>\n",
       "      <td>0</td>\n",
       "      <td>0</td>\n",
       "      <td>...</td>\n",
       "      <td>11353.0</td>\n",
       "      <td>12143.0</td>\n",
       "      <td>11753.0</td>\n",
       "      <td>11922.0</td>\n",
       "      <td>1200.0</td>\n",
       "      <td>4000.0</td>\n",
       "      <td>2000.0</td>\n",
       "      <td>2000.0</td>\n",
       "      <td>1000.0</td>\n",
       "      <td>1000.0</td>\n",
       "    </tr>\n",
       "    <tr>\n",
       "      <th>25003</th>\n",
       "      <td>360000.0</td>\n",
       "      <td>1</td>\n",
       "      <td>3</td>\n",
       "      <td>1</td>\n",
       "      <td>37</td>\n",
       "      <td>-1</td>\n",
       "      <td>-1</td>\n",
       "      <td>-1</td>\n",
       "      <td>-2</td>\n",
       "      <td>-2</td>\n",
       "      <td>...</td>\n",
       "      <td>0.0</td>\n",
       "      <td>0.0</td>\n",
       "      <td>0.0</td>\n",
       "      <td>0.0</td>\n",
       "      <td>303.0</td>\n",
       "      <td>0.0</td>\n",
       "      <td>0.0</td>\n",
       "      <td>0.0</td>\n",
       "      <td>0.0</td>\n",
       "      <td>860.0</td>\n",
       "    </tr>\n",
       "    <tr>\n",
       "      <th>25004</th>\n",
       "      <td>50000.0</td>\n",
       "      <td>1</td>\n",
       "      <td>3</td>\n",
       "      <td>1</td>\n",
       "      <td>49</td>\n",
       "      <td>0</td>\n",
       "      <td>0</td>\n",
       "      <td>0</td>\n",
       "      <td>0</td>\n",
       "      <td>0</td>\n",
       "      <td>...</td>\n",
       "      <td>50076.0</td>\n",
       "      <td>48995.0</td>\n",
       "      <td>19780.0</td>\n",
       "      <td>15102.0</td>\n",
       "      <td>2000.0</td>\n",
       "      <td>5000.0</td>\n",
       "      <td>2305.0</td>\n",
       "      <td>3000.0</td>\n",
       "      <td>559.0</td>\n",
       "      <td>3000.0</td>\n",
       "    </tr>\n",
       "  </tbody>\n",
       "</table>\n",
       "<p>5 rows × 23 columns</p>\n",
       "</div>"
      ],
      "text/plain": [
       "       LIMIT_BAL  SEX  EDUCATION  MARRIAGE  AGE  PAY_0  PAY_2  PAY_3  PAY_4  \\\n",
       "25000   410000.0    1          1         1   38     -1     -1     -1     -1   \n",
       "25001   260000.0    1          2         2   35      0      0      0      0   \n",
       "25002    50000.0    1          2         1   40      0      0      0      0   \n",
       "25003   360000.0    1          3         1   37     -1     -1     -1     -2   \n",
       "25004    50000.0    1          3         1   49      0      0      0      0   \n",
       "\n",
       "       PAY_5    ...     BILL_AMT3  BILL_AMT4  BILL_AMT5  BILL_AMT6  PAY_AMT1  \\\n",
       "25000     -2    ...       35509.0        0.0        0.0        0.0       0.0   \n",
       "25001      0    ...      297313.0   276948.0     2378.0    -2709.0   12325.0   \n",
       "25002      0    ...       11353.0    12143.0    11753.0    11922.0    1200.0   \n",
       "25003     -2    ...           0.0        0.0        0.0        0.0     303.0   \n",
       "25004      0    ...       50076.0    48995.0    19780.0    15102.0    2000.0   \n",
       "\n",
       "       PAY_AMT2  PAY_AMT3  PAY_AMT4  PAY_AMT5  PAY_AMT6  \n",
       "25000   35509.0       0.0       0.0       0.0       0.0  \n",
       "25001    6633.0    6889.0    1025.0    2047.0  194102.0  \n",
       "25002    4000.0    2000.0    2000.0    1000.0    1000.0  \n",
       "25003       0.0       0.0       0.0       0.0     860.0  \n",
       "25004    5000.0    2305.0    3000.0     559.0    3000.0  \n",
       "\n",
       "[5 rows x 23 columns]"
      ]
     },
     "execution_count": 129,
     "metadata": {},
     "output_type": "execute_result"
    }
   ],
   "source": [
    "test_x.head()"
   ]
  },
  {
   "cell_type": "code",
   "execution_count": 130,
   "metadata": {},
   "outputs": [
    {
     "data": {
      "text/plain": [
       "0    1\n",
       "1    1\n",
       "2    0\n",
       "3    0\n",
       "4    0\n",
       "Name: default.payment.next.month, dtype: int64"
      ]
     },
     "execution_count": 130,
     "metadata": {},
     "output_type": "execute_result"
    }
   ],
   "source": [
    "train_y.head()"
   ]
  },
  {
   "cell_type": "markdown",
   "metadata": {},
   "source": [
    "Now let us write our transformation function."
   ]
  },
  {
   "cell_type": "code",
   "execution_count": 1427,
   "metadata": {},
   "outputs": [],
   "source": [
    "class bin_transformer(object):\n",
    "    \n",
    "    def __init__(self, df, num_quantiles = 2):\n",
    "        #identify list of quantiles\n",
    "        self.quantiles = df.quantile(np.linspace(1./num_quantiles, 1.-1./num_quantiles,num_quantiles-1))\n",
    "            \n",
    "    \n",
    "    def transform(self, df):\n",
    "        \"\"\"\n",
    "        Args:\n",
    "            df (pandas dataframe) : dataframe to transform\n",
    "        \n",
    "        Returns:\n",
    "            new (pandas dataframe) : new dataframe where for every feature of the original there will be \n",
    "                num_quantiles-1 features corresponding to whether or not the original values where greater\n",
    "                than or equal to the corresponding quantile.\n",
    "            fns (dictionary (string,float)) returns dictionary of quantiles\n",
    "                \n",
    "        \"\"\"\n",
    "        new = pd.DataFrame()\n",
    "        fns = {}\n",
    "        for col_name in df.axes[1]:\n",
    "            for ix, q in self.quantiles.iterrows():\n",
    "                quart = q[col_name]\n",
    "                new[col_name+str(ix)] = (df[col_name] >= quart)\n",
    "                fn = quart\n",
    "                fns[col_name+str(ix)] = [col_name, fn]\n",
    "        return new, fns"
   ]
  },
  {
   "cell_type": "code",
   "execution_count": 1428,
   "metadata": {
    "collapsed": true
   },
   "outputs": [],
   "source": [
    "transformer = bin_transformer(train_x,2)"
   ]
  },
  {
   "cell_type": "code",
   "execution_count": 1429,
   "metadata": {},
   "outputs": [],
   "source": [
    "train_x_t, tr_fns = transformer.transform(train_x)"
   ]
  },
  {
   "cell_type": "code",
   "execution_count": 1430,
   "metadata": {},
   "outputs": [],
   "source": [
    "test_x_t, test_fns = transformer.transform(test_x)"
   ]
  },
  {
   "cell_type": "code",
   "execution_count": 1431,
   "metadata": {},
   "outputs": [
    {
     "data": {
      "text/html": [
       "<div>\n",
       "<style>\n",
       "    .dataframe thead tr:only-child th {\n",
       "        text-align: right;\n",
       "    }\n",
       "\n",
       "    .dataframe thead th {\n",
       "        text-align: left;\n",
       "    }\n",
       "\n",
       "    .dataframe tbody tr th {\n",
       "        vertical-align: top;\n",
       "    }\n",
       "</style>\n",
       "<table border=\"1\" class=\"dataframe\">\n",
       "  <thead>\n",
       "    <tr style=\"text-align: right;\">\n",
       "      <th></th>\n",
       "      <th>LIMIT_BAL0.5</th>\n",
       "      <th>SEX0.5</th>\n",
       "      <th>EDUCATION0.5</th>\n",
       "      <th>MARRIAGE0.5</th>\n",
       "      <th>AGE0.5</th>\n",
       "      <th>PAY_00.5</th>\n",
       "      <th>PAY_20.5</th>\n",
       "      <th>PAY_30.5</th>\n",
       "      <th>PAY_40.5</th>\n",
       "      <th>PAY_50.5</th>\n",
       "      <th>...</th>\n",
       "      <th>BILL_AMT30.5</th>\n",
       "      <th>BILL_AMT40.5</th>\n",
       "      <th>BILL_AMT50.5</th>\n",
       "      <th>BILL_AMT60.5</th>\n",
       "      <th>PAY_AMT10.5</th>\n",
       "      <th>PAY_AMT20.5</th>\n",
       "      <th>PAY_AMT30.5</th>\n",
       "      <th>PAY_AMT40.5</th>\n",
       "      <th>PAY_AMT50.5</th>\n",
       "      <th>PAY_AMT60.5</th>\n",
       "    </tr>\n",
       "  </thead>\n",
       "  <tbody>\n",
       "    <tr>\n",
       "      <th>0</th>\n",
       "      <td>False</td>\n",
       "      <td>True</td>\n",
       "      <td>True</td>\n",
       "      <td>False</td>\n",
       "      <td>False</td>\n",
       "      <td>True</td>\n",
       "      <td>True</td>\n",
       "      <td>False</td>\n",
       "      <td>False</td>\n",
       "      <td>False</td>\n",
       "      <td>...</td>\n",
       "      <td>False</td>\n",
       "      <td>False</td>\n",
       "      <td>False</td>\n",
       "      <td>False</td>\n",
       "      <td>False</td>\n",
       "      <td>False</td>\n",
       "      <td>False</td>\n",
       "      <td>False</td>\n",
       "      <td>False</td>\n",
       "      <td>False</td>\n",
       "    </tr>\n",
       "    <tr>\n",
       "      <th>1</th>\n",
       "      <td>False</td>\n",
       "      <td>True</td>\n",
       "      <td>True</td>\n",
       "      <td>True</td>\n",
       "      <td>False</td>\n",
       "      <td>False</td>\n",
       "      <td>True</td>\n",
       "      <td>True</td>\n",
       "      <td>True</td>\n",
       "      <td>True</td>\n",
       "      <td>...</td>\n",
       "      <td>False</td>\n",
       "      <td>False</td>\n",
       "      <td>False</td>\n",
       "      <td>False</td>\n",
       "      <td>False</td>\n",
       "      <td>False</td>\n",
       "      <td>False</td>\n",
       "      <td>False</td>\n",
       "      <td>False</td>\n",
       "      <td>True</td>\n",
       "    </tr>\n",
       "    <tr>\n",
       "      <th>2</th>\n",
       "      <td>False</td>\n",
       "      <td>True</td>\n",
       "      <td>True</td>\n",
       "      <td>True</td>\n",
       "      <td>True</td>\n",
       "      <td>True</td>\n",
       "      <td>True</td>\n",
       "      <td>True</td>\n",
       "      <td>True</td>\n",
       "      <td>True</td>\n",
       "      <td>...</td>\n",
       "      <td>False</td>\n",
       "      <td>False</td>\n",
       "      <td>False</td>\n",
       "      <td>False</td>\n",
       "      <td>False</td>\n",
       "      <td>False</td>\n",
       "      <td>False</td>\n",
       "      <td>False</td>\n",
       "      <td>False</td>\n",
       "      <td>True</td>\n",
       "    </tr>\n",
       "    <tr>\n",
       "      <th>3</th>\n",
       "      <td>False</td>\n",
       "      <td>True</td>\n",
       "      <td>True</td>\n",
       "      <td>False</td>\n",
       "      <td>True</td>\n",
       "      <td>True</td>\n",
       "      <td>True</td>\n",
       "      <td>True</td>\n",
       "      <td>True</td>\n",
       "      <td>True</td>\n",
       "      <td>...</td>\n",
       "      <td>True</td>\n",
       "      <td>True</td>\n",
       "      <td>True</td>\n",
       "      <td>True</td>\n",
       "      <td>False</td>\n",
       "      <td>True</td>\n",
       "      <td>False</td>\n",
       "      <td>False</td>\n",
       "      <td>False</td>\n",
       "      <td>False</td>\n",
       "    </tr>\n",
       "    <tr>\n",
       "      <th>4</th>\n",
       "      <td>False</td>\n",
       "      <td>False</td>\n",
       "      <td>True</td>\n",
       "      <td>False</td>\n",
       "      <td>True</td>\n",
       "      <td>False</td>\n",
       "      <td>True</td>\n",
       "      <td>False</td>\n",
       "      <td>True</td>\n",
       "      <td>True</td>\n",
       "      <td>...</td>\n",
       "      <td>True</td>\n",
       "      <td>True</td>\n",
       "      <td>True</td>\n",
       "      <td>True</td>\n",
       "      <td>False</td>\n",
       "      <td>True</td>\n",
       "      <td>True</td>\n",
       "      <td>True</td>\n",
       "      <td>False</td>\n",
       "      <td>False</td>\n",
       "    </tr>\n",
       "  </tbody>\n",
       "</table>\n",
       "<p>5 rows × 23 columns</p>\n",
       "</div>"
      ],
      "text/plain": [
       "   LIMIT_BAL0.5  SEX0.5  EDUCATION0.5  MARRIAGE0.5  AGE0.5  PAY_00.5  \\\n",
       "0         False    True          True        False   False      True   \n",
       "1         False    True          True         True   False     False   \n",
       "2         False    True          True         True    True      True   \n",
       "3         False    True          True        False    True      True   \n",
       "4         False   False          True        False    True     False   \n",
       "\n",
       "   PAY_20.5  PAY_30.5  PAY_40.5  PAY_50.5     ...       BILL_AMT30.5  \\\n",
       "0      True     False     False     False     ...              False   \n",
       "1      True      True      True      True     ...              False   \n",
       "2      True      True      True      True     ...              False   \n",
       "3      True      True      True      True     ...               True   \n",
       "4      True     False      True      True     ...               True   \n",
       "\n",
       "   BILL_AMT40.5  BILL_AMT50.5  BILL_AMT60.5  PAY_AMT10.5  PAY_AMT20.5  \\\n",
       "0         False         False         False        False        False   \n",
       "1         False         False         False        False        False   \n",
       "2         False         False         False        False        False   \n",
       "3          True          True          True        False         True   \n",
       "4          True          True          True        False         True   \n",
       "\n",
       "   PAY_AMT30.5  PAY_AMT40.5  PAY_AMT50.5  PAY_AMT60.5  \n",
       "0        False        False        False        False  \n",
       "1        False        False        False         True  \n",
       "2        False        False        False         True  \n",
       "3        False        False        False        False  \n",
       "4         True         True        False        False  \n",
       "\n",
       "[5 rows x 23 columns]"
      ]
     },
     "execution_count": 1431,
     "metadata": {},
     "output_type": "execute_result"
    }
   ],
   "source": [
    "train_x_t.head()"
   ]
  },
  {
   "cell_type": "markdown",
   "metadata": {},
   "source": [
    "Now let us build some simple loss functions for 1d labels."
   ]
  },
  {
   "cell_type": "code",
   "execution_count": 1432,
   "metadata": {
    "collapsed": true
   },
   "outputs": [],
   "source": [
    "def bdd_cross_entropy(pred, label):\n",
    "    return np.mean(-np.sum(label*np.log(pred+10**(-8)),axis=1))"
   ]
  },
  {
   "cell_type": "code",
   "execution_count": 1433,
   "metadata": {
    "collapsed": true
   },
   "outputs": [],
   "source": [
    "def MSE(pred,label):\n",
    "    return np.mean(np.sum((pred-label)**2, axis=1))"
   ]
  },
  {
   "cell_type": "code",
   "execution_count": 1434,
   "metadata": {
    "collapsed": true
   },
   "outputs": [],
   "source": [
    "def acc(pred,label):\n",
    "    return np.mean(np.argmax(pred,axis=1)==np.argmax(label, axis=1))"
   ]
  },
  {
   "cell_type": "code",
   "execution_count": 1348,
   "metadata": {
    "collapsed": true
   },
   "outputs": [],
   "source": [
    "def SSE(x,y):\n",
    "    return np.sum((x-y)**2)"
   ]
  },
  {
   "cell_type": "code",
   "execution_count": null,
   "metadata": {},
   "outputs": [],
   "source": [
    "def gini(x,y):\n",
    "    return 1-np.sum(np.mean(y,axis=0)**2)"
   ]
  },
  {
   "cell_type": "markdown",
   "metadata": {},
   "source": [
    "Now let us define the find split function."
   ]
  },
  {
   "cell_type": "code",
   "execution_count": 1461,
   "metadata": {
    "collapsed": true
   },
   "outputs": [],
   "source": [
    "def find_split(x, y, loss, verbose = False):\n",
    "    \"\"\"\n",
    "    Args:\n",
    "        x (dataframe) : dataframe of boolean values\n",
    "        y (dataframe (1 column)) : dataframe of labeled values\n",
    "        loss (function: (yvalue, dataframe of labels)-->float) : calculates loss for prediction of yvalue\n",
    "            for a dataframe of true values.\n",
    "        verbose (bool) : whether or not to include debugging info\n",
    "    \"\"\"\n",
    "    min_ax = None\n",
    "    N = x.shape[0]\n",
    "    base_loss = loss(np.mean(y,axis=0),y)\n",
    "    min_loss = base_loss\n",
    "\n",
    "    for col_name in x.axes[1]:\n",
    "        mask = x[col_name]\n",
    "        num_pos = np.sum(mask)\n",
    "        num_neg = N - num_pos\n",
    "        if num_neg*num_pos == 0:\n",
    "            continue\n",
    "        pos_y = np.mean(y[mask], axis = 0)\n",
    "        neg_y = np.mean(y[~mask], axis = 0)\n",
    "        l = (num_pos*loss(pos_y, y[mask]) + num_neg*loss(neg_y, y[~mask]))/N\n",
    "        if verbose:\n",
    "            print(\"Column {0} split has improved loss {1}\".format(col_name, base_loss-l))\n",
    "        if l < min_loss:\n",
    "            min_loss = l\n",
    "            min_ax = col_name\n",
    "    return min_ax, min_loss, base_loss-min_loss\n",
    "        "
   ]
  },
  {
   "cell_type": "markdown",
   "metadata": {},
   "source": [
    "One hot encode our dataset"
   ]
  },
  {
   "cell_type": "code",
   "execution_count": 1567,
   "metadata": {},
   "outputs": [],
   "source": [
    "ohe = OHE(sparse = False)"
   ]
  },
  {
   "cell_type": "code",
   "execution_count": 1586,
   "metadata": {},
   "outputs": [],
   "source": [
    "train_y_ohe = ohe.fit_transform(train_y.values.reshape(-1,1))"
   ]
  },
  {
   "cell_type": "code",
   "execution_count": 1587,
   "metadata": {},
   "outputs": [
    {
     "data": {
      "text/plain": [
       "(array([[ 0.,  1.],\n",
       "        [ 0.,  1.],\n",
       "        [ 1.,  0.],\n",
       "        [ 1.,  0.],\n",
       "        [ 1.,  0.]]), array([1, 1, 0, 0, 0]))"
      ]
     },
     "execution_count": 1587,
     "metadata": {},
     "output_type": "execute_result"
    }
   ],
   "source": [
    "train_y_ohe[0:5],train_y.values[0:5]"
   ]
  },
  {
   "cell_type": "code",
   "execution_count": 1570,
   "metadata": {
    "collapsed": true
   },
   "outputs": [],
   "source": [
    "test_y_ohe = ohe.transform(test_y.values.reshape(-1,1))"
   ]
  },
  {
   "cell_type": "markdown",
   "metadata": {},
   "source": [
    "Test this to see if it is reasonable:"
   ]
  },
  {
   "cell_type": "code",
   "execution_count": 1571,
   "metadata": {},
   "outputs": [
    {
     "data": {
      "text/plain": [
       "('LIMIT_BAL0.5', 0.51977935310923973, 0.011049199283005851)"
      ]
     },
     "execution_count": 1571,
     "metadata": {},
     "output_type": "execute_result"
    }
   ],
   "source": [
    "find_split(train_x_t, train_y_ohe, bdd_cross_entropy, verbose = False)"
   ]
  },
  {
   "cell_type": "code",
   "execution_count": 1572,
   "metadata": {},
   "outputs": [
    {
     "data": {
      "text/plain": [
       "array([ 0.83723663,  0.16276337])"
      ]
     },
     "execution_count": 1572,
     "metadata": {},
     "output_type": "execute_result"
    }
   ],
   "source": [
    "np.mean(train_y_ohe[train_x_t['LIMIT_BAL0.5']],axis=0)"
   ]
  },
  {
   "cell_type": "code",
   "execution_count": 1573,
   "metadata": {},
   "outputs": [
    {
     "data": {
      "text/plain": [
       "array([ 0.71388866,  0.28611134])"
      ]
     },
     "execution_count": 1573,
     "metadata": {},
     "output_type": "execute_result"
    }
   ],
   "source": [
    "np.mean(train_y_ohe[~train_x_t['LIMIT_BAL0.5']],axis = 0)"
   ]
  },
  {
   "cell_type": "code",
   "execution_count": 1574,
   "metadata": {},
   "outputs": [
    {
     "data": {
      "text/plain": [
       "array([ 0.77688,  0.22312])"
      ]
     },
     "execution_count": 1574,
     "metadata": {},
     "output_type": "execute_result"
    }
   ],
   "source": [
    "np.mean(train_y_ohe,axis=0)"
   ]
  },
  {
   "cell_type": "code",
   "execution_count": 1575,
   "metadata": {},
   "outputs": [],
   "source": [
    "#Slow but simple\n",
    "class decision_tree(object):\n",
    "    def __init__(self):\n",
    "        self.f = None\n",
    "    \n",
    "    def fit(self, x,y,depth=5,loss=MSE, minsize = 1, quintiles = 2, verbose = False):\n",
    "        #Construct default function\n",
    "        mu = np.mean(y, axis=0)\n",
    "        \n",
    "        self.f = lambda a: mu \n",
    "        \n",
    "        # Check our stopping criteria\n",
    "        if(x.shape[0]<=minsize or depth == 0):\n",
    "            return \n",
    "       \n",
    "        # transform our data\n",
    "        tr = bin_transformer(x, quintiles)\n",
    "        tr_x, fns = tr.transform(x)\n",
    "        split, split_loss, improvement = find_split(tr_x,y,loss)\n",
    "        \n",
    "        if verbose:\n",
    "            print(\"Improvement: {}\".format(improvement))\n",
    "        #if no good split was found return\n",
    "        if split == None:\n",
    "            return\n",
    "        \n",
    "        # Build test function\n",
    "        col_to_split = fns[split][0]\n",
    "        splitter = lambda a: (a[col_to_split] >= fns[split][1])\n",
    "\n",
    "        mask = tr_x[split]\n",
    "        left = decision_tree()\n",
    "        right = decision_tree()\n",
    "        left.fit(x[~mask],y[~mask],depth-1,loss, minsize, quintiles)\n",
    "        right.fit(x[mask],y[mask],depth-1,loss, minsize, quintiles)\n",
    "        def g(z):\n",
    "            if(splitter(z)):\n",
    "                return right.f(z)\n",
    "            else:\n",
    "                return left.f(z)\n",
    "        self.f = g\n",
    "\n",
    "    def predict(self, x):\n",
    "        \"\"\"\n",
    "        Used for bulk prediction\n",
    "        \"\"\"\n",
    "        num_samples = x.shape[0]\n",
    "        \n",
    "        return np.array([self.f(x.iloc[ix,:]) for ix in range(num_samples)])\n",
    "        "
   ]
  },
  {
   "cell_type": "markdown",
   "metadata": {},
   "source": [
    "Test this out."
   ]
  },
  {
   "cell_type": "code",
   "execution_count": 1576,
   "metadata": {
    "collapsed": true
   },
   "outputs": [],
   "source": [
    "dt = decision_tree()"
   ]
  },
  {
   "cell_type": "code",
   "execution_count": null,
   "metadata": {},
   "outputs": [],
   "source": [
    "dt.fit(train_x, train_y_ohe, loss = MSE, minsize = 1, depth = 6, quintiles = 50)"
   ]
  },
  {
   "cell_type": "code",
   "execution_count": null,
   "metadata": {},
   "outputs": [],
   "source": [
    "dt.predict(test_x.iloc[0:3,:]), test_y_ohe[0:3]"
   ]
  },
  {
   "cell_type": "code",
   "execution_count": null,
   "metadata": {},
   "outputs": [],
   "source": [
    "preds = dt.predict(train_x)"
   ]
  },
  {
   "cell_type": "code",
   "execution_count": null,
   "metadata": {},
   "outputs": [],
   "source": [
    "np.mean(np.argmax(preds, axis=1)==train_y)"
   ]
  },
  {
   "cell_type": "markdown",
   "metadata": {},
   "source": [
    "The naive option:"
   ]
  },
  {
   "cell_type": "code",
   "execution_count": null,
   "metadata": {},
   "outputs": [],
   "source": [
    "1-np.mean(test_y)"
   ]
  },
  {
   "cell_type": "code",
   "execution_count": 1645,
   "metadata": {},
   "outputs": [],
   "source": [
    "class gradient_boosting_trees(object):\n",
    "    \n",
    "    def fit(self, x, y, depth = 2, quintiles = 10, num_trees  = 10):\n",
    "        self.forest = [None]*num_trees\n",
    "        cur_y = y[:]\n",
    "        \n",
    "        for ix in range(num_trees):\n",
    "            self.forest[ix] = decision_tree()\n",
    "            self.forest[ix].fit(x, cur_y, loss=MSE, depth = depth, quintiles = quintiles, minsize = 1)\n",
    "            \n",
    "            preds =  self.forest[ix].predict(x)\n",
    "            cur_y = cur_y - preds\n",
    "    \n",
    "    def predict(self,x):\n",
    "        s = 0.\n",
    "        preds = [tree.predict(x) for tree in self.forest]\n",
    "        for t in preds:\n",
    "            s+=t\n",
    "        return s\n",
    "    \n",
    "    "
   ]
  },
  {
   "cell_type": "code",
   "execution_count": 1680,
   "metadata": {
    "collapsed": true
   },
   "outputs": [],
   "source": [
    "forest = gradient_boosting_trees()"
   ]
  },
  {
   "cell_type": "code",
   "execution_count": 1681,
   "metadata": {
    "collapsed": true
   },
   "outputs": [],
   "source": [
    "train_y_ohe = ohe.fit_transform(train_y.values.reshape(-1,1))"
   ]
  },
  {
   "cell_type": "code",
   "execution_count": null,
   "metadata": {},
   "outputs": [],
   "source": [
    "forest.fit(train_x, train_y_ohe, depth = 20, num_trees = 5, quintiles = 20)"
   ]
  },
  {
   "cell_type": "code",
   "execution_count": null,
   "metadata": {},
   "outputs": [],
   "source": [
    "forest.predict(test_x.iloc[0:3,:]), test_y_ohe[0:3]"
   ]
  },
  {
   "cell_type": "code",
   "execution_count": null,
   "metadata": {
    "collapsed": true
   },
   "outputs": [],
   "source": [
    "for_preds = forest.predict(train_x)"
   ]
  },
  {
   "cell_type": "code",
   "execution_count": null,
   "metadata": {},
   "outputs": [],
   "source": [
    "for_preds[0:5,:]"
   ]
  },
  {
   "cell_type": "code",
   "execution_count": null,
   "metadata": {},
   "outputs": [],
   "source": [
    "train_y_ohe[0:3]"
   ]
  },
  {
   "cell_type": "code",
   "execution_count": null,
   "metadata": {},
   "outputs": [],
   "source": [
    "np.mean(np.argmax(for_preds, axis=1)==train_y)"
   ]
  },
  {
   "cell_type": "code",
   "execution_count": null,
   "metadata": {
    "collapsed": true
   },
   "outputs": [],
   "source": [
    "for_preds = forest.predict(test_x)"
   ]
  },
  {
   "cell_type": "code",
   "execution_count": null,
   "metadata": {},
   "outputs": [],
   "source": [
    "np.mean(np.argmax(for_preds, axis=1)==test_y)"
   ]
  },
  {
   "cell_type": "code",
   "execution_count": null,
   "metadata": {
    "collapsed": true
   },
   "outputs": [],
   "source": [
    "from sklearn import tree"
   ]
  },
  {
   "cell_type": "code",
   "execution_count": null,
   "metadata": {
    "collapsed": true
   },
   "outputs": [],
   "source": [
    "sktree = tree.DecisionTreeClassifier(max_depth=20)"
   ]
  },
  {
   "cell_type": "code",
   "execution_count": null,
   "metadata": {},
   "outputs": [],
   "source": [
    "sktree.fit(train_x, train_y_ohe)"
   ]
  },
  {
   "cell_type": "code",
   "execution_count": null,
   "metadata": {
    "collapsed": true
   },
   "outputs": [],
   "source": []
  }
 ],
 "metadata": {
  "kernelspec": {
   "display_name": "Python 3",
   "language": "python",
   "name": "python3"
  },
  "language_info": {
   "codemirror_mode": {
    "name": "ipython",
    "version": 3
   },
   "file_extension": ".py",
   "mimetype": "text/x-python",
   "name": "python",
   "nbconvert_exporter": "python",
   "pygments_lexer": "ipython3",
   "version": "3.6.1"
  }
 },
 "nbformat": 4,
 "nbformat_minor": 2
}
