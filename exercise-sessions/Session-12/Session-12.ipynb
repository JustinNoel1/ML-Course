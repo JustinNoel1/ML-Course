{
 "cells": [
  {
   "cell_type": "markdown",
   "metadata": {},
   "source": [
    "## Problem Set 12\n",
    "\n",
    "First the exercises:\n",
    "* Let $\\mu=\\frac{1}{|S|}\\sum_{x_i\\in S} x_i$ let us expand \n",
    "\\begin{align*}\n",
    "\\sum_{x_i\\in S} ||x_i-\\mu||^2 &=\\sum_{x_i\\in S}(x_i-\\mu)^T(x_i-\\mu)\\\\\n",
    "    &= |S|\\mu^T\\mu+\\sum_{x_i\\in S}\\left( x_i^Tx_i-2\\mu^T x_i \\right) \\\\\n",
    "    &= \\frac{1}{|S|}\\left(\\sum_{(x_i,x_j)\\in S\\times S} x_i^T x_j\\right) + \\sum_{x_i\\in S} \\left( x_i^Tx_i-\\frac{2}{|S|}\\left(\\sum_{x_j\\in S} x_j^T x_i\\right)\\right)\\\\\n",
    "      &= \\sum_{x_i\\in S} x_i^Tx_i-\\frac{1}{|S|}\\sum_{(x_i,x_j)\\in S\\times S} x_j^T x_i\\\\\n",
    "      &= \\frac{1}{2}\\left(\\sum_{x_i\\in S} x_i^Tx_i-\\frac{2}{|S|}\\sum_{(x_i,x_j)\\in S\\times S} x_j^T x_i+\\sum_{x_j\\in S} x_j^Tx_j \\right)\\\\\n",
    "      &= \\frac{1}{2|S|}\\left(\\sum_{(x_i,x_j)\\in S\\times S} x_i^Tx_i-2\\sum_{(x_i,x_j)\\in S\\times S} x_j^T x_i+\\sum_{(x_i,x_j)\\in S\\times S} x_j^Tx_j \\right)\\\\\n",
    "      &= \\frac{1}{2|S|}\\sum_{(x_i,x_j)\\in S\\times S} (x_i-x_j)^T(x_i-x_j)\\\\\n",
    "      &= \\frac{1}{2|S|}\\sum_{(x_i,x_j)\\in S\\times S} ||x_i-x_j||^2\n",
    "\\end{align*}\n",
    "as desired.\n",
    "* So the $K$-means algorithm consists of iterations of two steps, we will show that either the algorithm has stabilized or that each of these steps decreases\n",
    "\\[ T=\\sum_{c=1}^K \\sum_{x_i\\in S_c}||x_i-\\mu_c||^2,\\] where $S_c$ is the $c$th cluster and $\\mu_c$ is the previously defined mean over that cluster. The sequence defined by these sums is therefore monotonically decreasing and bounded below so it will eventually approach the maximal lower bound. \n",
    "\n",
    "The value of $\\mu$ that minimizes $\\sum_{x_i\\in S_c}||x_i-\\mu||^2$ is $\\frac{1}{|S_c|}\\sum_{x_i\\in S_c} x_i$ (we can check this by setting the derivative with respect to $\\mu$ to zero). So updating the mean estimates will never increase $T$. If we do not update the mean estimates than the cluster assignments will not change on the next step. \n",
    "\n",
    "The next step maps samples to their closest mean which can only decrease the sum $T$.\n",
    "\n",
    "### Python Lab\n",
    "\n",
    "Now let us load our standard libraries."
   ]
  },
  {
   "cell_type": "code",
   "execution_count": 1,
   "metadata": {},
   "outputs": [
    {
     "name": "stderr",
     "output_type": "stream",
     "text": [
      "Using TensorFlow backend.\n"
     ]
    }
   ],
   "source": [
    "import numpy as np\n",
    "import pandas as pd\n",
    "import keras\n",
    "from keras.datasets import mnist"
   ]
  },
  {
   "cell_type": "markdown",
   "metadata": {},
   "source": [
    "Let us load up a sample dataset."
   ]
  },
  {
   "cell_type": "code",
   "execution_count": 2,
   "metadata": {},
   "outputs": [],
   "source": [
    "(x_train, y_train), (x_test, y_test) = mnist.load_data()"
   ]
  },
  {
   "cell_type": "code",
   "execution_count": 3,
   "metadata": {},
   "outputs": [
    {
     "data": {
      "text/plain": [
       "(60000, 28, 28)"
      ]
     },
     "execution_count": 3,
     "metadata": {},
     "output_type": "execute_result"
    }
   ],
   "source": [
    "x_train.shape"
   ]
  },
  {
   "cell_type": "code",
   "execution_count": 4,
   "metadata": {
    "collapsed": true
   },
   "outputs": [],
   "source": [
    "import matplotlib.pyplot as plt"
   ]
  },
  {
   "cell_type": "code",
   "execution_count": 5,
   "metadata": {
    "collapsed": true
   },
   "outputs": [],
   "source": [
    "%matplotlib inline"
   ]
  },
  {
   "cell_type": "code",
   "execution_count": 6,
   "metadata": {},
   "outputs": [
    {
     "name": "stdout",
     "output_type": "stream",
     "text": [
      "Label is 7.\n"
     ]
    },
    {
     "data": {
      "image/png": "[encoded data removed]",
      "text/plain": [
       "<matplotlib.figure.Figure at 0x10d2c2940>"
      ]
     },
     "metadata": {},
     "output_type": "display_data"
    }
   ],
   "source": [
    "randix = np.random.randint(0,60000)\n",
    "plt.imshow(x_train[randix])\n",
    "print(\"Label is {}.\".format(y_train[randix]))"
   ]
  },
  {
   "cell_type": "code",
   "execution_count": 7,
   "metadata": {},
   "outputs": [],
   "source": [
    "x_train_f = x_train.reshape(60000,-1)"
   ]
  },
  {
   "cell_type": "code",
   "execution_count": 8,
   "metadata": {},
   "outputs": [
    {
     "data": {
      "text/plain": [
       "(60000, 784)"
      ]
     },
     "execution_count": 8,
     "metadata": {},
     "output_type": "execute_result"
    }
   ],
   "source": [
    "x_train_f.shape"
   ]
  },
  {
   "cell_type": "code",
   "execution_count": 9,
   "metadata": {
    "collapsed": true
   },
   "outputs": [],
   "source": [
    "x_test_f = x_test.reshape(-1, 28**2)"
   ]
  },
  {
   "cell_type": "code",
   "execution_count": 10,
   "metadata": {},
   "outputs": [
    {
     "data": {
      "text/plain": [
       "(10000, 784)"
      ]
     },
     "execution_count": 10,
     "metadata": {},
     "output_type": "execute_result"
    }
   ],
   "source": [
    "x_test_f.shape"
   ]
  },
  {
   "cell_type": "code",
   "execution_count": 11,
   "metadata": {
    "collapsed": true
   },
   "outputs": [],
   "source": [
    "from sklearn.preprocessing import OneHotEncoder as OHE"
   ]
  },
  {
   "cell_type": "code",
   "execution_count": 12,
   "metadata": {},
   "outputs": [],
   "source": [
    "ohe = OHE(sparse = False)\n",
    "y_train_ohe = ohe.fit_transform(y_train.reshape(-1,1))\n",
    "y_test_ohe = ohe.fit_transform(y_test.reshape(-1,1))"
   ]
  },
  {
   "cell_type": "code",
   "execution_count": 13,
   "metadata": {},
   "outputs": [
    {
     "data": {
      "text/plain": [
       "True"
      ]
     },
     "execution_count": 13,
     "metadata": {},
     "output_type": "execute_result"
    }
   ],
   "source": [
    "np.argmax(y_train_ohe[randix]) == y_train[randix]"
   ]
  },
  {
   "cell_type": "markdown",
   "metadata": {},
   "source": [
    "Now construct a KNN classifier"
   ]
  },
  {
   "cell_type": "code",
   "execution_count": 14,
   "metadata": {
    "collapsed": true
   },
   "outputs": [],
   "source": [
    "from scipy.spatial.distance import cdist\n",
    "from sklearn.neighbors import KDTree\n",
    "class KNNClassifier(object):\n",
    "\n",
    "    def fit(self,x,y,k=1,fun=lambda x: np.mean(x,axis=0)):\n",
    "        \"\"\"Fits a KNN regressor.\n",
    "        Args:\n",
    "            x (numpy array) Array of samples indexed along first axis.\n",
    "            y (numpy array) Array of corresponding labels.\n",
    "            k (int) the number of neighbors\n",
    "            fun (function numpy array --> desired output) Function to be applied to k-nearest\n",
    "              neighbors for predictions\n",
    "        \"\"\"\n",
    "        self.x = x[:]\n",
    "        self.y = y[:]\n",
    "        self.k = k\n",
    "        self.f = fun\n",
    "        self.tree = KDTree(self.x)\n",
    "        \n",
    "    def predict_one(self, sample):\n",
    "        \"\"\"\n",
    "        Run prediction on sample\n",
    "        \n",
    "        Args:\n",
    "            new_x (numpy array) sample\n",
    "        \n",
    "        \"\"\"\n",
    "        dists = cdist(sample.reshape(1,-1),self.x)\n",
    "        ix = np.argpartition(dists,self.k-1)[0,0:self.k]\n",
    "        return self.f(self.y[ix])\n",
    "    \n",
    "    def predict(self, samples):\n",
    "        \"\"\"\n",
    "        Run predictions on list.\n",
    "        Args:\n",
    "            samples (numpy array) samples\n",
    "        \"\"\"\n",
    "        return np.array([self.predict_one(x) for x in samples])\n",
    "    \n",
    "    def faster_predict(self,samples):\n",
    "        \"\"\"\n",
    "        Run faster predictions on list.\n",
    "        Args:\n",
    "            samples (numpy array) samples\n",
    "        \"\"\"\n",
    "        _, ixs = self.tree.query(samples, k=self.k)\n",
    "        #print(ixs)\n",
    "        return np.array([self.f(self.y[ix]) for ix in ixs])\n",
    "        \n"
   ]
  },
  {
   "cell_type": "code",
   "execution_count": 15,
   "metadata": {
    "collapsed": true
   },
   "outputs": [],
   "source": [
    "classifier = KNNClassifier()"
   ]
  },
  {
   "cell_type": "code",
   "execution_count": 16,
   "metadata": {},
   "outputs": [],
   "source": [
    "classifier.fit(x_train_f, y_train_ohe, k=1)"
   ]
  },
  {
   "cell_type": "code",
   "execution_count": null,
   "metadata": {},
   "outputs": [],
   "source": [
    "preds=classifier.predict(x_test_f[:500])"
   ]
  },
  {
   "cell_type": "markdown",
   "metadata": {},
   "source": [
    "Calculate accuracy on this very small subset."
   ]
  },
  {
   "cell_type": "code",
   "execution_count": null,
   "metadata": {},
   "outputs": [],
   "source": [
    "np.mean(np.argmax(preds,axis=1)==y_test[:500])"
   ]
  },
  {
   "cell_type": "code",
   "execution_count": null,
   "metadata": {},
   "outputs": [],
   "source": [
    "faster_preds = classifier.faster_predict(x_test_f[:500])"
   ]
  },
  {
   "cell_type": "code",
   "execution_count": null,
   "metadata": {},
   "outputs": [],
   "source": [
    "np.mean(np.argmax(faster_preds,axis=1)==y_test[:500])"
   ]
  },
  {
   "cell_type": "markdown",
   "metadata": {},
   "source": [
    "Okay now, let us try the clustering algorithm."
   ]
  },
  {
   "cell_type": "code",
   "execution_count": 21,
   "metadata": {},
   "outputs": [],
   "source": [
    "def cluster_means(x,cluster_assignments,k):\n",
    "    \"\"\"\n",
    "    Return the new cluster means given the cluster assignments\n",
    "    \"\"\"\n",
    "    cluster_counter = np.zeros((k,1))\n",
    "    cluster_means = np.zeros((k, x.shape[1]))\n",
    "    for cluster, pt in zip(cluster_assignments, x):\n",
    "        #print(x)\n",
    "        cluster_means[cluster] += pt\n",
    "        cluster_counter[cluster]+=1\n",
    "    z = cluster_means/cluster_counter\n",
    "    #print(z)\n",
    "    return z\n",
    "\n",
    "class KMeansCluster(object):\n",
    "\n",
    "    \n",
    "    #Fit a clustering object on a dataset x consisting of samples on each row\n",
    "    #by the K-means algorithm into k clusters\n",
    "    def fit(self,x,k):\n",
    "        \"\"\"\n",
    "        Fit k-means clusterer\n",
    "        \n",
    "        Args:\n",
    "            x (numpy array) samples\n",
    "            k (int) number of clusters\n",
    "        \"\"\"\n",
    "        num_samples, num_features = x.shape[0], x.shape[1]\n",
    "        #Randomly assign clusters\n",
    "        cluster_assignments = np.random.randint(0,k,num_samples)\n",
    "        \n",
    "        #initialize\n",
    "        cluster_mus = np.zeros((k,num_features))\n",
    "        \n",
    "        #update\n",
    "        new_cluster_mus = cluster_means(x,cluster_assignments,k)\n",
    "        count = 1\n",
    "        while (cluster_mus!=new_cluster_mus).any() and count < 10**3:\n",
    "            count += 1\n",
    "            print(\"Iteration {}\".format(count),end=\"\\r\")\n",
    "            cluster_mus = new_cluster_mus\n",
    "            #calculate distances\n",
    "            distances = cdist(x,cluster_mus, metric = 'sqeuclidean')\n",
    "            np.argmin(distances, axis = 1, out = cluster_assignments)\n",
    "            new_cluster_mus = cluster_means(x,cluster_assignments,k)\n",
    "        self.cluster_means = cluster_means\n",
    "        self.cluster_assignments = cluster_assignments\n",
    "        self.x = x[:]\n",
    "           \n"
   ]
  },
  {
   "cell_type": "code",
   "execution_count": 22,
   "metadata": {},
   "outputs": [
    {
     "name": "stdout",
     "output_type": "stream",
     "text": [
      "Iteration 153\r"
     ]
    }
   ],
   "source": [
    "clusterer = KMeansCluster()\n",
    "clusterer.fit(x_train_f,10)"
   ]
  },
  {
   "cell_type": "code",
   "execution_count": 23,
   "metadata": {
    "collapsed": true
   },
   "outputs": [],
   "source": [
    "from sklearn.metrics import confusion_matrix"
   ]
  },
  {
   "cell_type": "code",
   "execution_count": 24,
   "metadata": {},
   "outputs": [
    {
     "data": {
      "text/plain": [
       "array([[   2,    7,  167,  223, 1144,   44, 4248,   80,    3,    5],\n",
       "       [3046,    9,    6,    5,    6,    6,    0,    8, 3646,   10],\n",
       "       [ 327, 4153,  133,  257,  222,  193,   43,  178,  387,   65],\n",
       "       [  50,  158,   33, 3868,  464,  168,   22,  914,  419,   35],\n",
       "       [ 206,   33,  142,    0,  185, 3201,    7,   11,  168, 1889],\n",
       "       [ 228,    5,   72, 1811, 1586,  372,   51,  960,  172,  164],\n",
       "       [  45,   65, 3985,   33, 1407,   65,   54,   23,  240,    1],\n",
       "       [ 257,   40,    4,    5,   11, 1805,   20,   17,  340, 3766],\n",
       "       [ 267,   43,   45, 1009,  305,  179,   29, 3486,  326,  162],\n",
       "       [  86,   16,    9,   83,   28, 2913,   39,   72,  260, 2443]])"
      ]
     },
     "execution_count": 24,
     "metadata": {},
     "output_type": "execute_result"
    }
   ],
   "source": [
    "confusion_matrix(y_train, clusterer.cluster_assignments)"
   ]
  },
  {
   "cell_type": "code",
   "execution_count": 27,
   "metadata": {},
   "outputs": [],
   "source": [
    "cluster_samples = clusterer.x[clusterer.cluster_assignments == 0]"
   ]
  },
  {
   "cell_type": "code",
   "execution_count": 28,
   "metadata": {},
   "outputs": [
    {
     "data": {
      "text/plain": [
       "<matplotlib.image.AxesImage at 0x11733f0f0>"
      ]
     },
     "execution_count": 28,
     "metadata": {},
     "output_type": "execute_result"
    },
    {
     "data": {
      "image/png": "[encoded data removed]",
      "text/plain": [
       "<matplotlib.figure.Figure at 0x10d329ac8>"
      ]
     },
     "metadata": {},
     "output_type": "display_data"
    }
   ],
   "source": [
    "plt.imshow(cluster_samples[0].reshape(28,28))"
   ]
  },
  {
   "cell_type": "code",
   "execution_count": 29,
   "metadata": {},
   "outputs": [
    {
     "data": {
      "text/plain": [
       "<matplotlib.image.AxesImage at 0x117190c18>"
      ]
     },
     "execution_count": 29,
     "metadata": {},
     "output_type": "execute_result"
    },
    {
     "data": {
      "image/png": "[encoded data removed]",
      "text/plain": [
       "<matplotlib.figure.Figure at 0x11734e668>"
      ]
     },
     "metadata": {},
     "output_type": "display_data"
    }
   ],
   "source": [
    "plt.imshow(cluster_samples[1].reshape(28,28))"
   ]
  },
  {
   "cell_type": "code",
   "execution_count": 30,
   "metadata": {},
   "outputs": [
    {
     "data": {
      "text/plain": [
       "<matplotlib.image.AxesImage at 0x133162c18>"
      ]
     },
     "execution_count": 30,
     "metadata": {},
     "output_type": "execute_result"
    },
    {
     "data": {
      "image/png": "[encoded data removed]",
      "text/plain": [
       "<matplotlib.figure.Figure at 0x132615240>"
      ]
     },
     "metadata": {},
     "output_type": "display_data"
    }
   ],
   "source": [
    "plt.imshow(cluster_samples[23].reshape(28,28))"
   ]
  },
  {
   "cell_type": "code",
   "execution_count": null,
   "metadata": {},
   "outputs": [
    {
     "data": {
      "text/plain": [
       "<matplotlib.image.AxesImage at 0x133275358>"
      ]
     },
     "execution_count": 31,
     "metadata": {},
     "output_type": "execute_result"
    },
    {
     "data": {
      "image/png": "[encoded data removed]",
      "text/plain": [
       "<matplotlib.figure.Figure at 0x1331b1400>"
      ]
     },
     "metadata": {},
     "output_type": "display_data"
    }
   ],
   "source": [
    "plt.imshow(cluster_samples[50].reshape(28,28))"
   ]
  },
  {
   "cell_type": "code",
   "execution_count": null,
   "metadata": {},
   "outputs": [],
   "source": [
    "np.mean(classifier.faster_predict(cluster_samples),axis=0)"
   ]
  },
  {
   "cell_type": "markdown",
   "metadata": {},
   "source": [
    "Let us load the credit card dataset and extract a small dataframe of numerical features to test on."
   ]
  },
  {
   "cell_type": "code",
   "execution_count": null,
   "metadata": {},
   "outputs": [],
   "source": [
    "big_df = pd.read_csv(\"UCI_Credit_Card.csv\")"
   ]
  },
  {
   "cell_type": "code",
   "execution_count": null,
   "metadata": {},
   "outputs": [],
   "source": [
    "big_df.head()"
   ]
  },
  {
   "cell_type": "code",
   "execution_count": null,
   "metadata": {},
   "outputs": [],
   "source": [
    "len(big_df)"
   ]
  },
  {
   "cell_type": "code",
   "execution_count": null,
   "metadata": {},
   "outputs": [],
   "source": [
    "len(big_df.dropna())"
   ]
  },
  {
   "cell_type": "code",
   "execution_count": null,
   "metadata": {
    "collapsed": true
   },
   "outputs": [],
   "source": [
    "df = big_df.drop(labels = ['ID'], axis = 1)"
   ]
  },
  {
   "cell_type": "code",
   "execution_count": null,
   "metadata": {
    "collapsed": true
   },
   "outputs": [],
   "source": [
    "labels = df['default.payment.next.month']\n",
    "df.drop('default.payment.next.month', axis = 1, inplace = True)"
   ]
  },
  {
   "cell_type": "code",
   "execution_count": null,
   "metadata": {
    "collapsed": true
   },
   "outputs": [],
   "source": [
    "num_samples = 25000"
   ]
  },
  {
   "cell_type": "code",
   "execution_count": null,
   "metadata": {
    "collapsed": true
   },
   "outputs": [],
   "source": [
    "train_x, train_y = df[0:num_samples], labels[0:num_samples]"
   ]
  },
  {
   "cell_type": "code",
   "execution_count": null,
   "metadata": {
    "collapsed": true
   },
   "outputs": [],
   "source": [
    "test_x, test_y = df[num_samples:], labels[num_samples:]"
   ]
  },
  {
   "cell_type": "code",
   "execution_count": null,
   "metadata": {},
   "outputs": [],
   "source": [
    "test_x.head()"
   ]
  },
  {
   "cell_type": "code",
   "execution_count": null,
   "metadata": {},
   "outputs": [],
   "source": [
    "train_y.head()"
   ]
  },
  {
   "cell_type": "markdown",
   "metadata": {},
   "source": [
    "Now let us write our transformation function."
   ]
  },
  {
   "cell_type": "code",
   "execution_count": null,
   "metadata": {
    "collapsed": true
   },
   "outputs": [],
   "source": [
    "class bin_transformer(object):\n",
    "    \n",
    "    def __init__(self, df, num_quantiles = 2):\n",
    "        self.quantiles = df.quantile(np.linspace(1./num_quantiles, 1.-1./num_quantiles,num_quantiles-1))\n",
    "            \n",
    "    \n",
    "    def transform(self, df):\n",
    "        new = pd.DataFrame()\n",
    "        fns = {}\n",
    "        for col_name in df.axes[1]:\n",
    "            for ix, q in self.quantiles.iterrows():\n",
    "                quart = q[col_name]\n",
    "                new[col_name+str(ix)] = (df[col_name] >= quart)\n",
    "                fns[col_name+str(ix)] =(col_name, lambda x: x[col_name]>=quart)\n",
    "        return new, fns"
   ]
  },
  {
   "cell_type": "code",
   "execution_count": null,
   "metadata": {
    "collapsed": true
   },
   "outputs": [],
   "source": [
    "transformer = bin_transformer(df,5)"
   ]
  },
  {
   "cell_type": "code",
   "execution_count": null,
   "metadata": {
    "collapsed": true
   },
   "outputs": [],
   "source": [
    "train_x_t, tr_fns = transformer.transform(train_x)"
   ]
  },
  {
   "cell_type": "code",
   "execution_count": null,
   "metadata": {
    "collapsed": true
   },
   "outputs": [],
   "source": [
    "test_x_t, test_fns = transformer.transform(test_x)"
   ]
  },
  {
   "cell_type": "code",
   "execution_count": null,
   "metadata": {},
   "outputs": [],
   "source": [
    "train_x_t.head()"
   ]
  },
  {
   "cell_type": "code",
   "execution_count": null,
   "metadata": {},
   "outputs": [],
   "source": [
    "tr_fns"
   ]
  },
  {
   "cell_type": "markdown",
   "metadata": {},
   "source": [
    "Now let us build some simple loss functions for 1d labels."
   ]
  },
  {
   "cell_type": "code",
   "execution_count": null,
   "metadata": {
    "collapsed": true
   },
   "outputs": [],
   "source": [
    "def bdd_cross_entropy(pred, label):\n",
    "    return -np.mean(label*np.log(pred+10**(-20)))"
   ]
  },
  {
   "cell_type": "code",
   "execution_count": null,
   "metadata": {
    "collapsed": true
   },
   "outputs": [],
   "source": [
    "def MSE(pred,label):\n",
    "    return np.mean((pred-label)**2)"
   ]
  },
  {
   "cell_type": "code",
   "execution_count": null,
   "metadata": {
    "collapsed": true
   },
   "outputs": [],
   "source": [
    "def acc(pred,label):\n",
    "    return np.mean((pred>=0.5)==(label == 1))"
   ]
  },
  {
   "cell_type": "markdown",
   "metadata": {},
   "source": [
    "Now let us define the find split function."
   ]
  },
  {
   "cell_type": "code",
   "execution_count": null,
   "metadata": {
    "collapsed": true
   },
   "outputs": [],
   "source": [
    "def find_split(x, y, loss, verbose = False):\n",
    "    min_ax = None\n",
    "    base_loss = loss(np.mean(y),y) \n",
    "    min_loss = base_loss\n",
    "    N = len(x)\n",
    "    for col_name in x.axes[1]:\n",
    "        mask = x[col_name]\n",
    "        num_pos = np.sum(mask)\n",
    "        num_neg = N - num_pos\n",
    "        pos_y = np.mean(y[mask])\n",
    "        neg_y = np.mean(y[~mask])\n",
    "        l = (num_pos*loss(pos_y, y[mask]) + num_neg*loss(neg_y, y[~mask]))/N\n",
    "        if verbose:\n",
    "            print(\"Column {0} split has improved loss {1}\".format(col_name, base_loss-l))\n",
    "        if l < min_loss:\n",
    "            min_loss = l\n",
    "            min_ax = col_name\n",
    "    return min_ax, min_loss\n",
    "        "
   ]
  },
  {
   "cell_type": "code",
   "execution_count": null,
   "metadata": {},
   "outputs": [],
   "source": [
    "find_split(train_x_t, train_y, MSE, verbose = False)"
   ]
  },
  {
   "cell_type": "code",
   "execution_count": null,
   "metadata": {},
   "outputs": [],
   "source": [
    "#Slow but simple\n",
    "class decision_tree(object):\n",
    "    def fit(self, x,y,depth=5,loss=MSE, minsize = 1, quintiles = 2):\n",
    "        mu = np.mean(y)\n",
    "        self.f = lambda x: mu\n",
    "        if(len(x)<=minsize or depth == 0):\n",
    "            return \n",
    "        tr = bin_transformer(x, quintiles)\n",
    "        tr_x, fns = tr.transform(x)\n",
    "        split, _ = find_split(tr_x,y,loss)\n",
    "        if split == None:\n",
    "            return\n",
    "        splitter = fns[split]\n",
    "        mask = tr_x[split]\n",
    "        left = decision_tree()\n",
    "        right = decision_tree()\n",
    "        left.fit(tr_x[~mask],y[~mask],depth-1,loss, minsize, quintiles)\n",
    "        right.fit(tr_x[mask],y[mask],depth-1,loss, minsize, quintiles)\n",
    "        def g(x):\n",
    "            print(\"spliting at {}, {}\".format(split,x))\n",
    "            if(splitter(x)):\n",
    "                print(\"right {}\".format(right.f(x)))\n",
    "                return right.f(x)\n",
    "            else:\n",
    "                print(\"right {}\".format(right.f(x)))\n",
    "                return left.f(x)\n",
    "        self.f = g"
   ]
  },
  {
   "cell_type": "code",
   "execution_count": null,
   "metadata": {},
   "outputs": [],
   "source": [
    "find_split(train_x_t, train_y, acc, verbose = 0)"
   ]
  },
  {
   "cell_type": "code",
   "execution_count": null,
   "metadata": {},
   "outputs": [],
   "source": [
    "np.mean(train_y[train_x_t['PAY_00.8']])"
   ]
  },
  {
   "cell_type": "code",
   "execution_count": null,
   "metadata": {},
   "outputs": [],
   "source": [
    "np.mean(train_y[~train_x_t['PAY_00.8']])"
   ]
  },
  {
   "cell_type": "code",
   "execution_count": null,
   "metadata": {},
   "outputs": [],
   "source": [
    "np.mean(train_y[train_x_t['AGE0.2']])"
   ]
  },
  {
   "cell_type": "code",
   "execution_count": null,
   "metadata": {},
   "outputs": [],
   "source": [
    "np.mean(train_y[~train_x_t['AGE0.2']])"
   ]
  },
  {
   "cell_type": "code",
   "execution_count": 2,
   "metadata": {
    "collapsed": true
   },
   "outputs": [],
   "source": []
  },
  {
   "cell_type": "code",
   "execution_count": null,
   "metadata": {
    "collapsed": true
   },
   "outputs": [],
   "source": []
  }
 ],
 "metadata": {
  "kernelspec": {
   "display_name": "Python 3",
   "language": "python",
   "name": "python3"
  },
  "language_info": {
   "codemirror_mode": {
    "name": "ipython",
    "version": 3
   },
   "file_extension": ".py",
   "mimetype": "text/x-python",
   "name": "python",
   "nbconvert_exporter": "python",
   "pygments_lexer": "ipython3",
   "version": "3.6.1"
  }
 },
 "nbformat": 4,
 "nbformat_minor": 2
}
