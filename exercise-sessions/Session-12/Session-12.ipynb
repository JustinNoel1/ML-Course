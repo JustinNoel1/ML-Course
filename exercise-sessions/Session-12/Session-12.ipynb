{
 "cells": [
  {
   "cell_type": "markdown",
   "metadata": {},
   "source": [
    "## Problem Set 12\n",
    "\n",
    "First the exercises:\n",
    "* Let $\\mu=\\frac{1}{|S|}\\sum_{x_i\\in S} x_i$ let us expand \n",
    "\\begin{align*}\n",
    "\\sum_{x_i\\in S} ||x_i-\\mu||^2 &=\\sum_{x_i\\in S}(x_i-\\mu)^T(x_i-\\mu)\\\\\n",
    "    &= |S|\\mu^T\\mu+\\sum_{x_i\\in S}\\left( x_i^Tx_i-2\\mu^T x_i \\right) \\\\\n",
    "    &= \\frac{1}{|S|}\\left(\\sum_{(x_i,x_j)\\in S\\times S} x_i^T x_j\\right) + \\sum_{x_i\\in S} \\left( x_i^Tx_i-\\frac{2}{|S|}\\left(\\sum_{x_j\\in S} x_j^T x_i\\right)\\right)\\\\\n",
    "      &= \\sum_{x_i\\in S} x_i^Tx_i-\\frac{1}{|S|}\\sum_{(x_i,x_j)\\in S\\times S} x_j^T x_i\\\\\n",
    "      &= \\frac{1}{2}\\left(\\sum_{x_i\\in S} x_i^Tx_i-\\frac{2}{|S|}\\sum_{(x_i,x_j)\\in S\\times S} x_j^T x_i+\\sum_{x_j\\in S} x_j^Tx_j \\right)\\\\\n",
    "      &= \\frac{1}{2|S|}\\left(\\sum_{(x_i,x_j)\\in S\\times S} x_i^Tx_i-2\\sum_{(x_i,x_j)\\in S\\times S} x_j^T x_i+\\sum_{(x_i,x_j)\\in S\\times S} x_j^Tx_j \\right)\\\\\n",
    "      &= \\frac{1}{2|S|}\\sum_{(x_i,x_j)\\in S\\times S} (x_i-x_j)^T(x_i-x_j)\\\\\n",
    "      &= \\frac{1}{2|S|}\\sum_{(x_i,x_j)\\in S\\times S} ||x_i-x_j||^2\n",
    "\\end{align*}\n",
    "as desired.\n",
    "* So the $K$-means algorithm consists of iterations of two steps, we will show that either the algorithm has stabilized or that each of these steps decreases\n",
    "\\[ T=\\sum_{c=1}^K \\sum_{x_i\\in S_c}||x_i-\\mu_c||^2,\\] where $S_c$ is the $c$th cluster and $\\mu_c$ is the previously defined mean over that cluster. The sequence defined by these sums is therefore monotonically decreasing and bounded below so it will eventually approach the maximal lower bound. \n",
    "\n",
    "The value of $\\mu$ that minimizes $\\sum_{x_i\\in S_c}||x_i-\\mu||^2$ is $\\frac{1}{|S_c|}\\sum_{x_i\\in S_c} x_i$ (we can check this by setting the derivative with respect to $\\mu$ to zero). So updating the mean estimates will never increase $T$. If we do not update the mean estimates than the cluster assignments will not change on the next step. \n",
    "\n",
    "The next step maps samples to their closest mean which can only decrease the sum $T$.\n",
    "\n",
    "### Python Lab\n",
    "\n",
    "Now let us load our standard libraries."
   ]
  },
  {
   "cell_type": "code",
   "execution_count": 1,
   "metadata": {
    "collapsed": false
   },
   "outputs": [
    {
     "name": "stderr",
     "output_type": "stream",
     "text": [
      "Using TensorFlow backend.\n"
     ]
    }
   ],
   "source": [
    "import numpy as np\n",
    "import pandas as pd\n",
    "import keras\n",
    "from keras.datasets import mnist"
   ]
  },
  {
   "cell_type": "markdown",
   "metadata": {},
   "source": [
    "Let us load up a sample dataset."
   ]
  },
  {
   "cell_type": "code",
   "execution_count": 2,
   "metadata": {
    "collapsed": false
   },
   "outputs": [
    {
     "name": "stdout",
     "output_type": "stream",
     "text": [
      "Downloading data from https://s3.amazonaws.com/img-datasets/mnist.npz\n",
      "11493376/11490434 [==============================] - 3s 0us/step\b\b\b\b\b\b\b\b\b\b\b\b\b\b\b\b\b\b\b\b\b\b\b\b\b\b\b\b\b\b\b\b\b\b\b\b\b\b\b\b\b\b\b\b\b\b\b\b\b\b\b\b\b\b\b\b\b\b\b\b\b\b\b\b\b\b\b\b\b\b\b\b\b\b\b\b\b\b\b\b\b\b\b\b\b\b\b\b\b\b\b\b\b\b\b\b\b\b\b\b\b\b\b\b\b\b\b\b\b\b\b\b\b\b\b\b\b\b\b\b\b\b\b\b\b\b\b\b\b\b\b\b\b\b\b\b\b\b\b\b\b\b\b\b\b\b\b\b\b\b\b\b\b\b\b\b\b\b\b\b\b\b\b\b\b\b\b\b\b\b\b\b\b\b\b\b\b\b\b\b\b\b\b\b\b\b\b\b\b\b\b\b\b\b\b\b\b\b\b\b\b\b\b\b\b\b\b\b\b\b\b\b\b\b\b\b\b\b\b\b\b\b\b\b\b\b\b\b\b\b\b\b\b\b\b\b\b\b\b\b\b\b\b\b\b\b\b\b\b\b\b\b\b\b\b\b\b\b\b\b\b\b\b\b\b\b\b\b\b\b\b\b\b\b\b\b\b\b\b\b\b\b\b\b\b\b\b\b\b\b\b\b\b\b\b\b\b\b\b\b\b\b\b\b\b\b\b\b\b\b\b\b\b\b\b\b\b\b\b\b\b\b\b\b\b\b\b\b\b\b\b\b\b\b\b\b\b\b\b\b\b\b\b\b\b\b\b\b\b\b\b\b\b\b\b\b\b\b\b\b\b\b\b\b\b\b\b\b\b\b\b\b\b\b\b\b\b\b\b\b\b\b\b\b\b\b\b\b\b\b\b\b\b\b\b\b\b\b\b\b\b\b\b\b\b\b\b\b\b\b\b\b\b\b\b\b\b\b\b\b\b\b\b\b\b\b\b\b\b\b\b\b\b\b\b\b\b\b\b\b\b\b\b\b\b\b\b\b\b\b\b\b\b\b\b\b\b\b\b\b\b\b\b\b\b\b\b\b\b\b\b\b\b\b\b\b\b\b\b\b\b\b\b\b\b\b\b\b\b\b\b\b\b\b\b\b\b\b\b\b\b\b\b\b\b\b\b\b\b\b\b\b\b\b\b\b\b\b\b\b\b\b\b\b\b\b\b\b\b\b\b\b\b\b\b\b\b\b\b\b\b\b\b\b\b\b\b\b\b\b\b\b\b\b\b\b\b\b\b\b\b\b\b\b\b\b\b\b\b\b\b\b\b\b\b\b\b\b\b\b\b\b\b\b\b\b\b\b\b\b\b\b\b\b\b\b\b\b\b\b\b\b\b\b\b\b\b\b\b\b\b\b\b\b\b\b\b\b\b\b\b\b\b\b\b\b\b\b\b\b\b\b\b\b\b\b\b\b\b\b\b\b\b\b\b\b\b\b\b\b\b\b\b\b\b\b\b\b\b\b\b\b\b\b\b\b\b\b\b\b\b\b\b\b\b\b\b\b\b\b\b\b\b\b\b\b\b\b\b\b\b\b\b\b\b\b\b\b\b\b\b\b\b\b\b\b\b\b\b\b\b\b\b\b\b\b\b\b\b\b\b\b\b\b\b\b\b\b\b\b\b\b\b\b\b\b\b\b\b\b\b\b\b\b\b\b\b\b\b\b\b\b\b\b\b\b\b\b\b\b\b\b\b\b\b\b\b\b\b\b\b\b\b\b\b\b\b\b\b\b\b\b\b\b\b\b\b\b\b\b\b\b\b\b\b\b\b\b\b\b\b\b\b\b\b\b\b\b\b\b\b\b\b\b\b\b\b\b\b\b\b\b\b\b\b\b\b\b\b\b\b\b\b\b\b\b\b\b\b\b\b\b\b\b\b\b\b\b\b\b\b\b\b\b\b\b\b\b\b\b\b\b\b\b\b\b\b\b\b\b\b\b\b\b\b\b\b\b\b\b\b\b\b\b\b\b\b\b\b\b\b\b\b\b\b\b\b\b\b\b\b\b\b\b\b\b\b\b\b\b\b\b\b\b\b\b\b\b\b\b\b\b\b\b\b\b\b\b\b\b\b\b\b\b\b\b\b\b\b\b\b\b\b\b\b\b\b\b\b\b\b\b\b\b\b\b\b\b\b\b\b\b\b\b\b\b\b\b\b\b\b\b\b\b\b\b\b\b\b\b\b\b\b\b\b\b\b\b\b\b\b\b\b\b\b\b\b\b\b\b\b\b\b\b\b\b\b\b\b\b\b\b\b\b\b\b\b\b\b\b\b\b\b\b\b\b\b\b\b\b\b\b\b\b\b\b\b\b\b\b\b\b\b\b\b\b\b\b\b\b\b\b\b\b\b\b\b\b\b\b\b\b\b\b\b\b\b\b\b\b\b\b\b\b\b\b\b\b\b\b\b\b\b\b\b\b\b\b\b\b\b\b\b\b\b\b\b\b\b\b\b\b\b\b\b\b\b\b\b\b\b\b\b\b\b\b\b\b\b\b\b\b\b\b\b\b\b\b\b\b\b\b\b\b\b\b\b\b\b\b\b\b\b\b\b\b\b\b\b\b\b\b\b\b\b\b\b\b\b\b\b\b\b\b\b\b\b\b\b\b\b\b\b\b\b\b\b\b\b\b\b\b\b\b\b\b\b\b\b\b\b\b\b\b\b\b\b\b\b\b\b\b\b\b\b\b\b\b\b\b\b\b\b\b\b\b\b\b\b\b\b\b\b\b\b\b\b\b\b\b\b\b\b\b\b\b\b\b\b\b\b\b\b\b\b\b\b\b\b\b\b\b\b\b\b\b\b\b\b\b\b\b\b\b\b\b\b\b\b\b\b\b\b\b\b\b\b\b\b\b\b\b\b\b\b\b\b\b\b\b\b\b\b\b\b\b\b\b\b\b\b\b\b\b\b\b\b\b\b\b\b\b\b\b\b\b\b\b\b\b\b\b\b\b\b\b\b\b\b\b\b\b\b\b\b\b\b\b\b\b\b\b\b\b\b\b\b\b\b\b\b\b\b\b\b\b\b\b\b\b\b\b\b\b\b\b\b\b\b\b\b\b\b\b\b\b\b\b\b\b\b\b\b\b\b\b\b\b\b\b\b\b\b\b\b\b\b\b\b\b\b\b\b\b\b\b\b\b\b\b\b\b\b\b\b\b\b\b\b\b\b\b\b\b\b\b\b\b\b\b\b\b\b\b\b\b\b\b\b\b\b\b\b\b\b\b\b\b\b\b\b\b\b\b\b\b\b\b\b\b\b\b\b\b\b\b\b\b\b\b\b\b\b\b\b\b\b\b\b\b\b\b\b\b\b\b\b\b\b\b\b\b\b\b\b\b\b\b\b\b\b\b\b\b\b\b\b\b\b\b\b\b\b\b\b\b\b\b\b\b\b\b\b\b\b\b\b\b\b\b\b\b\b\b\b\b\b\b\b\b\b\b\b\b\b\b\b\b\b\b\b\b\b\b\b\b\b\b\b\b\b\b\b\b\b\b\b\b\b\b\b\b\b\b\b\b\b\b\b\b\b\b\b\b\b\b\b\b\b\b\b\b\b\b\b\b\b\b\b\b\b\b\b\b\b\b\b\b\b\b\b\b\b\b\b\b\b\b\b\b\b\b\b\b\b\b\b\b\b\b\b\b\b\b\b\b\b\b\b\b\b\b\b\b\b\b\b\b\b\b\b\b\b\b\b\b\b\b\b\b\b\b\b\b\b\b\b\b\b\b\b\b\b\b\b\b\b\b\b\b\b\b\b\b\b\b\b\b\b\b\b\b\b\b\b\b\b\b\b\b\b\b\b\b\b\b\b\b\b\b\b\b\b\b\b\b\b\b\b\b\b\b\b\b\b\b\b\b\b\b\b\b\b\b\b\b\b\b\b\b\b\b\b\b\b\b\b\b\b\b\b\b\b\b\b\b\b\b\b\b\b\b\b\b\b\b\b\b\b\b\b\b\b\b\b\b\b\b\b\b\b\b\b\b\b\b\b\b\b\b\b\b\b\b\b\b\b\b\b\b\b\b\b\b\b\b\b\b\b\b\b\b\b\b\b\b\b\b\b\b\b\b\b\b\b\b\b\b\b\b\b\b\b\b\b\b\b\b\b\b\b\b\b\b\b\b\b\b\b\b\b\b\b\b\b\b\b\b\b\b\b\b\b\b\b\b\b\b\b\b\b\b\b\b\b\b\b\b\b\b\b\b\b\b\b\b\b\b\b\b\b\b\b\b\b\b\b\b\b\b\b\b\b\b\b\b\b\b\b\b\b\b\b\b\b\b\b\b\b\b\b\b\b\b\b\b\b\b\b\b\b\b\b\b\b\b\b\b\b\b\b\b\b\b\b\b\b\b\b\b\b\b\b\b\b\b\b\b\b\b\b\b\b\b\b\b\b\b\b\b\b\b\b\b\b\b\b\b\b\b\b\b\b\b\b\b\b\b\b\b\b\b\b\b\b\b\b\b\b\b\b\b\b\b\b\b\b\b\b\b\b\b\b\b\b\b\b\b\b\b\b\b\b\b\b\b\b\b\b\b\b\b\b\b\b\b\b\b\b\b\b\b\b\b\b\b\b\b\b\b\b\b\b\b\b\b\b\b\b\b\b\b\b\b\b\b\b\b\b\b\b\b\b\b\b\b\b\b\b\b\b\b\b\b\b\b\b\b\b\b\b\b\b\b\b\b\b\b\b\b\b\b\b\b\b\b\b\b\b\b\b\b\b\b\b\b\b\b\b\b\b\b\b\b\b\b\b\b\b\b\b\b\b\b\b\b\b\b\b\b\b\b\b\b\b\b\b\b\b\b\b\b\b\b\b\b\b\b\b\b\b\b\b\b\b\b\b\b\b\b\b\b\b\b\b\b\b\b\b\b\b\b\b\b\b\b\b\b\b\b\b\b\b\b\b\b\b\b\b\b\b\b\b\b\b\b\b\b\b\b\b\b\b\b\b\b\b\b\b\b\b\b\b\b\b\b\b\b\b\b\b\b\b\b\b\b\b\b\b\b\b\b\b\b\b\b\b\b\b\b\b\b\b\b\b\b\b\b\b\b\b\b\b\b\b\b\b\b\b\b\b\b\b\b\b\b\b\b\b\b\b\b\b\b\b\b\b\b\b\b\b\b\b\b\b\b\b\b\b\b\b\b\b\b\b\b\b\b\b\b\b\b\b\b\b\b\b\b\b\b\b\b\b\b\b\b\b\b\b\b\b\b\b\b\b\b\b\b\b\b\b\b\b\b\b\b\b\b\b\b\b\b\n"
     ]
    }
   ],
   "source": [
    "(x_train, y_train), (x_test, y_test) = mnist.load_data()"
   ]
  },
  {
   "cell_type": "code",
   "execution_count": 3,
   "metadata": {
    "collapsed": false
   },
   "outputs": [
    {
     "data": {
      "text/plain": [
       "(60000, 28, 28)"
      ]
     },
     "execution_count": 3,
     "metadata": {},
     "output_type": "execute_result"
    }
   ],
   "source": [
    "x_train.shape"
   ]
  },
  {
   "cell_type": "code",
   "execution_count": 4,
   "metadata": {
    "collapsed": true
   },
   "outputs": [],
   "source": [
    "import matplotlib.pyplot as plt"
   ]
  },
  {
   "cell_type": "code",
   "execution_count": 5,
   "metadata": {
    "collapsed": true
   },
   "outputs": [],
   "source": [
    "%matplotlib inline"
   ]
  },
  {
   "cell_type": "code",
   "execution_count": 6,
   "metadata": {
    "collapsed": false
   },
   "outputs": [
    {
     "name": "stdout",
     "output_type": "stream",
     "text": [
      "Label is 5.\n"
     ]
    },
    {
     "data": {
      "image/png": "[encoded data removed]",
      "text/plain": [
       "<matplotlib.figure.Figure at 0x11b5bca90>"
      ]
     },
     "metadata": {},
     "output_type": "display_data"
    }
   ],
   "source": [
    "randix = np.random.randint(0,60000)\n",
    "plt.imshow(x_train[randix])\n",
    "print(\"Label is {}.\".format(y_train[randix]))"
   ]
  },
  {
   "cell_type": "code",
   "execution_count": 7,
   "metadata": {
    "collapsed": false
   },
   "outputs": [],
   "source": [
    "x_train_f = x_train.reshape(60000,-1)"
   ]
  },
  {
   "cell_type": "code",
   "execution_count": 8,
   "metadata": {
    "collapsed": false
   },
   "outputs": [
    {
     "data": {
      "text/plain": [
       "(60000, 784)"
      ]
     },
     "execution_count": 8,
     "metadata": {},
     "output_type": "execute_result"
    }
   ],
   "source": [
    "x_train_f.shape"
   ]
  },
  {
   "cell_type": "code",
   "execution_count": 9,
   "metadata": {
    "collapsed": true
   },
   "outputs": [],
   "source": [
    "x_test_f = x_test.reshape(-1, 28**2)"
   ]
  },
  {
   "cell_type": "code",
   "execution_count": 10,
   "metadata": {
    "collapsed": false
   },
   "outputs": [
    {
     "data": {
      "text/plain": [
       "(10000, 784)"
      ]
     },
     "execution_count": 10,
     "metadata": {},
     "output_type": "execute_result"
    }
   ],
   "source": [
    "x_test_f.shape"
   ]
  },
  {
   "cell_type": "code",
   "execution_count": 11,
   "metadata": {
    "collapsed": true
   },
   "outputs": [],
   "source": [
    "from sklearn.preprocessing import OneHotEncoder as OHE"
   ]
  },
  {
   "cell_type": "code",
   "execution_count": 12,
   "metadata": {
    "collapsed": false
   },
   "outputs": [],
   "source": [
    "ohe = OHE(sparse = False)\n",
    "y_train_ohe = ohe.fit_transform(y_train.reshape(-1,1))\n",
    "y_test_ohe = ohe.fit_transform(y_test.reshape(-1,1))"
   ]
  },
  {
   "cell_type": "code",
   "execution_count": 13,
   "metadata": {
    "collapsed": false
   },
   "outputs": [
    {
     "data": {
      "text/plain": [
       "True"
      ]
     },
     "execution_count": 13,
     "metadata": {},
     "output_type": "execute_result"
    }
   ],
   "source": [
    "np.argmax(y_train_ohe[randix]) == y_train[randix]"
   ]
  },
  {
   "cell_type": "markdown",
   "metadata": {},
   "source": [
    "Now construct a KNN classifier"
   ]
  },
  {
   "cell_type": "code",
   "execution_count": 14,
   "metadata": {
    "collapsed": true
   },
   "outputs": [],
   "source": [
    "from scipy.spatial.distance import cdist\n",
    "from sklearn.neighbors import KDTree\n",
    "class KNNClassifier(object):\n",
    "\n",
    "    def fit(self,x,y,k=1,fun=lambda x: np.mean(x,axis=0)):\n",
    "        \"\"\"Fits a KNN regressor.\n",
    "        Args:\n",
    "            x (numpy array) Array of samples indexed along first axis.\n",
    "            y (numpy array) Array of corresponding labels.\n",
    "            k (int) the number of neighbors\n",
    "            fun (function numpy array --> desired output) Function to be applied to k-nearest\n",
    "              neighbors for predictions\n",
    "        \"\"\"\n",
    "        self.x = x[:]\n",
    "        self.y = y[:]\n",
    "        self.k = k\n",
    "        self.f = fun\n",
    "        self.tree = KDTree(self.x)\n",
    "        \n",
    "    def predict_one(self, sample):\n",
    "        \"\"\"\n",
    "        Run prediction on sample\n",
    "        \n",
    "        Args:\n",
    "            new_x (numpy array) sample\n",
    "        \n",
    "        \"\"\"\n",
    "        dists = cdist(sample.reshape(1,-1),self.x)\n",
    "        ix = np.argpartition(dists,self.k-1)[0,0:self.k]\n",
    "        return self.f(self.y[ix])\n",
    "    \n",
    "    def predict(self, samples):\n",
    "        \"\"\"\n",
    "        Run predictions on list.\n",
    "        Args:\n",
    "            samples (numpy array) samples\n",
    "        \"\"\"\n",
    "        return np.array([self.predict_one(x) for x in samples])\n",
    "    \n",
    "    def faster_predict(self,samples):\n",
    "        \"\"\"\n",
    "        Run faster predictions on list.\n",
    "        Args:\n",
    "            samples (numpy array) samples\n",
    "        \"\"\"\n",
    "        _, ixs = self.tree.query(samples, k=self.k)\n",
    "        #print(ixs)\n",
    "        return np.array([self.f(self.y[ix]) for ix in ixs])\n",
    "        \n"
   ]
  },
  {
   "cell_type": "code",
   "execution_count": 15,
   "metadata": {
    "collapsed": true
   },
   "outputs": [],
   "source": [
    "classifier = KNNClassifier()"
   ]
  },
  {
   "cell_type": "code",
   "execution_count": 16,
   "metadata": {
    "collapsed": false
   },
   "outputs": [],
   "source": [
    "classifier.fit(x_train_f, y_train_ohe, k=1)"
   ]
  },
  {
   "cell_type": "code",
   "execution_count": 17,
   "metadata": {
    "collapsed": false
   },
   "outputs": [],
   "source": [
    "preds=classifier.predict(x_test_f[:100])"
   ]
  },
  {
   "cell_type": "markdown",
   "metadata": {},
   "source": [
    "Calculate accuracy on this very small subset."
   ]
  },
  {
   "cell_type": "code",
   "execution_count": 18,
   "metadata": {
    "collapsed": false
   },
   "outputs": [
    {
     "data": {
      "text/plain": [
       "1.0"
      ]
     },
     "execution_count": 18,
     "metadata": {},
     "output_type": "execute_result"
    }
   ],
   "source": [
    "np.mean(np.argmax(preds,axis=1)==y_test[:100])"
   ]
  },
  {
   "cell_type": "code",
   "execution_count": 19,
   "metadata": {
    "collapsed": false
   },
   "outputs": [],
   "source": [
    "faster_preds = classifier.faster_predict(x_test_f[:100])"
   ]
  },
  {
   "cell_type": "code",
   "execution_count": 20,
   "metadata": {
    "collapsed": false
   },
   "outputs": [
    {
     "data": {
      "text/plain": [
       "1.0"
      ]
     },
     "execution_count": 20,
     "metadata": {},
     "output_type": "execute_result"
    }
   ],
   "source": [
    "np.mean(np.argmax(faster_preds,axis=1)==y_test[:100])"
   ]
  },
  {
   "cell_type": "markdown",
   "metadata": {},
   "source": [
    "Okay now, let us try the clustering algorithm."
   ]
  },
  {
   "cell_type": "code",
   "execution_count": 21,
   "metadata": {
    "collapsed": false
   },
   "outputs": [],
   "source": [
    "def cluster_means(x,cluster_assignments,k):\n",
    "    \"\"\"\n",
    "    Return the new cluster means given the cluster assignments\n",
    "    \"\"\"\n",
    "    cluster_counter = np.zeros((k,1))\n",
    "    cluster_means = np.zeros((k, x.shape[1]))\n",
    "    for cluster, pt in zip(cluster_assignments, x):\n",
    "        #print(x)\n",
    "        cluster_means[cluster] += pt\n",
    "        cluster_counter[cluster]+=1\n",
    "    z = cluster_means/cluster_counter\n",
    "    #print(z)\n",
    "    return z\n",
    "\n",
    "class KMeansCluster(object):\n",
    "\n",
    "    \n",
    "    #Fit a clustering object on a dataset x consisting of samples on each row\n",
    "    #by the K-means algorithm into k clusters\n",
    "    def fit(self,x,k):\n",
    "        \"\"\"\n",
    "        Fit k-means clusterer\n",
    "        \n",
    "        Args:\n",
    "            x (numpy array) samples\n",
    "            k (int) number of clusters\n",
    "        \"\"\"\n",
    "        num_samples, num_features = x.shape[0], x.shape[1]\n",
    "        #Randomly assign clusters\n",
    "        cluster_assignments = np.random.randint(0,k,num_samples)\n",
    "        \n",
    "        #initialize\n",
    "        cluster_mus = np.zeros((k,num_features))\n",
    "        \n",
    "        #update\n",
    "        new_cluster_mus = cluster_means(x,cluster_assignments,k)\n",
    "        count = 1\n",
    "        while (cluster_mus!=new_cluster_mus).any() and count < 10**3:\n",
    "            count += 1\n",
    "            print(\"Iteration {}\".format(count),end=\"\\r\")\n",
    "            cluster_mus = new_cluster_mus\n",
    "            #calculate distances\n",
    "            distances = cdist(x,cluster_mus, metric = 'sqeuclidean')\n",
    "            np.argmin(distances, axis = 1, out = cluster_assignments)\n",
    "            new_cluster_mus = cluster_means(x,cluster_assignments,k)\n",
    "        self.cluster_means = cluster_means\n",
    "        self.cluster_assignments = cluster_assignments\n",
    "        self.x = x[:]\n",
    "           \n"
   ]
  },
  {
   "cell_type": "code",
   "execution_count": 23,
   "metadata": {
    "collapsed": false
   },
   "outputs": [
    {
     "name": "stdout",
     "output_type": "stream",
     "text": [
      "Iteration 129\r"
     ]
    }
   ],
   "source": [
    "clusterer = KMeansCluster()\n",
    "clusterer.fit(x_train_f,10)"
   ]
  },
  {
   "cell_type": "code",
   "execution_count": 24,
   "metadata": {
    "collapsed": true
   },
   "outputs": [],
   "source": [
    "from sklearn.metrics import confusion_matrix"
   ]
  },
  {
   "cell_type": "code",
   "execution_count": 48,
   "metadata": {
    "collapsed": false
   },
   "outputs": [
    {
     "data": {
      "text/plain": [
       "array([[2726,    8,   21,  462,   29, 2399,  137,   15,   20,  106],\n",
       "       [   0,   30,    5,   35,    8,    0,    3, 6435,  214,   12],\n",
       "       [  17,   47,   54,  174,  140,  131,  284,  716,  900, 3495],\n",
       "       [  14,  154,   38, 2147,   74,   60, 2928,  255,  383,   78],\n",
       "       [   2, 1528, 1605,    4, 2267,    8,    0,  215,   20,  193],\n",
       "       [  47,  311,  383, 2052,  198,   63, 1519,  698,   78,   72],\n",
       "       [  78,    5,    1,  584,   86,   96,   39,  372,    8, 4649],\n",
       "       [   9, 2486, 2634,    2,  660,   10,    3,  353,   95,   13],\n",
       "       [  32,  174,  194,  315,   98,   23, 1151,  512, 3291,   61],\n",
       "       [  27, 2395, 1599,   39, 1600,   15,   79,  155,   25,   15]])"
      ]
     },
     "execution_count": 48,
     "metadata": {},
     "output_type": "execute_result"
    }
   ],
   "source": [
    "confusion_matrix(y_train, clusterer.cluster_assignments)"
   ]
  },
  {
   "cell_type": "code",
   "execution_count": 45,
   "metadata": {
    "collapsed": false
   },
   "outputs": [
    {
     "data": {
      "text/plain": [
       "(60000,)"
      ]
     },
     "execution_count": 45,
     "metadata": {},
     "output_type": "execute_result"
    }
   ],
   "source": [
    "y_train.shape"
   ]
  },
  {
   "cell_type": "code",
   "execution_count": 46,
   "metadata": {
    "collapsed": false
   },
   "outputs": [
    {
     "data": {
      "text/plain": [
       "(60000,)"
      ]
     },
     "execution_count": 46,
     "metadata": {},
     "output_type": "execute_result"
    }
   ],
   "source": [
    "clusterer.cluster_assignments.shape"
   ]
  },
  {
   "cell_type": "code",
   "execution_count": 28,
   "metadata": {
    "collapsed": false
   },
   "outputs": [],
   "source": [
    "cluster_samples = clusterer.x[clusterer.cluster_assignments == 0]"
   ]
  },
  {
   "cell_type": "code",
   "execution_count": 33,
   "metadata": {
    "collapsed": false
   },
   "outputs": [
    {
     "data": {
      "text/plain": [
       "<matplotlib.image.AxesImage at 0x1408d4208>"
      ]
     },
     "execution_count": 33,
     "metadata": {},
     "output_type": "execute_result"
    },
    {
     "data": {
      "image/png": "[encoded data removed]",
      "text/plain": [
       "<matplotlib.figure.Figure at 0x1406d86a0>"
      ]
     },
     "metadata": {},
     "output_type": "display_data"
    }
   ],
   "source": [
    "plt.imshow(cluster_samples[0].reshape(28,28))"
   ]
  },
  {
   "cell_type": "code",
   "execution_count": 35,
   "metadata": {
    "collapsed": false
   },
   "outputs": [
    {
     "data": {
      "text/plain": [
       "<matplotlib.image.AxesImage at 0x140745908>"
      ]
     },
     "execution_count": 35,
     "metadata": {},
     "output_type": "execute_result"
    },
    {
     "data": {
      "image/png": "[encoded data removed]",
      "text/plain": [
       "<matplotlib.figure.Figure at 0x11e8ff7f0>"
      ]
     },
     "metadata": {},
     "output_type": "display_data"
    }
   ],
   "source": [
    "plt.imshow(cluster_samples[1].reshape(28,28))"
   ]
  },
  {
   "cell_type": "code",
   "execution_count": 37,
   "metadata": {
    "collapsed": false
   },
   "outputs": [
    {
     "data": {
      "text/plain": [
       "<matplotlib.image.AxesImage at 0x140ac9c50>"
      ]
     },
     "execution_count": 37,
     "metadata": {},
     "output_type": "execute_result"
    },
    {
     "data": {
      "image/png": "[encoded data removed]",
      "text/plain": [
       "<matplotlib.figure.Figure at 0x1409f1588>"
      ]
     },
     "metadata": {},
     "output_type": "display_data"
    }
   ],
   "source": [
    "plt.imshow(cluster_samples[23].reshape(28,28))"
   ]
  },
  {
   "cell_type": "code",
   "execution_count": 39,
   "metadata": {
    "collapsed": false
   },
   "outputs": [
    {
     "data": {
      "text/plain": [
       "<matplotlib.image.AxesImage at 0x140cd5c88>"
      ]
     },
     "execution_count": 39,
     "metadata": {},
     "output_type": "execute_result"
    },
    {
     "data": {
      "image/png": "[encoded data removed]",
      "text/plain": [
       "<matplotlib.figure.Figure at 0x140bf99e8>"
      ]
     },
     "metadata": {},
     "output_type": "display_data"
    }
   ],
   "source": [
    "plt.imshow(cluster_samples[50].reshape(28,28))"
   ]
  },
  {
   "cell_type": "code",
   "execution_count": 41,
   "metadata": {
    "collapsed": false
   },
   "outputs": [
    {
     "data": {
      "text/plain": [
       "array([  9.23441734e-01,   0.00000000e+00,   5.75880759e-03,\n",
       "         4.74254743e-03,   6.77506775e-04,   1.59214092e-02,\n",
       "         2.64227642e-02,   3.04878049e-03,   1.08401084e-02,\n",
       "         9.14634146e-03])"
      ]
     },
     "execution_count": 41,
     "metadata": {},
     "output_type": "execute_result"
    }
   ],
   "source": [
    "np.mean(classifier.faster_predict(cluster_samples),axis=0)"
   ]
  },
  {
   "cell_type": "markdown",
   "metadata": {},
   "source": [
    "Let us load the credit card dataset and extract a small dataframe of numerical features to test on."
   ]
  },
  {
   "cell_type": "code",
   "execution_count": 49,
   "metadata": {
    "collapsed": false
   },
   "outputs": [
    {
     "ename": "FileNotFoundError",
     "evalue": "File b'UCI_Credit_Card.csv' does not exist",
     "output_type": "error",
     "traceback": [
      "\u001b[0;31m---------------------------------------------------------------------------\u001b[0m",
      "\u001b[0;31mFileNotFoundError\u001b[0m                         Traceback (most recent call last)",
      "\u001b[0;32m<ipython-input-49-a61319d97988>\u001b[0m in \u001b[0;36m<module>\u001b[0;34m()\u001b[0m\n\u001b[0;32m----> 1\u001b[0;31m \u001b[0mbig_df\u001b[0m \u001b[0;34m=\u001b[0m \u001b[0mpd\u001b[0m\u001b[0;34m.\u001b[0m\u001b[0mread_csv\u001b[0m\u001b[0;34m(\u001b[0m\u001b[0;34m\"UCI_Credit_Card.csv\"\u001b[0m\u001b[0;34m)\u001b[0m\u001b[0;34m\u001b[0m\u001b[0m\n\u001b[0m",
      "\u001b[0;32m/Users/justin/anaconda/envs/py36/lib/python3.6/site-packages/pandas/io/parsers.py\u001b[0m in \u001b[0;36mparser_f\u001b[0;34m(filepath_or_buffer, sep, delimiter, header, names, index_col, usecols, squeeze, prefix, mangle_dupe_cols, dtype, engine, converters, true_values, false_values, skipinitialspace, skiprows, nrows, na_values, keep_default_na, na_filter, verbose, skip_blank_lines, parse_dates, infer_datetime_format, keep_date_col, date_parser, dayfirst, iterator, chunksize, compression, thousands, decimal, lineterminator, quotechar, quoting, escapechar, comment, encoding, dialect, tupleize_cols, error_bad_lines, warn_bad_lines, skipfooter, skip_footer, doublequote, delim_whitespace, as_recarray, compact_ints, use_unsigned, low_memory, buffer_lines, memory_map, float_precision)\u001b[0m\n\u001b[1;32m    644\u001b[0m                     skip_blank_lines=skip_blank_lines)\n\u001b[1;32m    645\u001b[0m \u001b[0;34m\u001b[0m\u001b[0m\n\u001b[0;32m--> 646\u001b[0;31m         \u001b[0;32mreturn\u001b[0m \u001b[0m_read\u001b[0m\u001b[0;34m(\u001b[0m\u001b[0mfilepath_or_buffer\u001b[0m\u001b[0;34m,\u001b[0m \u001b[0mkwds\u001b[0m\u001b[0;34m)\u001b[0m\u001b[0;34m\u001b[0m\u001b[0m\n\u001b[0m\u001b[1;32m    647\u001b[0m \u001b[0;34m\u001b[0m\u001b[0m\n\u001b[1;32m    648\u001b[0m     \u001b[0mparser_f\u001b[0m\u001b[0;34m.\u001b[0m\u001b[0m__name__\u001b[0m \u001b[0;34m=\u001b[0m \u001b[0mname\u001b[0m\u001b[0;34m\u001b[0m\u001b[0m\n",
      "\u001b[0;32m/Users/justin/anaconda/envs/py36/lib/python3.6/site-packages/pandas/io/parsers.py\u001b[0m in \u001b[0;36m_read\u001b[0;34m(filepath_or_buffer, kwds)\u001b[0m\n\u001b[1;32m    387\u001b[0m \u001b[0;34m\u001b[0m\u001b[0m\n\u001b[1;32m    388\u001b[0m     \u001b[0;31m# Create the parser.\u001b[0m\u001b[0;34m\u001b[0m\u001b[0;34m\u001b[0m\u001b[0m\n\u001b[0;32m--> 389\u001b[0;31m     \u001b[0mparser\u001b[0m \u001b[0;34m=\u001b[0m \u001b[0mTextFileReader\u001b[0m\u001b[0;34m(\u001b[0m\u001b[0mfilepath_or_buffer\u001b[0m\u001b[0;34m,\u001b[0m \u001b[0;34m**\u001b[0m\u001b[0mkwds\u001b[0m\u001b[0;34m)\u001b[0m\u001b[0;34m\u001b[0m\u001b[0m\n\u001b[0m\u001b[1;32m    390\u001b[0m \u001b[0;34m\u001b[0m\u001b[0m\n\u001b[1;32m    391\u001b[0m     \u001b[0;32mif\u001b[0m \u001b[0;34m(\u001b[0m\u001b[0mnrows\u001b[0m \u001b[0;32mis\u001b[0m \u001b[0;32mnot\u001b[0m \u001b[0;32mNone\u001b[0m\u001b[0;34m)\u001b[0m \u001b[0;32mand\u001b[0m \u001b[0;34m(\u001b[0m\u001b[0mchunksize\u001b[0m \u001b[0;32mis\u001b[0m \u001b[0;32mnot\u001b[0m \u001b[0;32mNone\u001b[0m\u001b[0;34m)\u001b[0m\u001b[0;34m:\u001b[0m\u001b[0;34m\u001b[0m\u001b[0m\n",
      "\u001b[0;32m/Users/justin/anaconda/envs/py36/lib/python3.6/site-packages/pandas/io/parsers.py\u001b[0m in \u001b[0;36m__init__\u001b[0;34m(self, f, engine, **kwds)\u001b[0m\n\u001b[1;32m    728\u001b[0m             \u001b[0mself\u001b[0m\u001b[0;34m.\u001b[0m\u001b[0moptions\u001b[0m\u001b[0;34m[\u001b[0m\u001b[0;34m'has_index_names'\u001b[0m\u001b[0;34m]\u001b[0m \u001b[0;34m=\u001b[0m \u001b[0mkwds\u001b[0m\u001b[0;34m[\u001b[0m\u001b[0;34m'has_index_names'\u001b[0m\u001b[0;34m]\u001b[0m\u001b[0;34m\u001b[0m\u001b[0m\n\u001b[1;32m    729\u001b[0m \u001b[0;34m\u001b[0m\u001b[0m\n\u001b[0;32m--> 730\u001b[0;31m         \u001b[0mself\u001b[0m\u001b[0;34m.\u001b[0m\u001b[0m_make_engine\u001b[0m\u001b[0;34m(\u001b[0m\u001b[0mself\u001b[0m\u001b[0;34m.\u001b[0m\u001b[0mengine\u001b[0m\u001b[0;34m)\u001b[0m\u001b[0;34m\u001b[0m\u001b[0m\n\u001b[0m\u001b[1;32m    731\u001b[0m \u001b[0;34m\u001b[0m\u001b[0m\n\u001b[1;32m    732\u001b[0m     \u001b[0;32mdef\u001b[0m \u001b[0mclose\u001b[0m\u001b[0;34m(\u001b[0m\u001b[0mself\u001b[0m\u001b[0;34m)\u001b[0m\u001b[0;34m:\u001b[0m\u001b[0;34m\u001b[0m\u001b[0m\n",
      "\u001b[0;32m/Users/justin/anaconda/envs/py36/lib/python3.6/site-packages/pandas/io/parsers.py\u001b[0m in \u001b[0;36m_make_engine\u001b[0;34m(self, engine)\u001b[0m\n\u001b[1;32m    921\u001b[0m     \u001b[0;32mdef\u001b[0m \u001b[0m_make_engine\u001b[0m\u001b[0;34m(\u001b[0m\u001b[0mself\u001b[0m\u001b[0;34m,\u001b[0m \u001b[0mengine\u001b[0m\u001b[0;34m=\u001b[0m\u001b[0;34m'c'\u001b[0m\u001b[0;34m)\u001b[0m\u001b[0;34m:\u001b[0m\u001b[0;34m\u001b[0m\u001b[0m\n\u001b[1;32m    922\u001b[0m         \u001b[0;32mif\u001b[0m \u001b[0mengine\u001b[0m \u001b[0;34m==\u001b[0m \u001b[0;34m'c'\u001b[0m\u001b[0;34m:\u001b[0m\u001b[0;34m\u001b[0m\u001b[0m\n\u001b[0;32m--> 923\u001b[0;31m             \u001b[0mself\u001b[0m\u001b[0;34m.\u001b[0m\u001b[0m_engine\u001b[0m \u001b[0;34m=\u001b[0m \u001b[0mCParserWrapper\u001b[0m\u001b[0;34m(\u001b[0m\u001b[0mself\u001b[0m\u001b[0;34m.\u001b[0m\u001b[0mf\u001b[0m\u001b[0;34m,\u001b[0m \u001b[0;34m**\u001b[0m\u001b[0mself\u001b[0m\u001b[0;34m.\u001b[0m\u001b[0moptions\u001b[0m\u001b[0;34m)\u001b[0m\u001b[0;34m\u001b[0m\u001b[0m\n\u001b[0m\u001b[1;32m    924\u001b[0m         \u001b[0;32melse\u001b[0m\u001b[0;34m:\u001b[0m\u001b[0;34m\u001b[0m\u001b[0m\n\u001b[1;32m    925\u001b[0m             \u001b[0;32mif\u001b[0m \u001b[0mengine\u001b[0m \u001b[0;34m==\u001b[0m \u001b[0;34m'python'\u001b[0m\u001b[0;34m:\u001b[0m\u001b[0;34m\u001b[0m\u001b[0m\n",
      "\u001b[0;32m/Users/justin/anaconda/envs/py36/lib/python3.6/site-packages/pandas/io/parsers.py\u001b[0m in \u001b[0;36m__init__\u001b[0;34m(self, src, **kwds)\u001b[0m\n\u001b[1;32m   1388\u001b[0m         \u001b[0mkwds\u001b[0m\u001b[0;34m[\u001b[0m\u001b[0;34m'allow_leading_cols'\u001b[0m\u001b[0;34m]\u001b[0m \u001b[0;34m=\u001b[0m \u001b[0mself\u001b[0m\u001b[0;34m.\u001b[0m\u001b[0mindex_col\u001b[0m \u001b[0;32mis\u001b[0m \u001b[0;32mnot\u001b[0m \u001b[0;32mFalse\u001b[0m\u001b[0;34m\u001b[0m\u001b[0m\n\u001b[1;32m   1389\u001b[0m \u001b[0;34m\u001b[0m\u001b[0m\n\u001b[0;32m-> 1390\u001b[0;31m         \u001b[0mself\u001b[0m\u001b[0;34m.\u001b[0m\u001b[0m_reader\u001b[0m \u001b[0;34m=\u001b[0m \u001b[0m_parser\u001b[0m\u001b[0;34m.\u001b[0m\u001b[0mTextReader\u001b[0m\u001b[0;34m(\u001b[0m\u001b[0msrc\u001b[0m\u001b[0;34m,\u001b[0m \u001b[0;34m**\u001b[0m\u001b[0mkwds\u001b[0m\u001b[0;34m)\u001b[0m\u001b[0;34m\u001b[0m\u001b[0m\n\u001b[0m\u001b[1;32m   1391\u001b[0m \u001b[0;34m\u001b[0m\u001b[0m\n\u001b[1;32m   1392\u001b[0m         \u001b[0;31m# XXX\u001b[0m\u001b[0;34m\u001b[0m\u001b[0;34m\u001b[0m\u001b[0m\n",
      "\u001b[0;32mpandas/parser.pyx\u001b[0m in \u001b[0;36mpandas.parser.TextReader.__cinit__ (pandas/parser.c:4184)\u001b[0;34m()\u001b[0m\n",
      "\u001b[0;32mpandas/parser.pyx\u001b[0m in \u001b[0;36mpandas.parser.TextReader._setup_parser_source (pandas/parser.c:8449)\u001b[0;34m()\u001b[0m\n",
      "\u001b[0;31mFileNotFoundError\u001b[0m: File b'UCI_Credit_Card.csv' does not exist"
     ]
    }
   ],
   "source": [
    "big_df = pd.read_csv(\"UCI_Credit_Card.csv\")"
   ]
  },
  {
   "cell_type": "code",
   "execution_count": 50,
   "metadata": {
    "collapsed": false
   },
   "outputs": [
    {
     "ename": "NameError",
     "evalue": "name 'big_df' is not defined",
     "output_type": "error",
     "traceback": [
      "\u001b[0;31m---------------------------------------------------------------------------\u001b[0m",
      "\u001b[0;31mNameError\u001b[0m                                 Traceback (most recent call last)",
      "\u001b[0;32m<ipython-input-50-517443831b3c>\u001b[0m in \u001b[0;36m<module>\u001b[0;34m()\u001b[0m\n\u001b[0;32m----> 1\u001b[0;31m \u001b[0mbig_df\u001b[0m\u001b[0;34m.\u001b[0m\u001b[0mhead\u001b[0m\u001b[0;34m(\u001b[0m\u001b[0;34m)\u001b[0m\u001b[0;34m\u001b[0m\u001b[0m\n\u001b[0m",
      "\u001b[0;31mNameError\u001b[0m: name 'big_df' is not defined"
     ]
    }
   ],
   "source": [
    "big_df.head()"
   ]
  },
  {
   "cell_type": "code",
   "execution_count": null,
   "metadata": {
    "collapsed": false
   },
   "outputs": [],
   "source": [
    "len(big_df)"
   ]
  },
  {
   "cell_type": "code",
   "execution_count": null,
   "metadata": {
    "collapsed": false
   },
   "outputs": [],
   "source": [
    "len(big_df.dropna())"
   ]
  },
  {
   "cell_type": "code",
   "execution_count": null,
   "metadata": {
    "collapsed": true
   },
   "outputs": [],
   "source": [
    "df = big_df.drop(labels = ['ID'], axis = 1)"
   ]
  },
  {
   "cell_type": "code",
   "execution_count": null,
   "metadata": {
    "collapsed": true
   },
   "outputs": [],
   "source": [
    "labels = df['default.payment.next.month']\n",
    "df.drop('default.payment.next.month', axis = 1, inplace = True)"
   ]
  },
  {
   "cell_type": "code",
   "execution_count": null,
   "metadata": {
    "collapsed": true
   },
   "outputs": [],
   "source": [
    "num_samples = 25000"
   ]
  },
  {
   "cell_type": "code",
   "execution_count": null,
   "metadata": {
    "collapsed": true
   },
   "outputs": [],
   "source": [
    "train_x, train_y = df[0:num_samples], labels[0:num_samples]"
   ]
  },
  {
   "cell_type": "code",
   "execution_count": null,
   "metadata": {
    "collapsed": true
   },
   "outputs": [],
   "source": [
    "test_x, test_y = df[num_samples:], labels[num_samples:]"
   ]
  },
  {
   "cell_type": "code",
   "execution_count": null,
   "metadata": {
    "collapsed": false
   },
   "outputs": [],
   "source": [
    "test_x.head()"
   ]
  },
  {
   "cell_type": "code",
   "execution_count": null,
   "metadata": {
    "collapsed": false
   },
   "outputs": [],
   "source": [
    "train_y.head()"
   ]
  },
  {
   "cell_type": "markdown",
   "metadata": {},
   "source": [
    "Now let us write our transformation function."
   ]
  },
  {
   "cell_type": "code",
   "execution_count": null,
   "metadata": {
    "collapsed": true
   },
   "outputs": [],
   "source": [
    "class bin_transformer(object):\n",
    "    \n",
    "    def __init__(self, df, num_quantiles = 2):\n",
    "        self.quantiles = df.quantile(np.linspace(1./num_quantiles, 1.-1./num_quantiles,num_quantiles-1))\n",
    "            \n",
    "    \n",
    "    def transform(self, df):\n",
    "        new = pd.DataFrame()\n",
    "        fns = {}\n",
    "        for col_name in df.axes[1]:\n",
    "            for ix, q in self.quantiles.iterrows():\n",
    "                quart = q[col_name]\n",
    "                new[col_name+str(ix)] = (df[col_name] >= quart)\n",
    "                fns[col_name+str(ix)] =(col_name, lambda x: x[col_name]>=quart)\n",
    "        return new, fns"
   ]
  },
  {
   "cell_type": "code",
   "execution_count": null,
   "metadata": {
    "collapsed": true
   },
   "outputs": [],
   "source": [
    "transformer = bin_transformer(df,5)"
   ]
  },
  {
   "cell_type": "code",
   "execution_count": null,
   "metadata": {
    "collapsed": true
   },
   "outputs": [],
   "source": [
    "train_x_t, tr_fns = transformer.transform(train_x)"
   ]
  },
  {
   "cell_type": "code",
   "execution_count": null,
   "metadata": {
    "collapsed": true
   },
   "outputs": [],
   "source": [
    "test_x_t, test_fns = transformer.transform(test_x)"
   ]
  },
  {
   "cell_type": "code",
   "execution_count": null,
   "metadata": {
    "collapsed": false
   },
   "outputs": [],
   "source": [
    "train_x_t.head()"
   ]
  },
  {
   "cell_type": "code",
   "execution_count": null,
   "metadata": {
    "collapsed": false
   },
   "outputs": [],
   "source": [
    "tr_fns"
   ]
  },
  {
   "cell_type": "markdown",
   "metadata": {},
   "source": [
    "Now let us build some simple loss functions for 1d labels."
   ]
  },
  {
   "cell_type": "code",
   "execution_count": 270,
   "metadata": {
    "collapsed": true
   },
   "outputs": [],
   "source": [
    "def bdd_cross_entropy(pred, label):\n",
    "    return -np.mean(label*np.log(pred+10**(-20)))"
   ]
  },
  {
   "cell_type": "code",
   "execution_count": 271,
   "metadata": {
    "collapsed": true
   },
   "outputs": [],
   "source": [
    "def MSE(pred,label):\n",
    "    return np.mean((pred-label)**2)"
   ]
  },
  {
   "cell_type": "code",
   "execution_count": 272,
   "metadata": {
    "collapsed": true
   },
   "outputs": [],
   "source": [
    "def acc(pred,label):\n",
    "    return np.mean((pred>=0.5)==(label == 1))"
   ]
  },
  {
   "cell_type": "markdown",
   "metadata": {},
   "source": [
    "Now let us define the find split function."
   ]
  },
  {
   "cell_type": "code",
   "execution_count": 273,
   "metadata": {
    "collapsed": true
   },
   "outputs": [],
   "source": [
    "def find_split(x, y, loss, verbose = False):\n",
    "    min_ax = None\n",
    "    base_loss = loss(np.mean(y),y) \n",
    "    min_loss = base_loss\n",
    "    N = len(x)\n",
    "    for col_name in x.axes[1]:\n",
    "        mask = x[col_name]\n",
    "        num_pos = np.sum(mask)\n",
    "        num_neg = N - num_pos\n",
    "        pos_y = np.mean(y[mask])\n",
    "        neg_y = np.mean(y[~mask])\n",
    "        l = (num_pos*loss(pos_y, y[mask]) + num_neg*loss(neg_y, y[~mask]))/N\n",
    "        if verbose:\n",
    "            print(\"Column {0} split has improved loss {1}\".format(col_name, base_loss-l))\n",
    "        if l < min_loss:\n",
    "            min_loss = l\n",
    "            min_ax = col_name\n",
    "    return min_ax, min_loss\n",
    "        "
   ]
  },
  {
   "cell_type": "code",
   "execution_count": 278,
   "metadata": {
    "collapsed": false
   },
   "outputs": [
    {
     "name": "stdout",
     "output_type": "stream",
     "text": [
      "Column LIMIT_BAL0.2 split has improved loss 0.0032026111833937665\n",
      "Column LIMIT_BAL0.4 split has improved loss 0.0036568972936314725\n",
      "Column LIMIT_BAL0.6 split has improved loss 0.002968295613244798\n",
      "Column LIMIT_BAL0.8 split has improved loss 0.0017932272689534512\n",
      "Column SEX0.2 split has improved loss nan\n",
      "Column SEX0.4 split has improved loss 0.0002155159725325817\n",
      "Column SEX0.6 split has improved loss 0.0002155159725325817\n",
      "Column SEX0.8 split has improved loss 0.0002155159725325817\n",
      "Column EDUCATION0.2 split has improved loss 2.3907091916103296e-05\n",
      "Column EDUCATION0.4 split has improved loss 0.0004640208803457502\n",
      "Column EDUCATION0.6 split has improved loss 0.0004640208803457502\n",
      "Column EDUCATION0.8 split has improved loss 0.0004640208803457502\n",
      "Column MARRIAGE0.2 split has improved loss 3.249086770407139e-05\n",
      "Column MARRIAGE0.4 split has improved loss 3.249086770407139e-05\n",
      "Column MARRIAGE0.6 split has improved loss 0.00014480802024710582\n",
      "Column MARRIAGE0.8 split has improved loss 0.00014480802024710582\n",
      "Column AGE0.2 split has improved loss 0.00020827243409601848\n",
      "Column AGE0.4 split has improved loss 9.960157279997883e-06\n",
      "Column AGE0.6 split has improved loss 4.117947427031976e-05\n",
      "Column AGE0.8 split has improved loss 8.124558376762514e-05\n",
      "Column PAY_00.2 split has improved loss 0.0008308647297025351\n",
      "Column PAY_00.4 split has improved loss 0.0015859674093304799\n",
      "Column PAY_00.6 split has improved loss 0.0015859674093304799\n",
      "Column PAY_00.8 split has improved loss 0.0233441901232099\n",
      "Column PAY_20.2 split has improved loss 0.0001876302154459608\n",
      "Column PAY_20.4 split has improved loss 0.0013149408868615708\n",
      "Column PAY_20.6 split has improved loss 0.0013149408868615708\n",
      "Column PAY_20.8 split has improved loss 0.0013149408868615708\n",
      "Column PAY_30.2 split has improved loss 0.00021161990136722708\n",
      "Column PAY_30.4 split has improved loss 0.0014198151850400298\n",
      "Column PAY_30.6 split has improved loss 0.0014198151850400298\n",
      "Column PAY_30.8 split has improved loss 0.0014198151850400298\n",
      "Column PAY_40.2 split has improved loss 0.00014702668290195176\n",
      "Column PAY_40.4 split has improved loss 0.00110110252994014\n",
      "Column PAY_40.6 split has improved loss 0.00110110252994014\n",
      "Column PAY_40.8 split has improved loss 0.00110110252994014\n",
      "Column PAY_50.2 split has improved loss 0.00011619585491220996\n",
      "Column PAY_50.4 split has improved loss 0.0010161714350968298\n",
      "Column PAY_50.6 split has improved loss 0.0010161714350968298\n",
      "Column PAY_50.8 split has improved loss 0.0010161714350968298\n",
      "Column PAY_60.2 split has improved loss 8.712841444399877e-05\n",
      "Column PAY_60.4 split has improved loss 0.0008042740411955129\n",
      "Column PAY_60.6 split has improved loss 0.0008042740411955129\n",
      "Column PAY_60.8 split has improved loss 0.0008042740411955129\n",
      "Column BILL_AMT10.2 split has improved loss 2.7784178714379548e-05\n",
      "Column BILL_AMT10.4 split has improved loss 2.7479974147037733e-06\n",
      "Column BILL_AMT10.6 split has improved loss 0.00016119710076237248\n",
      "Column BILL_AMT10.8 split has improved loss 0.00014701547170556384\n",
      "Column BILL_AMT20.2 split has improved loss 3.084283179743963e-06\n",
      "Column BILL_AMT20.4 split has improved loss 8.943772085073798e-06\n",
      "Column BILL_AMT20.6 split has improved loss 9.726534850079682e-05\n",
      "Column BILL_AMT20.8 split has improved loss 0.00010606002405513792\n",
      "Column BILL_AMT30.2 split has improved loss 1.2923238124601388e-05\n",
      "Column BILL_AMT30.4 split has improved loss 1.7703438644989244e-05\n",
      "Column BILL_AMT30.6 split has improved loss 5.7255048681065235e-05\n",
      "Column BILL_AMT30.8 split has improved loss 0.0001309855396841031\n",
      "Column BILL_AMT40.2 split has improved loss 1.5757691495227322e-05\n",
      "Column BILL_AMT40.4 split has improved loss 4.552825379744441e-05\n",
      "Column BILL_AMT40.6 split has improved loss 1.5198874939420515e-05\n",
      "Column BILL_AMT40.8 split has improved loss 5.0114289508379484e-05\n",
      "Column BILL_AMT50.2 split has improved loss 2.5681591047099772e-05\n",
      "Column BILL_AMT50.4 split has improved loss 4.704167867383702e-05\n",
      "Column BILL_AMT50.6 split has improved loss 7.104706449934106e-06\n",
      "Column BILL_AMT50.8 split has improved loss 4.3105571633450523e-05\n",
      "Column BILL_AMT60.2 split has improved loss 1.1070212941444169e-05\n",
      "Column BILL_AMT60.4 split has improved loss 7.89154272805015e-05\n",
      "Column BILL_AMT60.6 split has improved loss 1.1814881573091185e-08\n",
      "Column BILL_AMT60.8 split has improved loss 2.5239692683282078e-05\n",
      "Column PAY_AMT10.2 split has improved loss 0.0037338214207645604\n",
      "Column PAY_AMT10.4 split has improved loss 0.0025958239617459855\n",
      "Column PAY_AMT10.6 split has improved loss 0.0026823429188202186\n",
      "Column PAY_AMT10.8 split has improved loss 0.0018958312033806879\n",
      "Column PAY_AMT20.2 split has improved loss 0.0026740961203186864\n",
      "Column PAY_AMT20.4 split has improved loss 0.002413157179305403\n",
      "Column PAY_AMT20.6 split has improved loss 0.0022468726365486025\n",
      "Column PAY_AMT20.8 split has improved loss 0.001975166038548831\n",
      "Column PAY_AMT30.2 split has improved loss 0.002428229767294232\n",
      "Column PAY_AMT30.4 split has improved loss 0.0017518742462117598\n",
      "Column PAY_AMT30.6 split has improved loss 0.0019701352550884066\n",
      "Column PAY_AMT30.8 split has improved loss 0.001262546288527816\n",
      "Column PAY_AMT40.2 split has improved loss nan\n",
      "Column PAY_AMT40.4 split has improved loss 0.0016828468720352097\n",
      "Column PAY_AMT40.6 split has improved loss 0.001992080354384307\n",
      "Column PAY_AMT40.8 split has improved loss 0.001509125693650304\n",
      "Column PAY_AMT50.2 split has improved loss nan\n",
      "Column PAY_AMT50.4 split has improved loss 0.0013987996480574194\n",
      "Column PAY_AMT50.6 split has improved loss 0.0015722436951876306\n",
      "Column PAY_AMT50.8 split has improved loss 0.0013770421197525917\n",
      "Column PAY_AMT60.2 split has improved loss nan\n",
      "Column PAY_AMT60.4 split has improved loss 0.0016595462220761747\n",
      "Column PAY_AMT60.6 split has improved loss 0.0019163958366781864\n",
      "Column PAY_AMT60.8 split has improved loss 0.0017002531220795536\n"
     ]
    },
    {
     "data": {
      "text/plain": [
       "('PAY_00.8', 0.14999327547679009)"
      ]
     },
     "execution_count": 278,
     "metadata": {},
     "output_type": "execute_result"
    }
   ],
   "source": [
    "find_split(train_x_t, train_y, MSE, verbose = True)"
   ]
  },
  {
   "cell_type": "code",
   "execution_count": 279,
   "metadata": {
    "collapsed": false
   },
   "outputs": [
    {
     "data": {
      "text/plain": [
       "('PAY_00.8', 0.29117246034455752)"
      ]
     },
     "execution_count": 279,
     "metadata": {},
     "output_type": "execute_result"
    }
   ],
   "source": [
    "find_split(train_x_t, train_y, bdd_cross_entropy, verbose = 0)"
   ]
  },
  {
   "cell_type": "code",
   "execution_count": 280,
   "metadata": {
    "collapsed": false
   },
   "outputs": [
    {
     "data": {
      "text/plain": [
       "(None, 0.77688000000000001)"
      ]
     },
     "execution_count": 280,
     "metadata": {},
     "output_type": "execute_result"
    }
   ],
   "source": [
    "find_split(train_x_t, train_y, acc, verbose = 0)"
   ]
  },
  {
   "cell_type": "code",
   "execution_count": 281,
   "metadata": {
    "collapsed": false
   },
   "outputs": [
    {
     "data": {
      "text/plain": [
       "0.19974715549936789"
      ]
     },
     "execution_count": 281,
     "metadata": {},
     "output_type": "execute_result"
    }
   ],
   "source": [
    "np.mean(train_y[train_x_t['PAY_00.8']])"
   ]
  },
  {
   "cell_type": "code",
   "execution_count": 283,
   "metadata": {
    "collapsed": false
   },
   "outputs": [
    {
     "data": {
      "text/plain": [
       "0.13956871914783062"
      ]
     },
     "execution_count": 283,
     "metadata": {},
     "output_type": "execute_result"
    }
   ],
   "source": [
    "np.mean(train_y[~train_x_t['PAY_00.8']])"
   ]
  },
  {
   "cell_type": "code",
   "execution_count": 284,
   "metadata": {
    "collapsed": false
   },
   "outputs": [
    {
     "data": {
      "text/plain": [
       "0.21648985128130602"
      ]
     },
     "execution_count": 284,
     "metadata": {},
     "output_type": "execute_result"
    }
   ],
   "source": [
    "np.mean(train_y[train_x_t['AGE0.2']])"
   ]
  },
  {
   "cell_type": "code",
   "execution_count": 1,
   "metadata": {
    "collapsed": false
   },
   "outputs": [
    {
     "ename": "NameError",
     "evalue": "name 'np' is not defined",
     "output_type": "error",
     "traceback": [
      "\u001b[0;31m---------------------------------------------------------------------------\u001b[0m",
      "\u001b[0;31mNameError\u001b[0m                                 Traceback (most recent call last)",
      "\u001b[0;32m<ipython-input-1-9c1a8bdfc93a>\u001b[0m in \u001b[0;36m<module>\u001b[0;34m()\u001b[0m\n\u001b[0;32m----> 1\u001b[0;31m \u001b[0mnp\u001b[0m\u001b[0;34m.\u001b[0m\u001b[0mmean\u001b[0m\u001b[0;34m(\u001b[0m\u001b[0mtrain_y\u001b[0m\u001b[0;34m[\u001b[0m\u001b[0;34m~\u001b[0m\u001b[0mtrain_x_t\u001b[0m\u001b[0;34m[\u001b[0m\u001b[0;34m'AGE0.2'\u001b[0m\u001b[0;34m]\u001b[0m\u001b[0;34m]\u001b[0m\u001b[0;34m)\u001b[0m\u001b[0;34m\u001b[0m\u001b[0m\n\u001b[0m",
      "\u001b[0;31mNameError\u001b[0m: name 'np' is not defined"
     ]
    }
   ],
   "source": [
    "np.mean(train_y[~train_x_t['AGE0.2']])"
   ]
  },
  {
   "cell_type": "code",
   "execution_count": 2,
   "metadata": {
    "collapsed": true
   },
   "outputs": [],
   "source": []
  },
  {
   "cell_type": "code",
   "execution_count": null,
   "metadata": {
    "collapsed": true
   },
   "outputs": [],
   "source": []
  }
 ],
 "metadata": {
  "kernelspec": {
   "display_name": "Python 3",
   "language": "python",
   "name": "python3"
  },
  "language_info": {
   "codemirror_mode": {
    "name": "ipython",
    "version": 3
   },
   "file_extension": ".py",
   "mimetype": "text/x-python",
   "name": "python",
   "nbconvert_exporter": "python",
   "pygments_lexer": "ipython3",
   "version": "3.6.0"
  }
 },
 "nbformat": 4,
 "nbformat_minor": 2
}
