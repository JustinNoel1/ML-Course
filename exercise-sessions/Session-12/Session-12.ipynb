{
 "cells": [
  {
   "cell_type": "markdown",
   "metadata": {},
   "source": [
    "## Problem Set 12\n",
    "\n",
    "First the exercises:\n",
    "* Let $\\mu=\\frac{1}{|S|}\\sum_{x_i\\in S} x_i$ let us expand \n",
    "\\begin{align*}\n",
    "\\sum_{x_i\\in S} ||x_i-\\mu||^2 &=\\sum_{x_i\\in S}(x_i-\\mu)^T(x_i-\\mu)\\\\\n",
    "    &= |S|\\mu^T\\mu+\\sum_{x_i\\in S}\\left( x_i^Tx_i-2\\mu^T x_i \\right) \\\\\n",
    "    &= \\frac{1}{|S|}\\left(\\sum_{(x_i,x_j)\\in S\\times S} x_i^T x_j\\right) + \\sum_{x_i\\in S} \\left( x_i^Tx_i-\\frac{2}{|S|}\\left(\\sum_{x_j\\in S} x_j^T x_i\\right)\\right)\\\\\n",
    "      &= \\sum_{x_i\\in S} x_i^Tx_i-\\frac{1}{|S|}\\sum_{(x_i,x_j)\\in S\\times S} x_j^T x_i\\\\\n",
    "      &= \\frac{1}{2}\\left(\\sum_{x_i\\in S} x_i^Tx_i-\\frac{2}{|S|}\\sum_{(x_i,x_j)\\in S\\times S} x_j^T x_i+\\sum_{x_j\\in S} x_j^Tx_j \\right)\\\\\n",
    "      &= \\frac{1}{2|S|}\\left(\\sum_{(x_i,x_j)\\in S\\times S} x_i^Tx_i-2\\sum_{(x_i,x_j)\\in S\\times S} x_j^T x_i+\\sum_{(x_i,x_j)\\in S\\times S} x_j^Tx_j \\right)\\\\\n",
    "      &= \\frac{1}{2|S|}\\sum_{(x_i,x_j)\\in S\\times S} (x_i-x_j)^T(x_i-x_j)\\\\\n",
    "      &= \\frac{1}{2|S|}\\sum_{(x_i,x_j)\\in S\\times S} ||x_i-x_j||^2\n",
    "\\end{align*}\n",
    "as desired.\n",
    "* So the $K$-means algorithm consists of iterations of two steps, we will show that either the algorithm has stabilized or that each of these steps decreases\n",
    "\\[ T=\\sum_{c=1}^K \\sum_{x_i\\in S_c}||x_i-\\mu_c||^2,\\] where $S_c$ is the $c$th cluster and $\\mu_c$ is the previously defined mean over that cluster. The sequence defined by these sums is therefore monotonically decreasing and bounded below so it will eventually approach the maximal lower bound. \n",
    "\n",
    "The value of $\\mu$ that minimizes $\\sum_{x_i\\in S_c}||x_i-\\mu||^2$ is $\\frac{1}{|S_c|}\\sum_{x_i\\in S_c} x_i$ (we can check this by setting the derivative with respect to $\\mu$ to zero). So updating the mean estimates will never increase $T$. If we do not update the mean estimates than the cluster assignments will not change on the next step. \n",
    "\n",
    "The next step maps samples to their closest mean which can only decrease the sum $T$.\n",
    "\n",
    "### Python Lab\n",
    "\n",
    "Now let us load our standard libraries."
   ]
  },
  {
   "cell_type": "code",
   "execution_count": 1,
   "metadata": {
    "collapsed": false
   },
   "outputs": [
    {
     "name": "stderr",
     "output_type": "stream",
     "text": [
      "Using TensorFlow backend.\n"
     ]
    }
   ],
   "source": [
    "import numpy as np\n",
    "import pandas as pd\n",
    "import keras\n",
    "from keras.datasets import mnist"
   ]
  },
  {
   "cell_type": "markdown",
   "metadata": {},
   "source": [
    "Let us load up a sample dataset."
   ]
  },
  {
   "cell_type": "code",
   "execution_count": 2,
   "metadata": {
    "collapsed": true
   },
   "outputs": [],
   "source": [
    "(x_train, y_train), (x_test, y_test) = mnist.load_data()"
   ]
  },
  {
   "cell_type": "code",
   "execution_count": 3,
   "metadata": {
    "collapsed": false
   },
   "outputs": [
    {
     "data": {
      "text/plain": [
       "(60000, 28, 28)"
      ]
     },
     "execution_count": 3,
     "metadata": {},
     "output_type": "execute_result"
    }
   ],
   "source": [
    "x_train.shape"
   ]
  },
  {
   "cell_type": "code",
   "execution_count": 4,
   "metadata": {
    "collapsed": true
   },
   "outputs": [],
   "source": [
    "import matplotlib.pyplot as plt"
   ]
  },
  {
   "cell_type": "code",
   "execution_count": 5,
   "metadata": {
    "collapsed": true
   },
   "outputs": [],
   "source": [
    "%matplotlib inline"
   ]
  },
  {
   "cell_type": "code",
   "execution_count": 6,
   "metadata": {
    "collapsed": false
   },
   "outputs": [
    {
     "name": "stdout",
     "output_type": "stream",
     "text": [
      "Label is 3.\n"
     ]
    },
    {
     "data": {
      "image/png": "[encoded data removed]",
      "text/plain": [
       "<matplotlib.figure.Figure at 0x11f975518>"
      ]
     },
     "metadata": {},
     "output_type": "display_data"
    }
   ],
   "source": [
    "randix = np.random.randint(0,60000)\n",
    "plt.imshow(x_train[randix])\n",
    "print(\"Label is {}.\".format(y_train[randix]))"
   ]
  },
  {
   "cell_type": "code",
   "execution_count": 7,
   "metadata": {
    "collapsed": true
   },
   "outputs": [],
   "source": [
    "x_train_f = x_train.reshape(60000,-1)"
   ]
  },
  {
   "cell_type": "code",
   "execution_count": 8,
   "metadata": {
    "collapsed": false
   },
   "outputs": [
    {
     "data": {
      "text/plain": [
       "(60000, 784)"
      ]
     },
     "execution_count": 8,
     "metadata": {},
     "output_type": "execute_result"
    }
   ],
   "source": [
    "x_train_f.shape"
   ]
  },
  {
   "cell_type": "code",
   "execution_count": 9,
   "metadata": {
    "collapsed": true
   },
   "outputs": [],
   "source": [
    "x_test_f = x_test.reshape(-1, 28**2)"
   ]
  },
  {
   "cell_type": "code",
   "execution_count": 10,
   "metadata": {
    "collapsed": false
   },
   "outputs": [
    {
     "data": {
      "text/plain": [
       "(10000, 784)"
      ]
     },
     "execution_count": 10,
     "metadata": {},
     "output_type": "execute_result"
    }
   ],
   "source": [
    "x_test_f.shape"
   ]
  },
  {
   "cell_type": "code",
   "execution_count": 11,
   "metadata": {
    "collapsed": true
   },
   "outputs": [],
   "source": [
    "from sklearn.preprocessing import OneHotEncoder as OHE"
   ]
  },
  {
   "cell_type": "code",
   "execution_count": 12,
   "metadata": {
    "collapsed": true
   },
   "outputs": [],
   "source": [
    "ohe = OHE(sparse = False)\n",
    "y_train_ohe = ohe.fit_transform(y_train.reshape(-1,1))\n",
    "y_test_ohe = ohe.fit_transform(y_test.reshape(-1,1))"
   ]
  },
  {
   "cell_type": "code",
   "execution_count": 13,
   "metadata": {
    "collapsed": false
   },
   "outputs": [
    {
     "data": {
      "text/plain": [
       "True"
      ]
     },
     "execution_count": 13,
     "metadata": {},
     "output_type": "execute_result"
    }
   ],
   "source": [
    "np.argmax(y_train_ohe[randix]) == y_train[randix]"
   ]
  },
  {
   "cell_type": "markdown",
   "metadata": {},
   "source": [
    "Now construct a KNN classifier"
   ]
  },
  {
   "cell_type": "code",
   "execution_count": 14,
   "metadata": {
    "collapsed": true
   },
   "outputs": [],
   "source": [
    "from scipy.spatial.distance import cdist\n",
    "from sklearn.neighbors import KDTree\n",
    "class KNNClassifier(object):\n",
    "\n",
    "    def fit(self,x,y,k=1,fun=lambda x: np.mean(x,axis=0)):\n",
    "        \"\"\"Fits a KNN regressor.\n",
    "        Args:\n",
    "            x (numpy array) Array of samples indexed along first axis.\n",
    "            y (numpy array) Array of corresponding labels.\n",
    "            k (int) the number of neighbors\n",
    "            fun (function numpy array --> desired output) Function to be applied to k-nearest\n",
    "              neighbors for predictions\n",
    "        \"\"\"\n",
    "        self.x = x[:]\n",
    "        self.y = y[:]\n",
    "        self.k = k\n",
    "        self.f = fun\n",
    "        self.tree = KDTree(self.x)\n",
    "        \n",
    "    def predict_one(self, sample):\n",
    "        \"\"\"\n",
    "        Run prediction on sample\n",
    "        \n",
    "        Args:\n",
    "            new_x (numpy array) sample\n",
    "        \n",
    "        \"\"\"\n",
    "        dists = cdist(sample.reshape(1,-1),self.x)\n",
    "        ix = np.argpartition(dists,self.k-1)[0,0:self.k]\n",
    "        return self.f(self.y[ix])\n",
    "    \n",
    "    def predict(self, samples):\n",
    "        \"\"\"\n",
    "        Run predictions on list.\n",
    "        Args:\n",
    "            samples (numpy array) samples\n",
    "        \"\"\"\n",
    "        return np.array([self.predict_one(x) for x in samples])\n",
    "    \n",
    "    def faster_predict(self,samples):\n",
    "        \"\"\"\n",
    "        Run faster predictions on list.\n",
    "        Args:\n",
    "            samples (numpy array) samples\n",
    "        \"\"\"\n",
    "        _, ixs = self.tree.query(samples, k=self.k)\n",
    "        #print(ixs)\n",
    "        return np.array([self.f(self.y[ix]) for ix in ixs])\n",
    "        \n"
   ]
  },
  {
   "cell_type": "code",
   "execution_count": 15,
   "metadata": {
    "collapsed": true
   },
   "outputs": [],
   "source": [
    "classifier = KNNClassifier()"
   ]
  },
  {
   "cell_type": "code",
   "execution_count": 16,
   "metadata": {
    "collapsed": true
   },
   "outputs": [],
   "source": [
    "classifier.fit(x_train_f, y_train_ohe, k=1)"
   ]
  },
  {
   "cell_type": "code",
   "execution_count": 17,
   "metadata": {
    "collapsed": true
   },
   "outputs": [],
   "source": [
    "preds=classifier.predict(x_test_f[:500])"
   ]
  },
  {
   "cell_type": "markdown",
   "metadata": {},
   "source": [
    "Calculate accuracy on this very small subset."
   ]
  },
  {
   "cell_type": "code",
   "execution_count": 18,
   "metadata": {
    "collapsed": false
   },
   "outputs": [
    {
     "data": {
      "text/plain": [
       "0.96599999999999997"
      ]
     },
     "execution_count": 18,
     "metadata": {},
     "output_type": "execute_result"
    }
   ],
   "source": [
    "np.mean(np.argmax(preds,axis=1)==y_test[:500])"
   ]
  },
  {
   "cell_type": "code",
   "execution_count": 19,
   "metadata": {
    "collapsed": true
   },
   "outputs": [],
   "source": [
    "faster_preds = classifier.faster_predict(x_test_f[:500])"
   ]
  },
  {
   "cell_type": "code",
   "execution_count": 20,
   "metadata": {
    "collapsed": false
   },
   "outputs": [
    {
     "data": {
      "text/plain": [
       "0.96599999999999997"
      ]
     },
     "execution_count": 20,
     "metadata": {},
     "output_type": "execute_result"
    }
   ],
   "source": [
    "np.mean(np.argmax(faster_preds,axis=1)==y_test[:500])"
   ]
  },
  {
   "cell_type": "markdown",
   "metadata": {},
   "source": [
    "Okay now, let us try the clustering algorithm."
   ]
  },
  {
   "cell_type": "code",
   "execution_count": 21,
   "metadata": {
    "collapsed": true
   },
   "outputs": [],
   "source": [
    "def cluster_means(x,cluster_assignments,k):\n",
    "    \"\"\"\n",
    "    Return the new cluster means given the cluster assignments\n",
    "    \"\"\"\n",
    "    cluster_counter = np.zeros((k,1))\n",
    "    cluster_means = np.zeros((k, x.shape[1]))\n",
    "    for cluster, pt in zip(cluster_assignments, x):\n",
    "        #print(x)\n",
    "        cluster_means[cluster] += pt\n",
    "        cluster_counter[cluster]+=1\n",
    "    z = cluster_means/cluster_counter\n",
    "    #print(z)\n",
    "    return z\n",
    "\n",
    "class KMeansCluster(object):\n",
    "\n",
    "    \n",
    "    #Fit a clustering object on a dataset x consisting of samples on each row\n",
    "    #by the K-means algorithm into k clusters\n",
    "    def fit(self,x,k):\n",
    "        \"\"\"\n",
    "        Fit k-means clusterer\n",
    "        \n",
    "        Args:\n",
    "            x (numpy array) samples\n",
    "            k (int) number of clusters\n",
    "        \"\"\"\n",
    "        num_samples, num_features = x.shape[0], x.shape[1]\n",
    "        #Randomly assign clusters\n",
    "        cluster_assignments = np.random.randint(0,k,num_samples)\n",
    "        \n",
    "        #initialize\n",
    "        cluster_mus = np.zeros((k,num_features))\n",
    "        \n",
    "        #update\n",
    "        new_cluster_mus = cluster_means(x,cluster_assignments,k)\n",
    "        count = 1\n",
    "        while (cluster_mus!=new_cluster_mus).any() and count < 10**3:\n",
    "            count += 1\n",
    "            print(\"Iteration {}\".format(count),end=\"\\r\")\n",
    "            cluster_mus = new_cluster_mus\n",
    "            #calculate distances\n",
    "            distances = cdist(x,cluster_mus, metric = 'sqeuclidean')\n",
    "            np.argmin(distances, axis = 1, out = cluster_assignments)\n",
    "            new_cluster_mus = cluster_means(x,cluster_assignments,k)\n",
    "        self.cluster_means = cluster_means\n",
    "        self.cluster_assignments = cluster_assignments\n",
    "        self.x = x[:]\n",
    "           \n"
   ]
  },
  {
   "cell_type": "code",
   "execution_count": 22,
   "metadata": {
    "collapsed": false
   },
   "outputs": [
    {
     "name": "stdout",
     "output_type": "stream",
     "text": [
      "Iteration 86\r"
     ]
    }
   ],
   "source": [
    "clusterer = KMeansCluster()\n",
    "clusterer.fit(x_train_f,10)"
   ]
  },
  {
   "cell_type": "code",
   "execution_count": 23,
   "metadata": {
    "collapsed": true
   },
   "outputs": [],
   "source": [
    "from sklearn.metrics import confusion_matrix"
   ]
  },
  {
   "cell_type": "code",
   "execution_count": 24,
   "metadata": {
    "collapsed": false
   },
   "outputs": [
    {
     "data": {
      "text/plain": [
       "array([[ 233,   27,   29,   39,   14,  579,  237,   89, 4676,    0],\n",
       "       [   6,    7, 2977,    9,    9,    6,   11,    4,    0, 3713],\n",
       "       [ 390,   61,  369, 4193,   37,  139,  161,  230,   55,  323],\n",
       "       [3888,   32,   84,  209,  161, 1225,   61,   65,   33,  373],\n",
       "       [   0, 1536,  231,   14, 1632,   12,  127, 2188,    4,   98],\n",
       "       [1782,  266,  712,   14,  313, 1826,  140,  186,   63,  119],\n",
       "       [  31,    1,  191,   80,    1,  125, 4591,  592,   73,  233],\n",
       "       [   3, 2824,  236,   30, 2385,    3,    2,  546,   13,  223],\n",
       "       [1372,  230,  392,   43,  214, 3104,   57,  134,   29,  276],\n",
       "       [  85, 1707,   77,    5, 2473,   44,    8, 1382,   29,  139]])"
      ]
     },
     "execution_count": 24,
     "metadata": {},
     "output_type": "execute_result"
    }
   ],
   "source": [
    "confusion_matrix(y_train, clusterer.cluster_assignments)"
   ]
  },
  {
   "cell_type": "code",
   "execution_count": 25,
   "metadata": {
    "collapsed": true
   },
   "outputs": [],
   "source": [
    "cluster_samples = clusterer.x[clusterer.cluster_assignments == 0]"
   ]
  },
  {
   "cell_type": "code",
   "execution_count": 26,
   "metadata": {
    "collapsed": false
   },
   "outputs": [
    {
     "data": {
      "text/plain": [
       "<matplotlib.image.AxesImage at 0x12482e940>"
      ]
     },
     "execution_count": 26,
     "metadata": {},
     "output_type": "execute_result"
    },
    {
     "data": {
      "image/png": "[encoded data removed]",
      "text/plain": [
       "<matplotlib.figure.Figure at 0x12495a9e8>"
      ]
     },
     "metadata": {},
     "output_type": "display_data"
    }
   ],
   "source": [
    "plt.imshow(cluster_samples[0].reshape(28,28))"
   ]
  },
  {
   "cell_type": "code",
   "execution_count": 27,
   "metadata": {
    "collapsed": false
   },
   "outputs": [
    {
     "data": {
      "text/plain": [
       "<matplotlib.image.AxesImage at 0x140ebb3c8>"
      ]
     },
     "execution_count": 27,
     "metadata": {},
     "output_type": "execute_result"
    },
    {
     "data": {
      "image/png": "[encoded data removed]",
      "text/plain": [
       "<matplotlib.figure.Figure at 0x12483fd30>"
      ]
     },
     "metadata": {},
     "output_type": "display_data"
    }
   ],
   "source": [
    "plt.imshow(cluster_samples[1].reshape(28,28))"
   ]
  },
  {
   "cell_type": "code",
   "execution_count": 28,
   "metadata": {
    "collapsed": false
   },
   "outputs": [
    {
     "data": {
      "text/plain": [
       "<matplotlib.image.AxesImage at 0x14114fd30>"
      ]
     },
     "execution_count": 28,
     "metadata": {},
     "output_type": "execute_result"
    },
    {
     "data": {
      "image/png": "[encoded data removed]",
      "text/plain": [
       "<matplotlib.figure.Figure at 0x122d92e48>"
      ]
     },
     "metadata": {},
     "output_type": "display_data"
    }
   ],
   "source": [
    "plt.imshow(cluster_samples[23].reshape(28,28))"
   ]
  },
  {
   "cell_type": "code",
   "execution_count": 29,
   "metadata": {
    "collapsed": false
   },
   "outputs": [
    {
     "data": {
      "text/plain": [
       "<matplotlib.image.AxesImage at 0x14125c4a8>"
      ]
     },
     "execution_count": 29,
     "metadata": {},
     "output_type": "execute_result"
    },
    {
     "data": {
      "image/png": "[encoded data removed]",
      "text/plain": [
       "<matplotlib.figure.Figure at 0x14119ba58>"
      ]
     },
     "metadata": {},
     "output_type": "display_data"
    }
   ],
   "source": [
    "plt.imshow(cluster_samples[50].reshape(28,28))"
   ]
  },
  {
   "cell_type": "code",
   "execution_count": 30,
   "metadata": {
    "collapsed": false
   },
   "outputs": [
    {
     "data": {
      "text/plain": [
       "array([  2.99101412e-02,   7.70218228e-04,   5.00641849e-02,\n",
       "         4.99101412e-01,   0.00000000e+00,   2.28754814e-01,\n",
       "         3.97946085e-03,   3.85109114e-04,   1.76123235e-01,\n",
       "         1.09114249e-02])"
      ]
     },
     "execution_count": 30,
     "metadata": {},
     "output_type": "execute_result"
    }
   ],
   "source": [
    "np.mean(classifier.faster_predict(cluster_samples),axis=0)"
   ]
  },
  {
   "cell_type": "markdown",
   "metadata": {},
   "source": [
    "Let us load the credit card dataset and extract a small dataframe of numerical features to test on."
   ]
  },
  {
   "cell_type": "code",
   "execution_count": 31,
   "metadata": {
    "collapsed": true
   },
   "outputs": [],
   "source": [
    "big_df = pd.read_csv(\"UCI_Credit_Card.csv\")"
   ]
  },
  {
   "cell_type": "code",
   "execution_count": 32,
   "metadata": {
    "collapsed": false
   },
   "outputs": [
    {
     "data": {
      "text/html": [
       "<div>\n",
       "<table border=\"1\" class=\"dataframe\">\n",
       "  <thead>\n",
       "    <tr style=\"text-align: right;\">\n",
       "      <th></th>\n",
       "      <th>ID</th>\n",
       "      <th>LIMIT_BAL</th>\n",
       "      <th>SEX</th>\n",
       "      <th>EDUCATION</th>\n",
       "      <th>MARRIAGE</th>\n",
       "      <th>AGE</th>\n",
       "      <th>PAY_0</th>\n",
       "      <th>PAY_2</th>\n",
       "      <th>PAY_3</th>\n",
       "      <th>PAY_4</th>\n",
       "      <th>...</th>\n",
       "      <th>BILL_AMT4</th>\n",
       "      <th>BILL_AMT5</th>\n",
       "      <th>BILL_AMT6</th>\n",
       "      <th>PAY_AMT1</th>\n",
       "      <th>PAY_AMT2</th>\n",
       "      <th>PAY_AMT3</th>\n",
       "      <th>PAY_AMT4</th>\n",
       "      <th>PAY_AMT5</th>\n",
       "      <th>PAY_AMT6</th>\n",
       "      <th>default.payment.next.month</th>\n",
       "    </tr>\n",
       "  </thead>\n",
       "  <tbody>\n",
       "    <tr>\n",
       "      <th>0</th>\n",
       "      <td>1</td>\n",
       "      <td>20000.0</td>\n",
       "      <td>2</td>\n",
       "      <td>2</td>\n",
       "      <td>1</td>\n",
       "      <td>24</td>\n",
       "      <td>2</td>\n",
       "      <td>2</td>\n",
       "      <td>-1</td>\n",
       "      <td>-1</td>\n",
       "      <td>...</td>\n",
       "      <td>0.0</td>\n",
       "      <td>0.0</td>\n",
       "      <td>0.0</td>\n",
       "      <td>0.0</td>\n",
       "      <td>689.0</td>\n",
       "      <td>0.0</td>\n",
       "      <td>0.0</td>\n",
       "      <td>0.0</td>\n",
       "      <td>0.0</td>\n",
       "      <td>1</td>\n",
       "    </tr>\n",
       "    <tr>\n",
       "      <th>1</th>\n",
       "      <td>2</td>\n",
       "      <td>120000.0</td>\n",
       "      <td>2</td>\n",
       "      <td>2</td>\n",
       "      <td>2</td>\n",
       "      <td>26</td>\n",
       "      <td>-1</td>\n",
       "      <td>2</td>\n",
       "      <td>0</td>\n",
       "      <td>0</td>\n",
       "      <td>...</td>\n",
       "      <td>3272.0</td>\n",
       "      <td>3455.0</td>\n",
       "      <td>3261.0</td>\n",
       "      <td>0.0</td>\n",
       "      <td>1000.0</td>\n",
       "      <td>1000.0</td>\n",
       "      <td>1000.0</td>\n",
       "      <td>0.0</td>\n",
       "      <td>2000.0</td>\n",
       "      <td>1</td>\n",
       "    </tr>\n",
       "    <tr>\n",
       "      <th>2</th>\n",
       "      <td>3</td>\n",
       "      <td>90000.0</td>\n",
       "      <td>2</td>\n",
       "      <td>2</td>\n",
       "      <td>2</td>\n",
       "      <td>34</td>\n",
       "      <td>0</td>\n",
       "      <td>0</td>\n",
       "      <td>0</td>\n",
       "      <td>0</td>\n",
       "      <td>...</td>\n",
       "      <td>14331.0</td>\n",
       "      <td>14948.0</td>\n",
       "      <td>15549.0</td>\n",
       "      <td>1518.0</td>\n",
       "      <td>1500.0</td>\n",
       "      <td>1000.0</td>\n",
       "      <td>1000.0</td>\n",
       "      <td>1000.0</td>\n",
       "      <td>5000.0</td>\n",
       "      <td>0</td>\n",
       "    </tr>\n",
       "    <tr>\n",
       "      <th>3</th>\n",
       "      <td>4</td>\n",
       "      <td>50000.0</td>\n",
       "      <td>2</td>\n",
       "      <td>2</td>\n",
       "      <td>1</td>\n",
       "      <td>37</td>\n",
       "      <td>0</td>\n",
       "      <td>0</td>\n",
       "      <td>0</td>\n",
       "      <td>0</td>\n",
       "      <td>...</td>\n",
       "      <td>28314.0</td>\n",
       "      <td>28959.0</td>\n",
       "      <td>29547.0</td>\n",
       "      <td>2000.0</td>\n",
       "      <td>2019.0</td>\n",
       "      <td>1200.0</td>\n",
       "      <td>1100.0</td>\n",
       "      <td>1069.0</td>\n",
       "      <td>1000.0</td>\n",
       "      <td>0</td>\n",
       "    </tr>\n",
       "    <tr>\n",
       "      <th>4</th>\n",
       "      <td>5</td>\n",
       "      <td>50000.0</td>\n",
       "      <td>1</td>\n",
       "      <td>2</td>\n",
       "      <td>1</td>\n",
       "      <td>57</td>\n",
       "      <td>-1</td>\n",
       "      <td>0</td>\n",
       "      <td>-1</td>\n",
       "      <td>0</td>\n",
       "      <td>...</td>\n",
       "      <td>20940.0</td>\n",
       "      <td>19146.0</td>\n",
       "      <td>19131.0</td>\n",
       "      <td>2000.0</td>\n",
       "      <td>36681.0</td>\n",
       "      <td>10000.0</td>\n",
       "      <td>9000.0</td>\n",
       "      <td>689.0</td>\n",
       "      <td>679.0</td>\n",
       "      <td>0</td>\n",
       "    </tr>\n",
       "  </tbody>\n",
       "</table>\n",
       "<p>5 rows × 25 columns</p>\n",
       "</div>"
      ],
      "text/plain": [
       "   ID  LIMIT_BAL  SEX  EDUCATION  MARRIAGE  AGE  PAY_0  PAY_2  PAY_3  PAY_4  \\\n",
       "0   1    20000.0    2          2         1   24      2      2     -1     -1   \n",
       "1   2   120000.0    2          2         2   26     -1      2      0      0   \n",
       "2   3    90000.0    2          2         2   34      0      0      0      0   \n",
       "3   4    50000.0    2          2         1   37      0      0      0      0   \n",
       "4   5    50000.0    1          2         1   57     -1      0     -1      0   \n",
       "\n",
       "              ...              BILL_AMT4  BILL_AMT5  BILL_AMT6  PAY_AMT1  \\\n",
       "0             ...                    0.0        0.0        0.0       0.0   \n",
       "1             ...                 3272.0     3455.0     3261.0       0.0   \n",
       "2             ...                14331.0    14948.0    15549.0    1518.0   \n",
       "3             ...                28314.0    28959.0    29547.0    2000.0   \n",
       "4             ...                20940.0    19146.0    19131.0    2000.0   \n",
       "\n",
       "   PAY_AMT2  PAY_AMT3  PAY_AMT4  PAY_AMT5  PAY_AMT6  \\\n",
       "0     689.0       0.0       0.0       0.0       0.0   \n",
       "1    1000.0    1000.0    1000.0       0.0    2000.0   \n",
       "2    1500.0    1000.0    1000.0    1000.0    5000.0   \n",
       "3    2019.0    1200.0    1100.0    1069.0    1000.0   \n",
       "4   36681.0   10000.0    9000.0     689.0     679.0   \n",
       "\n",
       "   default.payment.next.month  \n",
       "0                           1  \n",
       "1                           1  \n",
       "2                           0  \n",
       "3                           0  \n",
       "4                           0  \n",
       "\n",
       "[5 rows x 25 columns]"
      ]
     },
     "execution_count": 32,
     "metadata": {},
     "output_type": "execute_result"
    }
   ],
   "source": [
    "big_df.head()"
   ]
  },
  {
   "cell_type": "code",
   "execution_count": 33,
   "metadata": {
    "collapsed": false
   },
   "outputs": [
    {
     "data": {
      "text/plain": [
       "30000"
      ]
     },
     "execution_count": 33,
     "metadata": {},
     "output_type": "execute_result"
    }
   ],
   "source": [
    "len(big_df)"
   ]
  },
  {
   "cell_type": "code",
   "execution_count": 34,
   "metadata": {
    "collapsed": false
   },
   "outputs": [
    {
     "data": {
      "text/plain": [
       "30000"
      ]
     },
     "execution_count": 34,
     "metadata": {},
     "output_type": "execute_result"
    }
   ],
   "source": [
    "len(big_df.dropna())"
   ]
  },
  {
   "cell_type": "code",
   "execution_count": 35,
   "metadata": {
    "collapsed": true
   },
   "outputs": [],
   "source": [
    "df = big_df.drop(labels = ['ID'], axis = 1)"
   ]
  },
  {
   "cell_type": "code",
   "execution_count": 36,
   "metadata": {
    "collapsed": true
   },
   "outputs": [],
   "source": [
    "labels = df['default.payment.next.month']\n",
    "df.drop('default.payment.next.month', axis = 1, inplace = True)"
   ]
  },
  {
   "cell_type": "code",
   "execution_count": 37,
   "metadata": {
    "collapsed": true
   },
   "outputs": [],
   "source": [
    "num_samples = 25000"
   ]
  },
  {
   "cell_type": "code",
   "execution_count": 38,
   "metadata": {
    "collapsed": true
   },
   "outputs": [],
   "source": [
    "train_x, train_y = df[0:num_samples], labels[0:num_samples]"
   ]
  },
  {
   "cell_type": "code",
   "execution_count": 39,
   "metadata": {
    "collapsed": true
   },
   "outputs": [],
   "source": [
    "test_x, test_y = df[num_samples:], labels[num_samples:]"
   ]
  },
  {
   "cell_type": "code",
   "execution_count": 40,
   "metadata": {
    "collapsed": false
   },
   "outputs": [
    {
     "data": {
      "text/html": [
       "<div>\n",
       "<table border=\"1\" class=\"dataframe\">\n",
       "  <thead>\n",
       "    <tr style=\"text-align: right;\">\n",
       "      <th></th>\n",
       "      <th>LIMIT_BAL</th>\n",
       "      <th>SEX</th>\n",
       "      <th>EDUCATION</th>\n",
       "      <th>MARRIAGE</th>\n",
       "      <th>AGE</th>\n",
       "      <th>PAY_0</th>\n",
       "      <th>PAY_2</th>\n",
       "      <th>PAY_3</th>\n",
       "      <th>PAY_4</th>\n",
       "      <th>PAY_5</th>\n",
       "      <th>...</th>\n",
       "      <th>BILL_AMT3</th>\n",
       "      <th>BILL_AMT4</th>\n",
       "      <th>BILL_AMT5</th>\n",
       "      <th>BILL_AMT6</th>\n",
       "      <th>PAY_AMT1</th>\n",
       "      <th>PAY_AMT2</th>\n",
       "      <th>PAY_AMT3</th>\n",
       "      <th>PAY_AMT4</th>\n",
       "      <th>PAY_AMT5</th>\n",
       "      <th>PAY_AMT6</th>\n",
       "    </tr>\n",
       "  </thead>\n",
       "  <tbody>\n",
       "    <tr>\n",
       "      <th>25000</th>\n",
       "      <td>410000.0</td>\n",
       "      <td>1</td>\n",
       "      <td>1</td>\n",
       "      <td>1</td>\n",
       "      <td>38</td>\n",
       "      <td>-1</td>\n",
       "      <td>-1</td>\n",
       "      <td>-1</td>\n",
       "      <td>-1</td>\n",
       "      <td>-2</td>\n",
       "      <td>...</td>\n",
       "      <td>35509.0</td>\n",
       "      <td>0.0</td>\n",
       "      <td>0.0</td>\n",
       "      <td>0.0</td>\n",
       "      <td>0.0</td>\n",
       "      <td>35509.0</td>\n",
       "      <td>0.0</td>\n",
       "      <td>0.0</td>\n",
       "      <td>0.0</td>\n",
       "      <td>0.0</td>\n",
       "    </tr>\n",
       "    <tr>\n",
       "      <th>25001</th>\n",
       "      <td>260000.0</td>\n",
       "      <td>1</td>\n",
       "      <td>2</td>\n",
       "      <td>2</td>\n",
       "      <td>35</td>\n",
       "      <td>0</td>\n",
       "      <td>0</td>\n",
       "      <td>0</td>\n",
       "      <td>0</td>\n",
       "      <td>0</td>\n",
       "      <td>...</td>\n",
       "      <td>297313.0</td>\n",
       "      <td>276948.0</td>\n",
       "      <td>2378.0</td>\n",
       "      <td>-2709.0</td>\n",
       "      <td>12325.0</td>\n",
       "      <td>6633.0</td>\n",
       "      <td>6889.0</td>\n",
       "      <td>1025.0</td>\n",
       "      <td>2047.0</td>\n",
       "      <td>194102.0</td>\n",
       "    </tr>\n",
       "    <tr>\n",
       "      <th>25002</th>\n",
       "      <td>50000.0</td>\n",
       "      <td>1</td>\n",
       "      <td>2</td>\n",
       "      <td>1</td>\n",
       "      <td>40</td>\n",
       "      <td>0</td>\n",
       "      <td>0</td>\n",
       "      <td>0</td>\n",
       "      <td>0</td>\n",
       "      <td>0</td>\n",
       "      <td>...</td>\n",
       "      <td>11353.0</td>\n",
       "      <td>12143.0</td>\n",
       "      <td>11753.0</td>\n",
       "      <td>11922.0</td>\n",
       "      <td>1200.0</td>\n",
       "      <td>4000.0</td>\n",
       "      <td>2000.0</td>\n",
       "      <td>2000.0</td>\n",
       "      <td>1000.0</td>\n",
       "      <td>1000.0</td>\n",
       "    </tr>\n",
       "    <tr>\n",
       "      <th>25003</th>\n",
       "      <td>360000.0</td>\n",
       "      <td>1</td>\n",
       "      <td>3</td>\n",
       "      <td>1</td>\n",
       "      <td>37</td>\n",
       "      <td>-1</td>\n",
       "      <td>-1</td>\n",
       "      <td>-1</td>\n",
       "      <td>-2</td>\n",
       "      <td>-2</td>\n",
       "      <td>...</td>\n",
       "      <td>0.0</td>\n",
       "      <td>0.0</td>\n",
       "      <td>0.0</td>\n",
       "      <td>0.0</td>\n",
       "      <td>303.0</td>\n",
       "      <td>0.0</td>\n",
       "      <td>0.0</td>\n",
       "      <td>0.0</td>\n",
       "      <td>0.0</td>\n",
       "      <td>860.0</td>\n",
       "    </tr>\n",
       "    <tr>\n",
       "      <th>25004</th>\n",
       "      <td>50000.0</td>\n",
       "      <td>1</td>\n",
       "      <td>3</td>\n",
       "      <td>1</td>\n",
       "      <td>49</td>\n",
       "      <td>0</td>\n",
       "      <td>0</td>\n",
       "      <td>0</td>\n",
       "      <td>0</td>\n",
       "      <td>0</td>\n",
       "      <td>...</td>\n",
       "      <td>50076.0</td>\n",
       "      <td>48995.0</td>\n",
       "      <td>19780.0</td>\n",
       "      <td>15102.0</td>\n",
       "      <td>2000.0</td>\n",
       "      <td>5000.0</td>\n",
       "      <td>2305.0</td>\n",
       "      <td>3000.0</td>\n",
       "      <td>559.0</td>\n",
       "      <td>3000.0</td>\n",
       "    </tr>\n",
       "  </tbody>\n",
       "</table>\n",
       "<p>5 rows × 23 columns</p>\n",
       "</div>"
      ],
      "text/plain": [
       "       LIMIT_BAL  SEX  EDUCATION  MARRIAGE  AGE  PAY_0  PAY_2  PAY_3  PAY_4  \\\n",
       "25000   410000.0    1          1         1   38     -1     -1     -1     -1   \n",
       "25001   260000.0    1          2         2   35      0      0      0      0   \n",
       "25002    50000.0    1          2         1   40      0      0      0      0   \n",
       "25003   360000.0    1          3         1   37     -1     -1     -1     -2   \n",
       "25004    50000.0    1          3         1   49      0      0      0      0   \n",
       "\n",
       "       PAY_5    ...     BILL_AMT3  BILL_AMT4  BILL_AMT5  BILL_AMT6  PAY_AMT1  \\\n",
       "25000     -2    ...       35509.0        0.0        0.0        0.0       0.0   \n",
       "25001      0    ...      297313.0   276948.0     2378.0    -2709.0   12325.0   \n",
       "25002      0    ...       11353.0    12143.0    11753.0    11922.0    1200.0   \n",
       "25003     -2    ...           0.0        0.0        0.0        0.0     303.0   \n",
       "25004      0    ...       50076.0    48995.0    19780.0    15102.0    2000.0   \n",
       "\n",
       "       PAY_AMT2  PAY_AMT3  PAY_AMT4  PAY_AMT5  PAY_AMT6  \n",
       "25000   35509.0       0.0       0.0       0.0       0.0  \n",
       "25001    6633.0    6889.0    1025.0    2047.0  194102.0  \n",
       "25002    4000.0    2000.0    2000.0    1000.0    1000.0  \n",
       "25003       0.0       0.0       0.0       0.0     860.0  \n",
       "25004    5000.0    2305.0    3000.0     559.0    3000.0  \n",
       "\n",
       "[5 rows x 23 columns]"
      ]
     },
     "execution_count": 40,
     "metadata": {},
     "output_type": "execute_result"
    }
   ],
   "source": [
    "test_x.head()"
   ]
  },
  {
   "cell_type": "code",
   "execution_count": 41,
   "metadata": {
    "collapsed": false
   },
   "outputs": [
    {
     "data": {
      "text/plain": [
       "0    1\n",
       "1    1\n",
       "2    0\n",
       "3    0\n",
       "4    0\n",
       "Name: default.payment.next.month, dtype: int64"
      ]
     },
     "execution_count": 41,
     "metadata": {},
     "output_type": "execute_result"
    }
   ],
   "source": [
    "train_y.head()"
   ]
  },
  {
   "cell_type": "markdown",
   "metadata": {},
   "source": [
    "Now let us write our transformation function."
   ]
  },
  {
   "cell_type": "code",
   "execution_count": 63,
   "metadata": {
    "collapsed": true
   },
   "outputs": [],
   "source": [
    "class bin_transformer(object):\n",
    "    \n",
    "    def __init__(self, df, num_quantiles = 2):\n",
    "        self.quantiles = df.quantile(np.linspace(1./num_quantiles, 1.-1./num_quantiles,num_quantiles-1))\n",
    "            \n",
    "    \n",
    "    def transform(self, df):\n",
    "        new = pd.DataFrame()\n",
    "        fns = {}\n",
    "        for col_name in df.axes[1]:\n",
    "            for ix, q in self.quantiles.iterrows():\n",
    "                quart = q[col_name]\n",
    "                new[col_name+str(ix)] = (df[col_name] >= quart)\n",
    "                fns[col_name+str(ix)] = [col_name, lambda x: x[col_name]>=quart]\n",
    "        return new, fns"
   ]
  },
  {
   "cell_type": "code",
   "execution_count": 64,
   "metadata": {
    "collapsed": true
   },
   "outputs": [],
   "source": [
    "transformer = bin_transformer(df,5)"
   ]
  },
  {
   "cell_type": "code",
   "execution_count": 65,
   "metadata": {
    "collapsed": true
   },
   "outputs": [],
   "source": [
    "train_x_t, tr_fns = transformer.transform(train_x)"
   ]
  },
  {
   "cell_type": "code",
   "execution_count": 66,
   "metadata": {
    "collapsed": true
   },
   "outputs": [],
   "source": [
    "test_x_t, test_fns = transformer.transform(test_x)"
   ]
  },
  {
   "cell_type": "code",
   "execution_count": 67,
   "metadata": {
    "collapsed": false
   },
   "outputs": [
    {
     "data": {
      "text/html": [
       "<div>\n",
       "<table border=\"1\" class=\"dataframe\">\n",
       "  <thead>\n",
       "    <tr style=\"text-align: right;\">\n",
       "      <th></th>\n",
       "      <th>LIMIT_BAL0.2</th>\n",
       "      <th>LIMIT_BAL0.4</th>\n",
       "      <th>LIMIT_BAL0.6</th>\n",
       "      <th>LIMIT_BAL0.8</th>\n",
       "      <th>SEX0.2</th>\n",
       "      <th>SEX0.4</th>\n",
       "      <th>SEX0.6</th>\n",
       "      <th>SEX0.8</th>\n",
       "      <th>EDUCATION0.2</th>\n",
       "      <th>EDUCATION0.4</th>\n",
       "      <th>...</th>\n",
       "      <th>PAY_AMT40.6</th>\n",
       "      <th>PAY_AMT40.8</th>\n",
       "      <th>PAY_AMT50.2</th>\n",
       "      <th>PAY_AMT50.4</th>\n",
       "      <th>PAY_AMT50.6</th>\n",
       "      <th>PAY_AMT50.8</th>\n",
       "      <th>PAY_AMT60.2</th>\n",
       "      <th>PAY_AMT60.4</th>\n",
       "      <th>PAY_AMT60.6</th>\n",
       "      <th>PAY_AMT60.8</th>\n",
       "    </tr>\n",
       "  </thead>\n",
       "  <tbody>\n",
       "    <tr>\n",
       "      <th>0</th>\n",
       "      <td>False</td>\n",
       "      <td>False</td>\n",
       "      <td>False</td>\n",
       "      <td>False</td>\n",
       "      <td>True</td>\n",
       "      <td>True</td>\n",
       "      <td>True</td>\n",
       "      <td>True</td>\n",
       "      <td>True</td>\n",
       "      <td>True</td>\n",
       "      <td>...</td>\n",
       "      <td>False</td>\n",
       "      <td>False</td>\n",
       "      <td>True</td>\n",
       "      <td>False</td>\n",
       "      <td>False</td>\n",
       "      <td>False</td>\n",
       "      <td>True</td>\n",
       "      <td>False</td>\n",
       "      <td>False</td>\n",
       "      <td>False</td>\n",
       "    </tr>\n",
       "    <tr>\n",
       "      <th>1</th>\n",
       "      <td>True</td>\n",
       "      <td>True</td>\n",
       "      <td>False</td>\n",
       "      <td>False</td>\n",
       "      <td>True</td>\n",
       "      <td>True</td>\n",
       "      <td>True</td>\n",
       "      <td>True</td>\n",
       "      <td>True</td>\n",
       "      <td>True</td>\n",
       "      <td>...</td>\n",
       "      <td>False</td>\n",
       "      <td>False</td>\n",
       "      <td>True</td>\n",
       "      <td>False</td>\n",
       "      <td>False</td>\n",
       "      <td>False</td>\n",
       "      <td>True</td>\n",
       "      <td>True</td>\n",
       "      <td>False</td>\n",
       "      <td>False</td>\n",
       "    </tr>\n",
       "    <tr>\n",
       "      <th>2</th>\n",
       "      <td>True</td>\n",
       "      <td>False</td>\n",
       "      <td>False</td>\n",
       "      <td>False</td>\n",
       "      <td>True</td>\n",
       "      <td>True</td>\n",
       "      <td>True</td>\n",
       "      <td>True</td>\n",
       "      <td>True</td>\n",
       "      <td>True</td>\n",
       "      <td>...</td>\n",
       "      <td>False</td>\n",
       "      <td>False</td>\n",
       "      <td>True</td>\n",
       "      <td>True</td>\n",
       "      <td>False</td>\n",
       "      <td>False</td>\n",
       "      <td>True</td>\n",
       "      <td>True</td>\n",
       "      <td>True</td>\n",
       "      <td>True</td>\n",
       "    </tr>\n",
       "    <tr>\n",
       "      <th>3</th>\n",
       "      <td>True</td>\n",
       "      <td>False</td>\n",
       "      <td>False</td>\n",
       "      <td>False</td>\n",
       "      <td>True</td>\n",
       "      <td>True</td>\n",
       "      <td>True</td>\n",
       "      <td>True</td>\n",
       "      <td>True</td>\n",
       "      <td>True</td>\n",
       "      <td>...</td>\n",
       "      <td>False</td>\n",
       "      <td>False</td>\n",
       "      <td>True</td>\n",
       "      <td>True</td>\n",
       "      <td>False</td>\n",
       "      <td>False</td>\n",
       "      <td>True</td>\n",
       "      <td>True</td>\n",
       "      <td>False</td>\n",
       "      <td>False</td>\n",
       "    </tr>\n",
       "    <tr>\n",
       "      <th>4</th>\n",
       "      <td>True</td>\n",
       "      <td>False</td>\n",
       "      <td>False</td>\n",
       "      <td>False</td>\n",
       "      <td>True</td>\n",
       "      <td>False</td>\n",
       "      <td>False</td>\n",
       "      <td>False</td>\n",
       "      <td>True</td>\n",
       "      <td>True</td>\n",
       "      <td>...</td>\n",
       "      <td>True</td>\n",
       "      <td>True</td>\n",
       "      <td>True</td>\n",
       "      <td>False</td>\n",
       "      <td>False</td>\n",
       "      <td>False</td>\n",
       "      <td>True</td>\n",
       "      <td>False</td>\n",
       "      <td>False</td>\n",
       "      <td>False</td>\n",
       "    </tr>\n",
       "  </tbody>\n",
       "</table>\n",
       "<p>5 rows × 92 columns</p>\n",
       "</div>"
      ],
      "text/plain": [
       "  LIMIT_BAL0.2 LIMIT_BAL0.4 LIMIT_BAL0.6 LIMIT_BAL0.8 SEX0.2 SEX0.4 SEX0.6  \\\n",
       "0        False        False        False        False   True   True   True   \n",
       "1         True         True        False        False   True   True   True   \n",
       "2         True        False        False        False   True   True   True   \n",
       "3         True        False        False        False   True   True   True   \n",
       "4         True        False        False        False   True  False  False   \n",
       "\n",
       "  SEX0.8 EDUCATION0.2 EDUCATION0.4     ...     PAY_AMT40.6 PAY_AMT40.8  \\\n",
       "0   True         True         True     ...           False       False   \n",
       "1   True         True         True     ...           False       False   \n",
       "2   True         True         True     ...           False       False   \n",
       "3   True         True         True     ...           False       False   \n",
       "4  False         True         True     ...            True        True   \n",
       "\n",
       "  PAY_AMT50.2 PAY_AMT50.4 PAY_AMT50.6 PAY_AMT50.8 PAY_AMT60.2 PAY_AMT60.4  \\\n",
       "0        True       False       False       False        True       False   \n",
       "1        True       False       False       False        True        True   \n",
       "2        True        True       False       False        True        True   \n",
       "3        True        True       False       False        True        True   \n",
       "4        True       False       False       False        True       False   \n",
       "\n",
       "  PAY_AMT60.6 PAY_AMT60.8  \n",
       "0       False       False  \n",
       "1       False       False  \n",
       "2        True        True  \n",
       "3       False       False  \n",
       "4       False       False  \n",
       "\n",
       "[5 rows x 92 columns]"
      ]
     },
     "execution_count": 67,
     "metadata": {},
     "output_type": "execute_result"
    }
   ],
   "source": [
    "train_x_t.head()"
   ]
  },
  {
   "cell_type": "code",
   "execution_count": 68,
   "metadata": {
    "collapsed": false
   },
   "outputs": [
    {
     "data": {
      "text/plain": [
       "{'AGE0.2': ['AGE',\n",
       "  <function __main__.bin_transformer.transform.<locals>.<lambda>>],\n",
       " 'AGE0.4': ['AGE',\n",
       "  <function __main__.bin_transformer.transform.<locals>.<lambda>>],\n",
       " 'AGE0.6': ['AGE',\n",
       "  <function __main__.bin_transformer.transform.<locals>.<lambda>>],\n",
       " 'AGE0.8': ['AGE',\n",
       "  <function __main__.bin_transformer.transform.<locals>.<lambda>>],\n",
       " 'BILL_AMT10.2': ['BILL_AMT1',\n",
       "  <function __main__.bin_transformer.transform.<locals>.<lambda>>],\n",
       " 'BILL_AMT10.4': ['BILL_AMT1',\n",
       "  <function __main__.bin_transformer.transform.<locals>.<lambda>>],\n",
       " 'BILL_AMT10.6': ['BILL_AMT1',\n",
       "  <function __main__.bin_transformer.transform.<locals>.<lambda>>],\n",
       " 'BILL_AMT10.8': ['BILL_AMT1',\n",
       "  <function __main__.bin_transformer.transform.<locals>.<lambda>>],\n",
       " 'BILL_AMT20.2': ['BILL_AMT2',\n",
       "  <function __main__.bin_transformer.transform.<locals>.<lambda>>],\n",
       " 'BILL_AMT20.4': ['BILL_AMT2',\n",
       "  <function __main__.bin_transformer.transform.<locals>.<lambda>>],\n",
       " 'BILL_AMT20.6': ['BILL_AMT2',\n",
       "  <function __main__.bin_transformer.transform.<locals>.<lambda>>],\n",
       " 'BILL_AMT20.8': ['BILL_AMT2',\n",
       "  <function __main__.bin_transformer.transform.<locals>.<lambda>>],\n",
       " 'BILL_AMT30.2': ['BILL_AMT3',\n",
       "  <function __main__.bin_transformer.transform.<locals>.<lambda>>],\n",
       " 'BILL_AMT30.4': ['BILL_AMT3',\n",
       "  <function __main__.bin_transformer.transform.<locals>.<lambda>>],\n",
       " 'BILL_AMT30.6': ['BILL_AMT3',\n",
       "  <function __main__.bin_transformer.transform.<locals>.<lambda>>],\n",
       " 'BILL_AMT30.8': ['BILL_AMT3',\n",
       "  <function __main__.bin_transformer.transform.<locals>.<lambda>>],\n",
       " 'BILL_AMT40.2': ['BILL_AMT4',\n",
       "  <function __main__.bin_transformer.transform.<locals>.<lambda>>],\n",
       " 'BILL_AMT40.4': ['BILL_AMT4',\n",
       "  <function __main__.bin_transformer.transform.<locals>.<lambda>>],\n",
       " 'BILL_AMT40.6': ['BILL_AMT4',\n",
       "  <function __main__.bin_transformer.transform.<locals>.<lambda>>],\n",
       " 'BILL_AMT40.8': ['BILL_AMT4',\n",
       "  <function __main__.bin_transformer.transform.<locals>.<lambda>>],\n",
       " 'BILL_AMT50.2': ['BILL_AMT5',\n",
       "  <function __main__.bin_transformer.transform.<locals>.<lambda>>],\n",
       " 'BILL_AMT50.4': ['BILL_AMT5',\n",
       "  <function __main__.bin_transformer.transform.<locals>.<lambda>>],\n",
       " 'BILL_AMT50.6': ['BILL_AMT5',\n",
       "  <function __main__.bin_transformer.transform.<locals>.<lambda>>],\n",
       " 'BILL_AMT50.8': ['BILL_AMT5',\n",
       "  <function __main__.bin_transformer.transform.<locals>.<lambda>>],\n",
       " 'BILL_AMT60.2': ['BILL_AMT6',\n",
       "  <function __main__.bin_transformer.transform.<locals>.<lambda>>],\n",
       " 'BILL_AMT60.4': ['BILL_AMT6',\n",
       "  <function __main__.bin_transformer.transform.<locals>.<lambda>>],\n",
       " 'BILL_AMT60.6': ['BILL_AMT6',\n",
       "  <function __main__.bin_transformer.transform.<locals>.<lambda>>],\n",
       " 'BILL_AMT60.8': ['BILL_AMT6',\n",
       "  <function __main__.bin_transformer.transform.<locals>.<lambda>>],\n",
       " 'EDUCATION0.2': ['EDUCATION',\n",
       "  <function __main__.bin_transformer.transform.<locals>.<lambda>>],\n",
       " 'EDUCATION0.4': ['EDUCATION',\n",
       "  <function __main__.bin_transformer.transform.<locals>.<lambda>>],\n",
       " 'EDUCATION0.6': ['EDUCATION',\n",
       "  <function __main__.bin_transformer.transform.<locals>.<lambda>>],\n",
       " 'EDUCATION0.8': ['EDUCATION',\n",
       "  <function __main__.bin_transformer.transform.<locals>.<lambda>>],\n",
       " 'LIMIT_BAL0.2': ['LIMIT_BAL',\n",
       "  <function __main__.bin_transformer.transform.<locals>.<lambda>>],\n",
       " 'LIMIT_BAL0.4': ['LIMIT_BAL',\n",
       "  <function __main__.bin_transformer.transform.<locals>.<lambda>>],\n",
       " 'LIMIT_BAL0.6': ['LIMIT_BAL',\n",
       "  <function __main__.bin_transformer.transform.<locals>.<lambda>>],\n",
       " 'LIMIT_BAL0.8': ['LIMIT_BAL',\n",
       "  <function __main__.bin_transformer.transform.<locals>.<lambda>>],\n",
       " 'MARRIAGE0.2': ['MARRIAGE',\n",
       "  <function __main__.bin_transformer.transform.<locals>.<lambda>>],\n",
       " 'MARRIAGE0.4': ['MARRIAGE',\n",
       "  <function __main__.bin_transformer.transform.<locals>.<lambda>>],\n",
       " 'MARRIAGE0.6': ['MARRIAGE',\n",
       "  <function __main__.bin_transformer.transform.<locals>.<lambda>>],\n",
       " 'MARRIAGE0.8': ['MARRIAGE',\n",
       "  <function __main__.bin_transformer.transform.<locals>.<lambda>>],\n",
       " 'PAY_00.2': ['PAY_0',\n",
       "  <function __main__.bin_transformer.transform.<locals>.<lambda>>],\n",
       " 'PAY_00.4': ['PAY_0',\n",
       "  <function __main__.bin_transformer.transform.<locals>.<lambda>>],\n",
       " 'PAY_00.6': ['PAY_0',\n",
       "  <function __main__.bin_transformer.transform.<locals>.<lambda>>],\n",
       " 'PAY_00.8': ['PAY_0',\n",
       "  <function __main__.bin_transformer.transform.<locals>.<lambda>>],\n",
       " 'PAY_20.2': ['PAY_2',\n",
       "  <function __main__.bin_transformer.transform.<locals>.<lambda>>],\n",
       " 'PAY_20.4': ['PAY_2',\n",
       "  <function __main__.bin_transformer.transform.<locals>.<lambda>>],\n",
       " 'PAY_20.6': ['PAY_2',\n",
       "  <function __main__.bin_transformer.transform.<locals>.<lambda>>],\n",
       " 'PAY_20.8': ['PAY_2',\n",
       "  <function __main__.bin_transformer.transform.<locals>.<lambda>>],\n",
       " 'PAY_30.2': ['PAY_3',\n",
       "  <function __main__.bin_transformer.transform.<locals>.<lambda>>],\n",
       " 'PAY_30.4': ['PAY_3',\n",
       "  <function __main__.bin_transformer.transform.<locals>.<lambda>>],\n",
       " 'PAY_30.6': ['PAY_3',\n",
       "  <function __main__.bin_transformer.transform.<locals>.<lambda>>],\n",
       " 'PAY_30.8': ['PAY_3',\n",
       "  <function __main__.bin_transformer.transform.<locals>.<lambda>>],\n",
       " 'PAY_40.2': ['PAY_4',\n",
       "  <function __main__.bin_transformer.transform.<locals>.<lambda>>],\n",
       " 'PAY_40.4': ['PAY_4',\n",
       "  <function __main__.bin_transformer.transform.<locals>.<lambda>>],\n",
       " 'PAY_40.6': ['PAY_4',\n",
       "  <function __main__.bin_transformer.transform.<locals>.<lambda>>],\n",
       " 'PAY_40.8': ['PAY_4',\n",
       "  <function __main__.bin_transformer.transform.<locals>.<lambda>>],\n",
       " 'PAY_50.2': ['PAY_5',\n",
       "  <function __main__.bin_transformer.transform.<locals>.<lambda>>],\n",
       " 'PAY_50.4': ['PAY_5',\n",
       "  <function __main__.bin_transformer.transform.<locals>.<lambda>>],\n",
       " 'PAY_50.6': ['PAY_5',\n",
       "  <function __main__.bin_transformer.transform.<locals>.<lambda>>],\n",
       " 'PAY_50.8': ['PAY_5',\n",
       "  <function __main__.bin_transformer.transform.<locals>.<lambda>>],\n",
       " 'PAY_60.2': ['PAY_6',\n",
       "  <function __main__.bin_transformer.transform.<locals>.<lambda>>],\n",
       " 'PAY_60.4': ['PAY_6',\n",
       "  <function __main__.bin_transformer.transform.<locals>.<lambda>>],\n",
       " 'PAY_60.6': ['PAY_6',\n",
       "  <function __main__.bin_transformer.transform.<locals>.<lambda>>],\n",
       " 'PAY_60.8': ['PAY_6',\n",
       "  <function __main__.bin_transformer.transform.<locals>.<lambda>>],\n",
       " 'PAY_AMT10.2': ['PAY_AMT1',\n",
       "  <function __main__.bin_transformer.transform.<locals>.<lambda>>],\n",
       " 'PAY_AMT10.4': ['PAY_AMT1',\n",
       "  <function __main__.bin_transformer.transform.<locals>.<lambda>>],\n",
       " 'PAY_AMT10.6': ['PAY_AMT1',\n",
       "  <function __main__.bin_transformer.transform.<locals>.<lambda>>],\n",
       " 'PAY_AMT10.8': ['PAY_AMT1',\n",
       "  <function __main__.bin_transformer.transform.<locals>.<lambda>>],\n",
       " 'PAY_AMT20.2': ['PAY_AMT2',\n",
       "  <function __main__.bin_transformer.transform.<locals>.<lambda>>],\n",
       " 'PAY_AMT20.4': ['PAY_AMT2',\n",
       "  <function __main__.bin_transformer.transform.<locals>.<lambda>>],\n",
       " 'PAY_AMT20.6': ['PAY_AMT2',\n",
       "  <function __main__.bin_transformer.transform.<locals>.<lambda>>],\n",
       " 'PAY_AMT20.8': ['PAY_AMT2',\n",
       "  <function __main__.bin_transformer.transform.<locals>.<lambda>>],\n",
       " 'PAY_AMT30.2': ['PAY_AMT3',\n",
       "  <function __main__.bin_transformer.transform.<locals>.<lambda>>],\n",
       " 'PAY_AMT30.4': ['PAY_AMT3',\n",
       "  <function __main__.bin_transformer.transform.<locals>.<lambda>>],\n",
       " 'PAY_AMT30.6': ['PAY_AMT3',\n",
       "  <function __main__.bin_transformer.transform.<locals>.<lambda>>],\n",
       " 'PAY_AMT30.8': ['PAY_AMT3',\n",
       "  <function __main__.bin_transformer.transform.<locals>.<lambda>>],\n",
       " 'PAY_AMT40.2': ['PAY_AMT4',\n",
       "  <function __main__.bin_transformer.transform.<locals>.<lambda>>],\n",
       " 'PAY_AMT40.4': ['PAY_AMT4',\n",
       "  <function __main__.bin_transformer.transform.<locals>.<lambda>>],\n",
       " 'PAY_AMT40.6': ['PAY_AMT4',\n",
       "  <function __main__.bin_transformer.transform.<locals>.<lambda>>],\n",
       " 'PAY_AMT40.8': ['PAY_AMT4',\n",
       "  <function __main__.bin_transformer.transform.<locals>.<lambda>>],\n",
       " 'PAY_AMT50.2': ['PAY_AMT5',\n",
       "  <function __main__.bin_transformer.transform.<locals>.<lambda>>],\n",
       " 'PAY_AMT50.4': ['PAY_AMT5',\n",
       "  <function __main__.bin_transformer.transform.<locals>.<lambda>>],\n",
       " 'PAY_AMT50.6': ['PAY_AMT5',\n",
       "  <function __main__.bin_transformer.transform.<locals>.<lambda>>],\n",
       " 'PAY_AMT50.8': ['PAY_AMT5',\n",
       "  <function __main__.bin_transformer.transform.<locals>.<lambda>>],\n",
       " 'PAY_AMT60.2': ['PAY_AMT6',\n",
       "  <function __main__.bin_transformer.transform.<locals>.<lambda>>],\n",
       " 'PAY_AMT60.4': ['PAY_AMT6',\n",
       "  <function __main__.bin_transformer.transform.<locals>.<lambda>>],\n",
       " 'PAY_AMT60.6': ['PAY_AMT6',\n",
       "  <function __main__.bin_transformer.transform.<locals>.<lambda>>],\n",
       " 'PAY_AMT60.8': ['PAY_AMT6',\n",
       "  <function __main__.bin_transformer.transform.<locals>.<lambda>>],\n",
       " 'SEX0.2': ['SEX',\n",
       "  <function __main__.bin_transformer.transform.<locals>.<lambda>>],\n",
       " 'SEX0.4': ['SEX',\n",
       "  <function __main__.bin_transformer.transform.<locals>.<lambda>>],\n",
       " 'SEX0.6': ['SEX',\n",
       "  <function __main__.bin_transformer.transform.<locals>.<lambda>>],\n",
       " 'SEX0.8': ['SEX',\n",
       "  <function __main__.bin_transformer.transform.<locals>.<lambda>>]}"
      ]
     },
     "execution_count": 68,
     "metadata": {},
     "output_type": "execute_result"
    }
   ],
   "source": [
    "tr_fns"
   ]
  },
  {
   "cell_type": "markdown",
   "metadata": {},
   "source": [
    "Now let us build some simple loss functions for 1d labels."
   ]
  },
  {
   "cell_type": "code",
   "execution_count": 69,
   "metadata": {
    "collapsed": true
   },
   "outputs": [],
   "source": [
    "def bdd_cross_entropy(pred, label):\n",
    "    return -np.mean(label*np.log(pred+10**(-20)))"
   ]
  },
  {
   "cell_type": "code",
   "execution_count": 70,
   "metadata": {
    "collapsed": true
   },
   "outputs": [],
   "source": [
    "def MSE(pred,label):\n",
    "    return np.mean((pred-label)**2)"
   ]
  },
  {
   "cell_type": "code",
   "execution_count": 71,
   "metadata": {
    "collapsed": true
   },
   "outputs": [],
   "source": [
    "def acc(pred,label):\n",
    "    return np.mean((pred>=0.5)==(label == 1))"
   ]
  },
  {
   "cell_type": "markdown",
   "metadata": {},
   "source": [
    "Now let us define the find split function."
   ]
  },
  {
   "cell_type": "code",
   "execution_count": 72,
   "metadata": {
    "collapsed": true
   },
   "outputs": [],
   "source": [
    "def find_split(x, y, loss, verbose = False):\n",
    "    min_ax = None\n",
    "    base_loss = loss(np.mean(y),y) \n",
    "    min_loss = base_loss\n",
    "    N = len(x)\n",
    "    for col_name in x.axes[1]:\n",
    "        mask = x[col_name]\n",
    "        num_pos = np.sum(mask)\n",
    "        num_neg = N - num_pos\n",
    "        pos_y = np.mean(y[mask])\n",
    "        neg_y = np.mean(y[~mask])\n",
    "        l = (num_pos*loss(pos_y, y[mask]) + num_neg*loss(neg_y, y[~mask]))/N\n",
    "        if verbose:\n",
    "            print(\"Column {0} split has improved loss {1}\".format(col_name, base_loss-l))\n",
    "        if l < min_loss:\n",
    "            min_loss = l\n",
    "            min_ax = col_name\n",
    "    return min_ax, min_loss\n",
    "        "
   ]
  },
  {
   "cell_type": "code",
   "execution_count": 73,
   "metadata": {
    "collapsed": false
   },
   "outputs": [
    {
     "data": {
      "text/plain": [
       "('PAY_00.8', 0.14999327547679842)"
      ]
     },
     "execution_count": 73,
     "metadata": {},
     "output_type": "execute_result"
    }
   ],
   "source": [
    "find_split(train_x_t, train_y, MSE, verbose = False)"
   ]
  },
  {
   "cell_type": "code",
   "execution_count": 78,
   "metadata": {
    "collapsed": true
   },
   "outputs": [],
   "source": [
    "#Slow but simple\n",
    "class decision_tree(object):\n",
    "    def fit(self, x,y,depth=5,loss=MSE, minsize = 1, quintiles = 2):\n",
    "        mu = np.mean(y)\n",
    "        self.f = lambda x: mu\n",
    "        if(len(x)<=minsize or depth == 0):\n",
    "            return \n",
    "        tr = bin_transformer(x, quintiles)\n",
    "        tr_x, fns = tr.transform(x)\n",
    "        split, _ = find_split(tr_x,y,loss)\n",
    "        if split == None:\n",
    "            return\n",
    "        splitter = fns[split][1]\n",
    "        mask = tr_x[split]\n",
    "        left = decision_tree()\n",
    "        right = decision_tree()\n",
    "        left.fit(tr_x[~mask],y[~mask],depth-1,loss, minsize, quintiles)\n",
    "        right.fit(tr_x[mask],y[mask],depth-1,loss, minsize, quintiles)\n",
    "        def g(x):\n",
    "            print(\"spliting at {}, {}\".format(split,x))\n",
    "            if(splitter(x)):\n",
    "                print(\"right {}\".format(right.f(x)))\n",
    "                return right.f(x)\n",
    "            else:\n",
    "                print(\"right {}\".format(right.f(x)))\n",
    "                return left.f(x)\n",
    "        self.f = g"
   ]
  },
  {
   "cell_type": "code",
   "execution_count": 79,
   "metadata": {
    "collapsed": false
   },
   "outputs": [],
   "source": [
    "dt = decision_tree()"
   ]
  },
  {
   "cell_type": "code",
   "execution_count": 80,
   "metadata": {
    "collapsed": false
   },
   "outputs": [],
   "source": [
    "dt.fit(train_x_t, train_y)"
   ]
  },
  {
   "cell_type": "code",
   "execution_count": 81,
   "metadata": {
    "collapsed": false
   },
   "outputs": [
    {
     "name": "stdout",
     "output_type": "stream",
     "text": [
      "spliting at PAY_AMT10.20.5, LIMIT_BAL0.2    False\n",
      "LIMIT_BAL0.4    False\n",
      "LIMIT_BAL0.6    False\n",
      "LIMIT_BAL0.8    False\n",
      "SEX0.2           True\n",
      "SEX0.4           True\n",
      "SEX0.6           True\n",
      "SEX0.8           True\n",
      "EDUCATION0.2     True\n",
      "EDUCATION0.4     True\n",
      "EDUCATION0.6     True\n",
      "EDUCATION0.8     True\n",
      "MARRIAGE0.2      True\n",
      "MARRIAGE0.4      True\n",
      "MARRIAGE0.6     False\n",
      "MARRIAGE0.8     False\n",
      "AGE0.2          False\n",
      "AGE0.4          False\n",
      "AGE0.6          False\n",
      "AGE0.8          False\n",
      "PAY_00.2         True\n",
      "PAY_00.4         True\n",
      "PAY_00.6         True\n",
      "PAY_00.8         True\n",
      "PAY_20.2         True\n",
      "PAY_20.4         True\n",
      "PAY_20.6         True\n",
      "PAY_20.8         True\n",
      "PAY_30.2         True\n",
      "PAY_30.4        False\n",
      "                ...  \n",
      "BILL_AMT50.6    False\n",
      "BILL_AMT50.8    False\n",
      "BILL_AMT60.2    False\n",
      "BILL_AMT60.4    False\n",
      "BILL_AMT60.6    False\n",
      "BILL_AMT60.8    False\n",
      "PAY_AMT10.2     False\n",
      "PAY_AMT10.4     False\n",
      "PAY_AMT10.6     False\n",
      "PAY_AMT10.8     False\n",
      "PAY_AMT20.2      True\n",
      "PAY_AMT20.4     False\n",
      "PAY_AMT20.6     False\n",
      "PAY_AMT20.8     False\n",
      "PAY_AMT30.2     False\n",
      "PAY_AMT30.4     False\n",
      "PAY_AMT30.6     False\n",
      "PAY_AMT30.8     False\n",
      "PAY_AMT40.2      True\n",
      "PAY_AMT40.4     False\n",
      "PAY_AMT40.6     False\n",
      "PAY_AMT40.8     False\n",
      "PAY_AMT50.2      True\n",
      "PAY_AMT50.4     False\n",
      "PAY_AMT50.6     False\n",
      "PAY_AMT50.8     False\n",
      "PAY_AMT60.2      True\n",
      "PAY_AMT60.4     False\n",
      "PAY_AMT60.6     False\n",
      "PAY_AMT60.8     False\n",
      "Name: 0, dtype: bool\n",
      "spliting at LIMIT_BAL0.40.50.5, LIMIT_BAL0.2    False\n",
      "LIMIT_BAL0.4    False\n",
      "LIMIT_BAL0.6    False\n",
      "LIMIT_BAL0.8    False\n",
      "SEX0.2           True\n",
      "SEX0.4           True\n",
      "SEX0.6           True\n",
      "SEX0.8           True\n",
      "EDUCATION0.2     True\n",
      "EDUCATION0.4     True\n",
      "EDUCATION0.6     True\n",
      "EDUCATION0.8     True\n",
      "MARRIAGE0.2      True\n",
      "MARRIAGE0.4      True\n",
      "MARRIAGE0.6     False\n",
      "MARRIAGE0.8     False\n",
      "AGE0.2          False\n",
      "AGE0.4          False\n",
      "AGE0.6          False\n",
      "AGE0.8          False\n",
      "PAY_00.2         True\n",
      "PAY_00.4         True\n",
      "PAY_00.6         True\n",
      "PAY_00.8         True\n",
      "PAY_20.2         True\n",
      "PAY_20.4         True\n",
      "PAY_20.6         True\n",
      "PAY_20.8         True\n",
      "PAY_30.2         True\n",
      "PAY_30.4        False\n",
      "                ...  \n",
      "BILL_AMT50.6    False\n",
      "BILL_AMT50.8    False\n",
      "BILL_AMT60.2    False\n",
      "BILL_AMT60.4    False\n",
      "BILL_AMT60.6    False\n",
      "BILL_AMT60.8    False\n",
      "PAY_AMT10.2     False\n",
      "PAY_AMT10.4     False\n",
      "PAY_AMT10.6     False\n",
      "PAY_AMT10.8     False\n",
      "PAY_AMT20.2      True\n",
      "PAY_AMT20.4     False\n",
      "PAY_AMT20.6     False\n",
      "PAY_AMT20.8     False\n",
      "PAY_AMT30.2     False\n",
      "PAY_AMT30.4     False\n",
      "PAY_AMT30.6     False\n",
      "PAY_AMT30.8     False\n",
      "PAY_AMT40.2      True\n",
      "PAY_AMT40.4     False\n",
      "PAY_AMT40.6     False\n",
      "PAY_AMT40.8     False\n",
      "PAY_AMT50.2      True\n",
      "PAY_AMT50.4     False\n",
      "PAY_AMT50.6     False\n",
      "PAY_AMT50.8     False\n",
      "PAY_AMT60.2      True\n",
      "PAY_AMT60.4     False\n",
      "PAY_AMT60.6     False\n",
      "PAY_AMT60.8     False\n",
      "Name: 0, dtype: bool\n"
     ]
    },
    {
     "ename": "KeyError",
     "evalue": "'PAY_AMT60.80.5'",
     "output_type": "error",
     "traceback": [
      "\u001b[0;31m---------------------------------------------------------------------------\u001b[0m",
      "\u001b[0;31mTypeError\u001b[0m                                 Traceback (most recent call last)",
      "\u001b[0;32m/Users/justin/anaconda/envs/py36/lib/python3.6/site-packages/pandas/indexes/base.py\u001b[0m in \u001b[0;36mget_value\u001b[0;34m(self, series, key)\u001b[0m\n\u001b[1;32m   2174\u001b[0m             \u001b[0;32mtry\u001b[0m\u001b[0;34m:\u001b[0m\u001b[0;34m\u001b[0m\u001b[0m\n\u001b[0;32m-> 2175\u001b[0;31m                 \u001b[0;32mreturn\u001b[0m \u001b[0mtslib\u001b[0m\u001b[0;34m.\u001b[0m\u001b[0mget_value_box\u001b[0m\u001b[0;34m(\u001b[0m\u001b[0ms\u001b[0m\u001b[0;34m,\u001b[0m \u001b[0mkey\u001b[0m\u001b[0;34m)\u001b[0m\u001b[0;34m\u001b[0m\u001b[0m\n\u001b[0m\u001b[1;32m   2176\u001b[0m             \u001b[0;32mexcept\u001b[0m \u001b[0mIndexError\u001b[0m\u001b[0;34m:\u001b[0m\u001b[0;34m\u001b[0m\u001b[0m\n",
      "\u001b[0;32mpandas/tslib.pyx\u001b[0m in \u001b[0;36mpandas.tslib.get_value_box (pandas/tslib.c:19053)\u001b[0;34m()\u001b[0m\n",
      "\u001b[0;32mpandas/tslib.pyx\u001b[0m in \u001b[0;36mpandas.tslib.get_value_box (pandas/tslib.c:18687)\u001b[0;34m()\u001b[0m\n",
      "\u001b[0;31mTypeError\u001b[0m: 'str' object cannot be interpreted as an integer",
      "\nDuring handling of the above exception, another exception occurred:\n",
      "\u001b[0;31mKeyError\u001b[0m                                  Traceback (most recent call last)",
      "\u001b[0;32m<ipython-input-81-8664164b54bc>\u001b[0m in \u001b[0;36m<module>\u001b[0;34m()\u001b[0m\n\u001b[0;32m----> 1\u001b[0;31m \u001b[0mdt\u001b[0m\u001b[0;34m.\u001b[0m\u001b[0mf\u001b[0m\u001b[0;34m(\u001b[0m\u001b[0mtrain_x_t\u001b[0m\u001b[0;34m.\u001b[0m\u001b[0mloc\u001b[0m\u001b[0;34m[\u001b[0m\u001b[0;36m0\u001b[0m\u001b[0;34m,\u001b[0m\u001b[0;34m:\u001b[0m\u001b[0;34m]\u001b[0m\u001b[0;34m)\u001b[0m\u001b[0;34m\u001b[0m\u001b[0m\n\u001b[0m",
      "\u001b[0;32m<ipython-input-78-35b701c9112f>\u001b[0m in \u001b[0;36mg\u001b[0;34m(x)\u001b[0m\n\u001b[1;32m     20\u001b[0m             \u001b[0mprint\u001b[0m\u001b[0;34m(\u001b[0m\u001b[0;34m\"spliting at {}, {}\"\u001b[0m\u001b[0;34m.\u001b[0m\u001b[0mformat\u001b[0m\u001b[0;34m(\u001b[0m\u001b[0msplit\u001b[0m\u001b[0;34m,\u001b[0m\u001b[0mx\u001b[0m\u001b[0;34m)\u001b[0m\u001b[0;34m)\u001b[0m\u001b[0;34m\u001b[0m\u001b[0m\n\u001b[1;32m     21\u001b[0m             \u001b[0;32mif\u001b[0m\u001b[0;34m(\u001b[0m\u001b[0msplitter\u001b[0m\u001b[0;34m(\u001b[0m\u001b[0mx\u001b[0m\u001b[0;34m)\u001b[0m\u001b[0;34m)\u001b[0m\u001b[0;34m:\u001b[0m\u001b[0;34m\u001b[0m\u001b[0m\n\u001b[0;32m---> 22\u001b[0;31m                 \u001b[0mprint\u001b[0m\u001b[0;34m(\u001b[0m\u001b[0;34m\"right {}\"\u001b[0m\u001b[0;34m.\u001b[0m\u001b[0mformat\u001b[0m\u001b[0;34m(\u001b[0m\u001b[0mright\u001b[0m\u001b[0;34m.\u001b[0m\u001b[0mf\u001b[0m\u001b[0;34m(\u001b[0m\u001b[0mx\u001b[0m\u001b[0;34m)\u001b[0m\u001b[0;34m)\u001b[0m\u001b[0;34m)\u001b[0m\u001b[0;34m\u001b[0m\u001b[0m\n\u001b[0m\u001b[1;32m     23\u001b[0m                 \u001b[0;32mreturn\u001b[0m \u001b[0mright\u001b[0m\u001b[0;34m.\u001b[0m\u001b[0mf\u001b[0m\u001b[0;34m(\u001b[0m\u001b[0mx\u001b[0m\u001b[0;34m)\u001b[0m\u001b[0;34m\u001b[0m\u001b[0m\n\u001b[1;32m     24\u001b[0m             \u001b[0;32melse\u001b[0m\u001b[0;34m:\u001b[0m\u001b[0;34m\u001b[0m\u001b[0m\n",
      "\u001b[0;32m<ipython-input-78-35b701c9112f>\u001b[0m in \u001b[0;36mg\u001b[0;34m(x)\u001b[0m\n\u001b[1;32m     19\u001b[0m         \u001b[0;32mdef\u001b[0m \u001b[0mg\u001b[0m\u001b[0;34m(\u001b[0m\u001b[0mx\u001b[0m\u001b[0;34m)\u001b[0m\u001b[0;34m:\u001b[0m\u001b[0;34m\u001b[0m\u001b[0m\n\u001b[1;32m     20\u001b[0m             \u001b[0mprint\u001b[0m\u001b[0;34m(\u001b[0m\u001b[0;34m\"spliting at {}, {}\"\u001b[0m\u001b[0;34m.\u001b[0m\u001b[0mformat\u001b[0m\u001b[0;34m(\u001b[0m\u001b[0msplit\u001b[0m\u001b[0;34m,\u001b[0m\u001b[0mx\u001b[0m\u001b[0;34m)\u001b[0m\u001b[0;34m)\u001b[0m\u001b[0;34m\u001b[0m\u001b[0m\n\u001b[0;32m---> 21\u001b[0;31m             \u001b[0;32mif\u001b[0m\u001b[0;34m(\u001b[0m\u001b[0msplitter\u001b[0m\u001b[0;34m(\u001b[0m\u001b[0mx\u001b[0m\u001b[0;34m)\u001b[0m\u001b[0;34m)\u001b[0m\u001b[0;34m:\u001b[0m\u001b[0;34m\u001b[0m\u001b[0m\n\u001b[0m\u001b[1;32m     22\u001b[0m                 \u001b[0mprint\u001b[0m\u001b[0;34m(\u001b[0m\u001b[0;34m\"right {}\"\u001b[0m\u001b[0;34m.\u001b[0m\u001b[0mformat\u001b[0m\u001b[0;34m(\u001b[0m\u001b[0mright\u001b[0m\u001b[0;34m.\u001b[0m\u001b[0mf\u001b[0m\u001b[0;34m(\u001b[0m\u001b[0mx\u001b[0m\u001b[0;34m)\u001b[0m\u001b[0;34m)\u001b[0m\u001b[0;34m)\u001b[0m\u001b[0;34m\u001b[0m\u001b[0m\n\u001b[1;32m     23\u001b[0m                 \u001b[0;32mreturn\u001b[0m \u001b[0mright\u001b[0m\u001b[0;34m.\u001b[0m\u001b[0mf\u001b[0m\u001b[0;34m(\u001b[0m\u001b[0mx\u001b[0m\u001b[0;34m)\u001b[0m\u001b[0;34m\u001b[0m\u001b[0m\n",
      "\u001b[0;32m<ipython-input-63-a0101e6b8f6e>\u001b[0m in \u001b[0;36m<lambda>\u001b[0;34m(x)\u001b[0m\n\u001b[1;32m     12\u001b[0m                 \u001b[0mquart\u001b[0m \u001b[0;34m=\u001b[0m \u001b[0mq\u001b[0m\u001b[0;34m[\u001b[0m\u001b[0mcol_name\u001b[0m\u001b[0;34m]\u001b[0m\u001b[0;34m\u001b[0m\u001b[0m\n\u001b[1;32m     13\u001b[0m                 \u001b[0mnew\u001b[0m\u001b[0;34m[\u001b[0m\u001b[0mcol_name\u001b[0m\u001b[0;34m+\u001b[0m\u001b[0mstr\u001b[0m\u001b[0;34m(\u001b[0m\u001b[0mix\u001b[0m\u001b[0;34m)\u001b[0m\u001b[0;34m]\u001b[0m \u001b[0;34m=\u001b[0m \u001b[0;34m(\u001b[0m\u001b[0mdf\u001b[0m\u001b[0;34m[\u001b[0m\u001b[0mcol_name\u001b[0m\u001b[0;34m]\u001b[0m \u001b[0;34m>=\u001b[0m \u001b[0mquart\u001b[0m\u001b[0;34m)\u001b[0m\u001b[0;34m\u001b[0m\u001b[0m\n\u001b[0;32m---> 14\u001b[0;31m                 \u001b[0mfns\u001b[0m\u001b[0;34m[\u001b[0m\u001b[0mcol_name\u001b[0m\u001b[0;34m+\u001b[0m\u001b[0mstr\u001b[0m\u001b[0;34m(\u001b[0m\u001b[0mix\u001b[0m\u001b[0;34m)\u001b[0m\u001b[0;34m]\u001b[0m \u001b[0;34m=\u001b[0m \u001b[0;34m[\u001b[0m\u001b[0mcol_name\u001b[0m\u001b[0;34m,\u001b[0m \u001b[0;32mlambda\u001b[0m \u001b[0mx\u001b[0m\u001b[0;34m:\u001b[0m \u001b[0mx\u001b[0m\u001b[0;34m[\u001b[0m\u001b[0mcol_name\u001b[0m\u001b[0;34m]\u001b[0m\u001b[0;34m>=\u001b[0m\u001b[0mquart\u001b[0m\u001b[0;34m]\u001b[0m\u001b[0;34m\u001b[0m\u001b[0m\n\u001b[0m\u001b[1;32m     15\u001b[0m         \u001b[0;32mreturn\u001b[0m \u001b[0mnew\u001b[0m\u001b[0;34m,\u001b[0m \u001b[0mfns\u001b[0m\u001b[0;34m\u001b[0m\u001b[0m\n",
      "\u001b[0;32m/Users/justin/anaconda/envs/py36/lib/python3.6/site-packages/pandas/core/series.py\u001b[0m in \u001b[0;36m__getitem__\u001b[0;34m(self, key)\u001b[0m\n\u001b[1;32m    601\u001b[0m         \u001b[0mkey\u001b[0m \u001b[0;34m=\u001b[0m \u001b[0mcom\u001b[0m\u001b[0;34m.\u001b[0m\u001b[0m_apply_if_callable\u001b[0m\u001b[0;34m(\u001b[0m\u001b[0mkey\u001b[0m\u001b[0;34m,\u001b[0m \u001b[0mself\u001b[0m\u001b[0;34m)\u001b[0m\u001b[0;34m\u001b[0m\u001b[0m\n\u001b[1;32m    602\u001b[0m         \u001b[0;32mtry\u001b[0m\u001b[0;34m:\u001b[0m\u001b[0;34m\u001b[0m\u001b[0m\n\u001b[0;32m--> 603\u001b[0;31m             \u001b[0mresult\u001b[0m \u001b[0;34m=\u001b[0m \u001b[0mself\u001b[0m\u001b[0;34m.\u001b[0m\u001b[0mindex\u001b[0m\u001b[0;34m.\u001b[0m\u001b[0mget_value\u001b[0m\u001b[0;34m(\u001b[0m\u001b[0mself\u001b[0m\u001b[0;34m,\u001b[0m \u001b[0mkey\u001b[0m\u001b[0;34m)\u001b[0m\u001b[0;34m\u001b[0m\u001b[0m\n\u001b[0m\u001b[1;32m    604\u001b[0m \u001b[0;34m\u001b[0m\u001b[0m\n\u001b[1;32m    605\u001b[0m             \u001b[0;32mif\u001b[0m \u001b[0;32mnot\u001b[0m \u001b[0mis_scalar\u001b[0m\u001b[0;34m(\u001b[0m\u001b[0mresult\u001b[0m\u001b[0;34m)\u001b[0m\u001b[0;34m:\u001b[0m\u001b[0;34m\u001b[0m\u001b[0m\n",
      "\u001b[0;32m/Users/justin/anaconda/envs/py36/lib/python3.6/site-packages/pandas/indexes/base.py\u001b[0m in \u001b[0;36mget_value\u001b[0;34m(self, series, key)\u001b[0m\n\u001b[1;32m   2181\u001b[0m                     \u001b[0;32mraise\u001b[0m \u001b[0mInvalidIndexError\u001b[0m\u001b[0;34m(\u001b[0m\u001b[0mkey\u001b[0m\u001b[0;34m)\u001b[0m\u001b[0;34m\u001b[0m\u001b[0m\n\u001b[1;32m   2182\u001b[0m                 \u001b[0;32melse\u001b[0m\u001b[0;34m:\u001b[0m\u001b[0;34m\u001b[0m\u001b[0m\n\u001b[0;32m-> 2183\u001b[0;31m                     \u001b[0;32mraise\u001b[0m \u001b[0me1\u001b[0m\u001b[0;34m\u001b[0m\u001b[0m\n\u001b[0m\u001b[1;32m   2184\u001b[0m             \u001b[0;32mexcept\u001b[0m \u001b[0mException\u001b[0m\u001b[0;34m:\u001b[0m  \u001b[0;31m# pragma: no cover\u001b[0m\u001b[0;34m\u001b[0m\u001b[0m\n\u001b[1;32m   2185\u001b[0m                 \u001b[0;32mraise\u001b[0m \u001b[0me1\u001b[0m\u001b[0;34m\u001b[0m\u001b[0m\n",
      "\u001b[0;32m/Users/justin/anaconda/envs/py36/lib/python3.6/site-packages/pandas/indexes/base.py\u001b[0m in \u001b[0;36mget_value\u001b[0;34m(self, series, key)\u001b[0m\n\u001b[1;32m   2167\u001b[0m         \u001b[0;32mtry\u001b[0m\u001b[0;34m:\u001b[0m\u001b[0;34m\u001b[0m\u001b[0m\n\u001b[1;32m   2168\u001b[0m             return self._engine.get_value(s, k,\n\u001b[0;32m-> 2169\u001b[0;31m                                           tz=getattr(series.dtype, 'tz', None))\n\u001b[0m\u001b[1;32m   2170\u001b[0m         \u001b[0;32mexcept\u001b[0m \u001b[0mKeyError\u001b[0m \u001b[0;32mas\u001b[0m \u001b[0me1\u001b[0m\u001b[0;34m:\u001b[0m\u001b[0;34m\u001b[0m\u001b[0m\n\u001b[1;32m   2171\u001b[0m             \u001b[0;32mif\u001b[0m \u001b[0mlen\u001b[0m\u001b[0;34m(\u001b[0m\u001b[0mself\u001b[0m\u001b[0;34m)\u001b[0m \u001b[0;34m>\u001b[0m \u001b[0;36m0\u001b[0m \u001b[0;32mand\u001b[0m \u001b[0mself\u001b[0m\u001b[0;34m.\u001b[0m\u001b[0minferred_type\u001b[0m \u001b[0;32min\u001b[0m \u001b[0;34m[\u001b[0m\u001b[0;34m'integer'\u001b[0m\u001b[0;34m,\u001b[0m \u001b[0;34m'boolean'\u001b[0m\u001b[0;34m]\u001b[0m\u001b[0;34m:\u001b[0m\u001b[0;34m\u001b[0m\u001b[0m\n",
      "\u001b[0;32mpandas/index.pyx\u001b[0m in \u001b[0;36mpandas.index.IndexEngine.get_value (pandas/index.c:3557)\u001b[0;34m()\u001b[0m\n",
      "\u001b[0;32mpandas/index.pyx\u001b[0m in \u001b[0;36mpandas.index.IndexEngine.get_value (pandas/index.c:3240)\u001b[0;34m()\u001b[0m\n",
      "\u001b[0;32mpandas/index.pyx\u001b[0m in \u001b[0;36mpandas.index.IndexEngine.get_loc (pandas/index.c:4279)\u001b[0;34m()\u001b[0m\n",
      "\u001b[0;32mpandas/src/hashtable_class_helper.pxi\u001b[0m in \u001b[0;36mpandas.hashtable.PyObjectHashTable.get_item (pandas/hashtable.c:13742)\u001b[0;34m()\u001b[0m\n",
      "\u001b[0;32mpandas/src/hashtable_class_helper.pxi\u001b[0m in \u001b[0;36mpandas.hashtable.PyObjectHashTable.get_item (pandas/hashtable.c:13696)\u001b[0;34m()\u001b[0m\n",
      "\u001b[0;31mKeyError\u001b[0m: 'PAY_AMT60.80.5'"
     ]
    }
   ],
   "source": [
    "dt.f(train_x_t.loc[0,:])"
   ]
  },
  {
   "cell_type": "code",
   "execution_count": null,
   "metadata": {
    "collapsed": true
   },
   "outputs": [],
   "source": []
  }
 ],
 "metadata": {
  "kernelspec": {
   "display_name": "Python 3",
   "language": "python",
   "name": "python3"
  },
  "language_info": {
   "codemirror_mode": {
    "name": "ipython",
    "version": 3
   },
   "file_extension": ".py",
   "mimetype": "text/x-python",
   "name": "python",
   "nbconvert_exporter": "python",
   "pygments_lexer": "ipython3",
   "version": "3.6.0"
  }
 },
 "nbformat": 4,
 "nbformat_minor": 2
}
